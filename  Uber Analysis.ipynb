{
 "cells": [
  {
   "cell_type": "code",
   "execution_count": 1,
   "id": "b12abe8e-9ec8-4f0a-b575-02b804728614",
   "metadata": {},
   "outputs": [],
   "source": [
    "import pandas as pd\n",
    "import numpy as np\n",
    "import matplotlib.pyplot as plt \n",
    "import seaborn as sns"
   ]
  },
  {
   "cell_type": "code",
   "execution_count": 2,
   "id": "fe5d9dd0-3717-44cb-8e7e-3eaf80cfcb2f",
   "metadata": {},
   "outputs": [],
   "source": [
    "# importing Uber data File\n",
    "uber_data = pd.read_csv(r\"C:\\Users\\M.Srimanth\\Downloads\\uber_data.csv\")"
   ]
  },
  {
   "cell_type": "code",
   "execution_count": 3,
   "id": "33f9f042-e3b1-42a1-8f44-032ecd506a9d",
   "metadata": {},
   "outputs": [
    {
     "data": {
      "text/html": [
       "<div>\n",
       "<style scoped>\n",
       "    .dataframe tbody tr th:only-of-type {\n",
       "        vertical-align: middle;\n",
       "    }\n",
       "\n",
       "    .dataframe tbody tr th {\n",
       "        vertical-align: top;\n",
       "    }\n",
       "\n",
       "    .dataframe thead th {\n",
       "        text-align: right;\n",
       "    }\n",
       "</style>\n",
       "<table border=\"1\" class=\"dataframe\">\n",
       "  <thead>\n",
       "    <tr style=\"text-align: right;\">\n",
       "      <th></th>\n",
       "      <th>VendorID</th>\n",
       "      <th>tpep_pickup_datetime</th>\n",
       "      <th>tpep_dropoff_datetime</th>\n",
       "      <th>passenger_count</th>\n",
       "      <th>trip_distance</th>\n",
       "      <th>pickup_longitude</th>\n",
       "      <th>pickup_latitude</th>\n",
       "      <th>RatecodeID</th>\n",
       "      <th>store_and_fwd_flag</th>\n",
       "      <th>dropoff_longitude</th>\n",
       "      <th>dropoff_latitude</th>\n",
       "      <th>payment_type</th>\n",
       "      <th>fare_amount</th>\n",
       "      <th>extra</th>\n",
       "      <th>mta_tax</th>\n",
       "      <th>tip_amount</th>\n",
       "      <th>tolls_amount</th>\n",
       "      <th>improvement_surcharge</th>\n",
       "      <th>total_amount</th>\n",
       "    </tr>\n",
       "  </thead>\n",
       "  <tbody>\n",
       "    <tr>\n",
       "      <th>0</th>\n",
       "      <td>1</td>\n",
       "      <td>2016-03-01 00:00:00</td>\n",
       "      <td>2016-03-01 00:07:55</td>\n",
       "      <td>1</td>\n",
       "      <td>2.50</td>\n",
       "      <td>-73.976746</td>\n",
       "      <td>40.765152</td>\n",
       "      <td>1</td>\n",
       "      <td>N</td>\n",
       "      <td>-74.004265</td>\n",
       "      <td>40.746128</td>\n",
       "      <td>1</td>\n",
       "      <td>9.0</td>\n",
       "      <td>0.5</td>\n",
       "      <td>0.5</td>\n",
       "      <td>2.05</td>\n",
       "      <td>0.00</td>\n",
       "      <td>0.3</td>\n",
       "      <td>12.35</td>\n",
       "    </tr>\n",
       "    <tr>\n",
       "      <th>1</th>\n",
       "      <td>1</td>\n",
       "      <td>2016-03-01 00:00:00</td>\n",
       "      <td>2016-03-01 00:11:06</td>\n",
       "      <td>1</td>\n",
       "      <td>2.90</td>\n",
       "      <td>-73.983482</td>\n",
       "      <td>40.767925</td>\n",
       "      <td>1</td>\n",
       "      <td>N</td>\n",
       "      <td>-74.005943</td>\n",
       "      <td>40.733166</td>\n",
       "      <td>1</td>\n",
       "      <td>11.0</td>\n",
       "      <td>0.5</td>\n",
       "      <td>0.5</td>\n",
       "      <td>3.05</td>\n",
       "      <td>0.00</td>\n",
       "      <td>0.3</td>\n",
       "      <td>15.35</td>\n",
       "    </tr>\n",
       "    <tr>\n",
       "      <th>2</th>\n",
       "      <td>2</td>\n",
       "      <td>2016-03-01 00:00:00</td>\n",
       "      <td>2016-03-01 00:31:06</td>\n",
       "      <td>2</td>\n",
       "      <td>19.98</td>\n",
       "      <td>-73.782021</td>\n",
       "      <td>40.644810</td>\n",
       "      <td>1</td>\n",
       "      <td>N</td>\n",
       "      <td>-73.974541</td>\n",
       "      <td>40.675770</td>\n",
       "      <td>1</td>\n",
       "      <td>54.5</td>\n",
       "      <td>0.5</td>\n",
       "      <td>0.5</td>\n",
       "      <td>8.00</td>\n",
       "      <td>0.00</td>\n",
       "      <td>0.3</td>\n",
       "      <td>63.80</td>\n",
       "    </tr>\n",
       "    <tr>\n",
       "      <th>3</th>\n",
       "      <td>2</td>\n",
       "      <td>2016-03-01 00:00:00</td>\n",
       "      <td>2016-03-01 00:00:00</td>\n",
       "      <td>3</td>\n",
       "      <td>10.78</td>\n",
       "      <td>-73.863419</td>\n",
       "      <td>40.769814</td>\n",
       "      <td>1</td>\n",
       "      <td>N</td>\n",
       "      <td>-73.969650</td>\n",
       "      <td>40.757767</td>\n",
       "      <td>1</td>\n",
       "      <td>31.5</td>\n",
       "      <td>0.0</td>\n",
       "      <td>0.5</td>\n",
       "      <td>3.78</td>\n",
       "      <td>5.54</td>\n",
       "      <td>0.3</td>\n",
       "      <td>41.62</td>\n",
       "    </tr>\n",
       "    <tr>\n",
       "      <th>4</th>\n",
       "      <td>2</td>\n",
       "      <td>2016-03-01 00:00:00</td>\n",
       "      <td>2016-03-01 00:00:00</td>\n",
       "      <td>5</td>\n",
       "      <td>30.43</td>\n",
       "      <td>-73.971741</td>\n",
       "      <td>40.792183</td>\n",
       "      <td>3</td>\n",
       "      <td>N</td>\n",
       "      <td>-74.177170</td>\n",
       "      <td>40.695053</td>\n",
       "      <td>1</td>\n",
       "      <td>98.0</td>\n",
       "      <td>0.0</td>\n",
       "      <td>0.0</td>\n",
       "      <td>0.00</td>\n",
       "      <td>15.50</td>\n",
       "      <td>0.3</td>\n",
       "      <td>113.80</td>\n",
       "    </tr>\n",
       "  </tbody>\n",
       "</table>\n",
       "</div>"
      ],
      "text/plain": [
       "   VendorID tpep_pickup_datetime tpep_dropoff_datetime  passenger_count  \\\n",
       "0         1  2016-03-01 00:00:00   2016-03-01 00:07:55                1   \n",
       "1         1  2016-03-01 00:00:00   2016-03-01 00:11:06                1   \n",
       "2         2  2016-03-01 00:00:00   2016-03-01 00:31:06                2   \n",
       "3         2  2016-03-01 00:00:00   2016-03-01 00:00:00                3   \n",
       "4         2  2016-03-01 00:00:00   2016-03-01 00:00:00                5   \n",
       "\n",
       "   trip_distance  pickup_longitude  pickup_latitude  RatecodeID  \\\n",
       "0           2.50        -73.976746        40.765152           1   \n",
       "1           2.90        -73.983482        40.767925           1   \n",
       "2          19.98        -73.782021        40.644810           1   \n",
       "3          10.78        -73.863419        40.769814           1   \n",
       "4          30.43        -73.971741        40.792183           3   \n",
       "\n",
       "  store_and_fwd_flag  dropoff_longitude  dropoff_latitude  payment_type  \\\n",
       "0                  N         -74.004265         40.746128             1   \n",
       "1                  N         -74.005943         40.733166             1   \n",
       "2                  N         -73.974541         40.675770             1   \n",
       "3                  N         -73.969650         40.757767             1   \n",
       "4                  N         -74.177170         40.695053             1   \n",
       "\n",
       "   fare_amount  extra  mta_tax  tip_amount  tolls_amount  \\\n",
       "0          9.0    0.5      0.5        2.05          0.00   \n",
       "1         11.0    0.5      0.5        3.05          0.00   \n",
       "2         54.5    0.5      0.5        8.00          0.00   \n",
       "3         31.5    0.0      0.5        3.78          5.54   \n",
       "4         98.0    0.0      0.0        0.00         15.50   \n",
       "\n",
       "   improvement_surcharge  total_amount  \n",
       "0                    0.3         12.35  \n",
       "1                    0.3         15.35  \n",
       "2                    0.3         63.80  \n",
       "3                    0.3         41.62  \n",
       "4                    0.3        113.80  "
      ]
     },
     "execution_count": 3,
     "metadata": {},
     "output_type": "execute_result"
    }
   ],
   "source": [
    "uber_data.head()"
   ]
  },
  {
   "cell_type": "code",
   "execution_count": 4,
   "id": "c5e35cbe-07e3-48bb-96e9-9a60dad99147",
   "metadata": {},
   "outputs": [
    {
     "name": "stdout",
     "output_type": "stream",
     "text": [
      "<class 'pandas.core.frame.DataFrame'>\n",
      "RangeIndex: 100000 entries, 0 to 99999\n",
      "Data columns (total 19 columns):\n",
      " #   Column                 Non-Null Count   Dtype  \n",
      "---  ------                 --------------   -----  \n",
      " 0   VendorID               100000 non-null  int64  \n",
      " 1   tpep_pickup_datetime   100000 non-null  object \n",
      " 2   tpep_dropoff_datetime  100000 non-null  object \n",
      " 3   passenger_count        100000 non-null  int64  \n",
      " 4   trip_distance          100000 non-null  float64\n",
      " 5   pickup_longitude       100000 non-null  float64\n",
      " 6   pickup_latitude        100000 non-null  float64\n",
      " 7   RatecodeID             100000 non-null  int64  \n",
      " 8   store_and_fwd_flag     100000 non-null  object \n",
      " 9   dropoff_longitude      100000 non-null  float64\n",
      " 10  dropoff_latitude       100000 non-null  float64\n",
      " 11  payment_type           100000 non-null  int64  \n",
      " 12  fare_amount            100000 non-null  float64\n",
      " 13  extra                  100000 non-null  float64\n",
      " 14  mta_tax                100000 non-null  float64\n",
      " 15  tip_amount             100000 non-null  float64\n",
      " 16  tolls_amount           100000 non-null  float64\n",
      " 17  improvement_surcharge  100000 non-null  float64\n",
      " 18  total_amount           100000 non-null  float64\n",
      "dtypes: float64(12), int64(4), object(3)\n",
      "memory usage: 14.5+ MB\n"
     ]
    }
   ],
   "source": [
    "uber_data.info()"
   ]
  },
  {
   "cell_type": "code",
   "execution_count": 5,
   "id": "0171dacf-fdbc-4a2f-a11f-f26034c60589",
   "metadata": {},
   "outputs": [],
   "source": [
    "# Changing  tpep_pickup_datetime, tpep_dropoff_datetime 's  object DataType to datetime DataType\n",
    "\n",
    "uber_data['tpep_pickup_datetime'] = pd.to_datetime(uber_data['tpep_pickup_datetime'])\n",
    "uber_data['tpep_dropoff_datetime'] = pd.to_datetime(uber_data['tpep_dropoff_datetime'])"
   ]
  },
  {
   "cell_type": "code",
   "execution_count": 6,
   "id": "c3a793a0-c831-4b81-86f6-3cf53abe2c86",
   "metadata": {},
   "outputs": [
    {
     "name": "stdout",
     "output_type": "stream",
     "text": [
      "<class 'pandas.core.frame.DataFrame'>\n",
      "RangeIndex: 100000 entries, 0 to 99999\n",
      "Data columns (total 19 columns):\n",
      " #   Column                 Non-Null Count   Dtype         \n",
      "---  ------                 --------------   -----         \n",
      " 0   VendorID               100000 non-null  int64         \n",
      " 1   tpep_pickup_datetime   100000 non-null  datetime64[ns]\n",
      " 2   tpep_dropoff_datetime  100000 non-null  datetime64[ns]\n",
      " 3   passenger_count        100000 non-null  int64         \n",
      " 4   trip_distance          100000 non-null  float64       \n",
      " 5   pickup_longitude       100000 non-null  float64       \n",
      " 6   pickup_latitude        100000 non-null  float64       \n",
      " 7   RatecodeID             100000 non-null  int64         \n",
      " 8   store_and_fwd_flag     100000 non-null  object        \n",
      " 9   dropoff_longitude      100000 non-null  float64       \n",
      " 10  dropoff_latitude       100000 non-null  float64       \n",
      " 11  payment_type           100000 non-null  int64         \n",
      " 12  fare_amount            100000 non-null  float64       \n",
      " 13  extra                  100000 non-null  float64       \n",
      " 14  mta_tax                100000 non-null  float64       \n",
      " 15  tip_amount             100000 non-null  float64       \n",
      " 16  tolls_amount           100000 non-null  float64       \n",
      " 17  improvement_surcharge  100000 non-null  float64       \n",
      " 18  total_amount           100000 non-null  float64       \n",
      "dtypes: datetime64[ns](2), float64(12), int64(4), object(1)\n",
      "memory usage: 14.5+ MB\n"
     ]
    }
   ],
   "source": [
    "uber_data.info()"
   ]
  },
  {
   "cell_type": "code",
   "execution_count": null,
   "id": "71db26a6-8c41-4d67-9ec4-79de6784e41d",
   "metadata": {},
   "outputs": [],
   "source": []
  },
  {
   "cell_type": "code",
   "execution_count": 7,
   "id": "0326896c-6397-4343-a826-6d81a28ccec0",
   "metadata": {},
   "outputs": [
    {
     "data": {
      "text/html": [
       "<div>\n",
       "<style scoped>\n",
       "    .dataframe tbody tr th:only-of-type {\n",
       "        vertical-align: middle;\n",
       "    }\n",
       "\n",
       "    .dataframe tbody tr th {\n",
       "        vertical-align: top;\n",
       "    }\n",
       "\n",
       "    .dataframe thead th {\n",
       "        text-align: right;\n",
       "    }\n",
       "</style>\n",
       "<table border=\"1\" class=\"dataframe\">\n",
       "  <thead>\n",
       "    <tr style=\"text-align: right;\">\n",
       "      <th></th>\n",
       "      <th>VendorID</th>\n",
       "      <th>tpep_pickup_datetime</th>\n",
       "      <th>tpep_dropoff_datetime</th>\n",
       "      <th>passenger_count</th>\n",
       "      <th>trip_distance</th>\n",
       "      <th>pickup_longitude</th>\n",
       "      <th>pickup_latitude</th>\n",
       "      <th>RatecodeID</th>\n",
       "      <th>dropoff_longitude</th>\n",
       "      <th>dropoff_latitude</th>\n",
       "      <th>payment_type</th>\n",
       "      <th>fare_amount</th>\n",
       "      <th>extra</th>\n",
       "      <th>mta_tax</th>\n",
       "      <th>tip_amount</th>\n",
       "      <th>tolls_amount</th>\n",
       "      <th>improvement_surcharge</th>\n",
       "      <th>total_amount</th>\n",
       "    </tr>\n",
       "  </thead>\n",
       "  <tbody>\n",
       "    <tr>\n",
       "      <th>count</th>\n",
       "      <td>100000.000</td>\n",
       "      <td>100000</td>\n",
       "      <td>100000</td>\n",
       "      <td>100000.000</td>\n",
       "      <td>100000.000</td>\n",
       "      <td>100000.000</td>\n",
       "      <td>100000.000</td>\n",
       "      <td>100000.000</td>\n",
       "      <td>100000.000</td>\n",
       "      <td>100000.000</td>\n",
       "      <td>100000.000</td>\n",
       "      <td>100000.000</td>\n",
       "      <td>100000.000</td>\n",
       "      <td>100000.000</td>\n",
       "      <td>100000.000</td>\n",
       "      <td>100000.000</td>\n",
       "      <td>100000.000</td>\n",
       "      <td>100000.000</td>\n",
       "    </tr>\n",
       "    <tr>\n",
       "      <th>mean</th>\n",
       "      <td>1.883</td>\n",
       "      <td>2016-03-08 06:42:50.246160128</td>\n",
       "      <td>2016-03-08 06:59:44.592359936</td>\n",
       "      <td>1.929</td>\n",
       "      <td>3.034</td>\n",
       "      <td>-73.289</td>\n",
       "      <td>40.375</td>\n",
       "      <td>1.040</td>\n",
       "      <td>-73.312</td>\n",
       "      <td>40.388</td>\n",
       "      <td>1.338</td>\n",
       "      <td>13.253</td>\n",
       "      <td>0.102</td>\n",
       "      <td>0.497</td>\n",
       "      <td>1.873</td>\n",
       "      <td>0.367</td>\n",
       "      <td>0.299</td>\n",
       "      <td>16.391</td>\n",
       "    </tr>\n",
       "    <tr>\n",
       "      <th>min</th>\n",
       "      <td>1.000</td>\n",
       "      <td>2016-03-01 00:00:00</td>\n",
       "      <td>2016-03-01 00:00:00</td>\n",
       "      <td>0.000</td>\n",
       "      <td>0.000</td>\n",
       "      <td>-121.933</td>\n",
       "      <td>0.000</td>\n",
       "      <td>1.000</td>\n",
       "      <td>-121.933</td>\n",
       "      <td>0.000</td>\n",
       "      <td>1.000</td>\n",
       "      <td>-47.000</td>\n",
       "      <td>-0.500</td>\n",
       "      <td>-0.500</td>\n",
       "      <td>-2.700</td>\n",
       "      <td>0.000</td>\n",
       "      <td>-0.300</td>\n",
       "      <td>-47.300</td>\n",
       "    </tr>\n",
       "    <tr>\n",
       "      <th>25%</th>\n",
       "      <td>2.000</td>\n",
       "      <td>2016-03-10 07:18:30</td>\n",
       "      <td>2016-03-10 07:29:44.750000128</td>\n",
       "      <td>1.000</td>\n",
       "      <td>0.990</td>\n",
       "      <td>-73.991</td>\n",
       "      <td>40.739</td>\n",
       "      <td>1.000</td>\n",
       "      <td>-73.991</td>\n",
       "      <td>40.739</td>\n",
       "      <td>1.000</td>\n",
       "      <td>6.500</td>\n",
       "      <td>0.000</td>\n",
       "      <td>0.500</td>\n",
       "      <td>0.000</td>\n",
       "      <td>0.000</td>\n",
       "      <td>0.300</td>\n",
       "      <td>8.300</td>\n",
       "    </tr>\n",
       "    <tr>\n",
       "      <th>50%</th>\n",
       "      <td>2.000</td>\n",
       "      <td>2016-03-10 09:29:43.500000</td>\n",
       "      <td>2016-03-10 09:45:47</td>\n",
       "      <td>1.000</td>\n",
       "      <td>1.670</td>\n",
       "      <td>-73.980</td>\n",
       "      <td>40.755</td>\n",
       "      <td>1.000</td>\n",
       "      <td>-73.978</td>\n",
       "      <td>40.755</td>\n",
       "      <td>1.000</td>\n",
       "      <td>9.500</td>\n",
       "      <td>0.000</td>\n",
       "      <td>0.500</td>\n",
       "      <td>1.360</td>\n",
       "      <td>0.000</td>\n",
       "      <td>0.300</td>\n",
       "      <td>11.800</td>\n",
       "    </tr>\n",
       "    <tr>\n",
       "      <th>75%</th>\n",
       "      <td>2.000</td>\n",
       "      <td>2016-03-10 12:03:33.249999872</td>\n",
       "      <td>2016-03-10 12:20:23.249999872</td>\n",
       "      <td>2.000</td>\n",
       "      <td>3.200</td>\n",
       "      <td>-73.964</td>\n",
       "      <td>40.769</td>\n",
       "      <td>1.000</td>\n",
       "      <td>-73.962</td>\n",
       "      <td>40.768</td>\n",
       "      <td>2.000</td>\n",
       "      <td>15.000</td>\n",
       "      <td>0.000</td>\n",
       "      <td>0.500</td>\n",
       "      <td>2.460</td>\n",
       "      <td>0.000</td>\n",
       "      <td>0.300</td>\n",
       "      <td>18.300</td>\n",
       "    </tr>\n",
       "    <tr>\n",
       "      <th>max</th>\n",
       "      <td>2.000</td>\n",
       "      <td>2016-03-10 14:27:09</td>\n",
       "      <td>2016-03-11 14:19:17</td>\n",
       "      <td>6.000</td>\n",
       "      <td>184.400</td>\n",
       "      <td>0.000</td>\n",
       "      <td>41.205</td>\n",
       "      <td>6.000</td>\n",
       "      <td>0.000</td>\n",
       "      <td>42.667</td>\n",
       "      <td>4.000</td>\n",
       "      <td>819.500</td>\n",
       "      <td>4.500</td>\n",
       "      <td>0.500</td>\n",
       "      <td>125.880</td>\n",
       "      <td>25.540</td>\n",
       "      <td>0.300</td>\n",
       "      <td>832.800</td>\n",
       "    </tr>\n",
       "    <tr>\n",
       "      <th>std</th>\n",
       "      <td>0.321</td>\n",
       "      <td>NaN</td>\n",
       "      <td>NaN</td>\n",
       "      <td>1.589</td>\n",
       "      <td>3.847</td>\n",
       "      <td>7.090</td>\n",
       "      <td>3.901</td>\n",
       "      <td>0.284</td>\n",
       "      <td>6.964</td>\n",
       "      <td>3.834</td>\n",
       "      <td>0.481</td>\n",
       "      <td>11.686</td>\n",
       "      <td>0.202</td>\n",
       "      <td>0.043</td>\n",
       "      <td>2.619</td>\n",
       "      <td>1.528</td>\n",
       "      <td>0.017</td>\n",
       "      <td>14.437</td>\n",
       "    </tr>\n",
       "  </tbody>\n",
       "</table>\n",
       "</div>"
      ],
      "text/plain": [
       "         VendorID           tpep_pickup_datetime  \\\n",
       "count  100000.000                         100000   \n",
       "mean        1.883  2016-03-08 06:42:50.246160128   \n",
       "min         1.000            2016-03-01 00:00:00   \n",
       "25%         2.000            2016-03-10 07:18:30   \n",
       "50%         2.000     2016-03-10 09:29:43.500000   \n",
       "75%         2.000  2016-03-10 12:03:33.249999872   \n",
       "max         2.000            2016-03-10 14:27:09   \n",
       "std         0.321                            NaN   \n",
       "\n",
       "               tpep_dropoff_datetime  passenger_count  trip_distance  \\\n",
       "count                         100000       100000.000     100000.000   \n",
       "mean   2016-03-08 06:59:44.592359936            1.929          3.034   \n",
       "min              2016-03-01 00:00:00            0.000          0.000   \n",
       "25%    2016-03-10 07:29:44.750000128            1.000          0.990   \n",
       "50%              2016-03-10 09:45:47            1.000          1.670   \n",
       "75%    2016-03-10 12:20:23.249999872            2.000          3.200   \n",
       "max              2016-03-11 14:19:17            6.000        184.400   \n",
       "std                              NaN            1.589          3.847   \n",
       "\n",
       "       pickup_longitude  pickup_latitude  RatecodeID  dropoff_longitude  \\\n",
       "count        100000.000       100000.000  100000.000         100000.000   \n",
       "mean            -73.289           40.375       1.040            -73.312   \n",
       "min            -121.933            0.000       1.000           -121.933   \n",
       "25%             -73.991           40.739       1.000            -73.991   \n",
       "50%             -73.980           40.755       1.000            -73.978   \n",
       "75%             -73.964           40.769       1.000            -73.962   \n",
       "max               0.000           41.205       6.000              0.000   \n",
       "std               7.090            3.901       0.284              6.964   \n",
       "\n",
       "       dropoff_latitude  payment_type  fare_amount       extra     mta_tax  \\\n",
       "count        100000.000    100000.000   100000.000  100000.000  100000.000   \n",
       "mean             40.388         1.338       13.253       0.102       0.497   \n",
       "min               0.000         1.000      -47.000      -0.500      -0.500   \n",
       "25%              40.739         1.000        6.500       0.000       0.500   \n",
       "50%              40.755         1.000        9.500       0.000       0.500   \n",
       "75%              40.768         2.000       15.000       0.000       0.500   \n",
       "max              42.667         4.000      819.500       4.500       0.500   \n",
       "std               3.834         0.481       11.686       0.202       0.043   \n",
       "\n",
       "       tip_amount  tolls_amount  improvement_surcharge  total_amount  \n",
       "count  100000.000    100000.000             100000.000    100000.000  \n",
       "mean        1.873         0.367                  0.299        16.391  \n",
       "min        -2.700         0.000                 -0.300       -47.300  \n",
       "25%         0.000         0.000                  0.300         8.300  \n",
       "50%         1.360         0.000                  0.300        11.800  \n",
       "75%         2.460         0.000                  0.300        18.300  \n",
       "max       125.880        25.540                  0.300       832.800  \n",
       "std         2.619         1.528                  0.017        14.437  "
      ]
     },
     "execution_count": 7,
     "metadata": {},
     "output_type": "execute_result"
    }
   ],
   "source": [
    "uber_data.describe().round(3)"
   ]
  },
  {
   "cell_type": "code",
   "execution_count": 165,
   "id": "b9659afa-4da5-4725-aead-281f28465136",
   "metadata": {},
   "outputs": [
    {
     "data": {
      "text/plain": [
       "0"
      ]
     },
     "execution_count": 165,
     "metadata": {},
     "output_type": "execute_result"
    }
   ],
   "source": [
    "# checking Duplicate Data Present\n",
    "uber_data.duplicated().sum()"
   ]
  },
  {
   "cell_type": "code",
   "execution_count": 167,
   "id": "9e3870da-c9b6-4338-84c3-d4da8716d987",
   "metadata": {},
   "outputs": [
    {
     "data": {
      "text/plain": [
       "array([1, 2], dtype=int64)"
      ]
     },
     "execution_count": 167,
     "metadata": {},
     "output_type": "execute_result"
    }
   ],
   "source": [
    "# Checking How much Vendor Id present\n",
    "uber_data['VendorID'].unique()"
   ]
  },
  {
   "cell_type": "markdown",
   "id": "7e086d48-25fb-4dbf-9040-1f4d89590121",
   "metadata": {},
   "source": [
    "# Creating Dimensional Tabel, And Fact Tabel For Uber_data "
   ]
  },
  {
   "cell_type": "code",
   "execution_count": 9,
   "id": "a0ff5f59-2835-4cad-94e4-bc9d233f03b6",
   "metadata": {},
   "outputs": [],
   "source": [
    "df = uber_data.drop_duplicates().reset_index(drop = True)"
   ]
  },
  {
   "cell_type": "code",
   "execution_count": 10,
   "id": "04b54504-4b80-4f4f-ae5d-da4a7f4a3613",
   "metadata": {},
   "outputs": [],
   "source": [
    "df['Trip_index'] = uber_data.index"
   ]
  },
  {
   "cell_type": "code",
   "execution_count": 11,
   "id": "ca9e574d-c2f1-4f2d-9d84-3958b9bf7738",
   "metadata": {},
   "outputs": [
    {
     "data": {
      "text/html": [
       "<div>\n",
       "<style scoped>\n",
       "    .dataframe tbody tr th:only-of-type {\n",
       "        vertical-align: middle;\n",
       "    }\n",
       "\n",
       "    .dataframe tbody tr th {\n",
       "        vertical-align: top;\n",
       "    }\n",
       "\n",
       "    .dataframe thead th {\n",
       "        text-align: right;\n",
       "    }\n",
       "</style>\n",
       "<table border=\"1\" class=\"dataframe\">\n",
       "  <thead>\n",
       "    <tr style=\"text-align: right;\">\n",
       "      <th></th>\n",
       "      <th>VendorID</th>\n",
       "      <th>tpep_pickup_datetime</th>\n",
       "      <th>tpep_dropoff_datetime</th>\n",
       "      <th>passenger_count</th>\n",
       "      <th>trip_distance</th>\n",
       "      <th>pickup_longitude</th>\n",
       "      <th>pickup_latitude</th>\n",
       "      <th>RatecodeID</th>\n",
       "      <th>store_and_fwd_flag</th>\n",
       "      <th>dropoff_longitude</th>\n",
       "      <th>dropoff_latitude</th>\n",
       "      <th>payment_type</th>\n",
       "      <th>fare_amount</th>\n",
       "      <th>extra</th>\n",
       "      <th>mta_tax</th>\n",
       "      <th>tip_amount</th>\n",
       "      <th>tolls_amount</th>\n",
       "      <th>improvement_surcharge</th>\n",
       "      <th>total_amount</th>\n",
       "      <th>Trip_index</th>\n",
       "    </tr>\n",
       "  </thead>\n",
       "  <tbody>\n",
       "    <tr>\n",
       "      <th>0</th>\n",
       "      <td>1</td>\n",
       "      <td>2016-03-01 00:00:00</td>\n",
       "      <td>2016-03-01 00:07:55</td>\n",
       "      <td>1</td>\n",
       "      <td>2.50</td>\n",
       "      <td>-73.976746</td>\n",
       "      <td>40.765152</td>\n",
       "      <td>1</td>\n",
       "      <td>N</td>\n",
       "      <td>-74.004265</td>\n",
       "      <td>40.746128</td>\n",
       "      <td>1</td>\n",
       "      <td>9.0</td>\n",
       "      <td>0.5</td>\n",
       "      <td>0.5</td>\n",
       "      <td>2.05</td>\n",
       "      <td>0.00</td>\n",
       "      <td>0.3</td>\n",
       "      <td>12.35</td>\n",
       "      <td>0</td>\n",
       "    </tr>\n",
       "    <tr>\n",
       "      <th>1</th>\n",
       "      <td>1</td>\n",
       "      <td>2016-03-01 00:00:00</td>\n",
       "      <td>2016-03-01 00:11:06</td>\n",
       "      <td>1</td>\n",
       "      <td>2.90</td>\n",
       "      <td>-73.983482</td>\n",
       "      <td>40.767925</td>\n",
       "      <td>1</td>\n",
       "      <td>N</td>\n",
       "      <td>-74.005943</td>\n",
       "      <td>40.733166</td>\n",
       "      <td>1</td>\n",
       "      <td>11.0</td>\n",
       "      <td>0.5</td>\n",
       "      <td>0.5</td>\n",
       "      <td>3.05</td>\n",
       "      <td>0.00</td>\n",
       "      <td>0.3</td>\n",
       "      <td>15.35</td>\n",
       "      <td>1</td>\n",
       "    </tr>\n",
       "    <tr>\n",
       "      <th>2</th>\n",
       "      <td>2</td>\n",
       "      <td>2016-03-01 00:00:00</td>\n",
       "      <td>2016-03-01 00:31:06</td>\n",
       "      <td>2</td>\n",
       "      <td>19.98</td>\n",
       "      <td>-73.782021</td>\n",
       "      <td>40.644810</td>\n",
       "      <td>1</td>\n",
       "      <td>N</td>\n",
       "      <td>-73.974541</td>\n",
       "      <td>40.675770</td>\n",
       "      <td>1</td>\n",
       "      <td>54.5</td>\n",
       "      <td>0.5</td>\n",
       "      <td>0.5</td>\n",
       "      <td>8.00</td>\n",
       "      <td>0.00</td>\n",
       "      <td>0.3</td>\n",
       "      <td>63.80</td>\n",
       "      <td>2</td>\n",
       "    </tr>\n",
       "    <tr>\n",
       "      <th>3</th>\n",
       "      <td>2</td>\n",
       "      <td>2016-03-01 00:00:00</td>\n",
       "      <td>2016-03-01 00:00:00</td>\n",
       "      <td>3</td>\n",
       "      <td>10.78</td>\n",
       "      <td>-73.863419</td>\n",
       "      <td>40.769814</td>\n",
       "      <td>1</td>\n",
       "      <td>N</td>\n",
       "      <td>-73.969650</td>\n",
       "      <td>40.757767</td>\n",
       "      <td>1</td>\n",
       "      <td>31.5</td>\n",
       "      <td>0.0</td>\n",
       "      <td>0.5</td>\n",
       "      <td>3.78</td>\n",
       "      <td>5.54</td>\n",
       "      <td>0.3</td>\n",
       "      <td>41.62</td>\n",
       "      <td>3</td>\n",
       "    </tr>\n",
       "    <tr>\n",
       "      <th>4</th>\n",
       "      <td>2</td>\n",
       "      <td>2016-03-01 00:00:00</td>\n",
       "      <td>2016-03-01 00:00:00</td>\n",
       "      <td>5</td>\n",
       "      <td>30.43</td>\n",
       "      <td>-73.971741</td>\n",
       "      <td>40.792183</td>\n",
       "      <td>3</td>\n",
       "      <td>N</td>\n",
       "      <td>-74.177170</td>\n",
       "      <td>40.695053</td>\n",
       "      <td>1</td>\n",
       "      <td>98.0</td>\n",
       "      <td>0.0</td>\n",
       "      <td>0.0</td>\n",
       "      <td>0.00</td>\n",
       "      <td>15.50</td>\n",
       "      <td>0.3</td>\n",
       "      <td>113.80</td>\n",
       "      <td>4</td>\n",
       "    </tr>\n",
       "    <tr>\n",
       "      <th>...</th>\n",
       "      <td>...</td>\n",
       "      <td>...</td>\n",
       "      <td>...</td>\n",
       "      <td>...</td>\n",
       "      <td>...</td>\n",
       "      <td>...</td>\n",
       "      <td>...</td>\n",
       "      <td>...</td>\n",
       "      <td>...</td>\n",
       "      <td>...</td>\n",
       "      <td>...</td>\n",
       "      <td>...</td>\n",
       "      <td>...</td>\n",
       "      <td>...</td>\n",
       "      <td>...</td>\n",
       "      <td>...</td>\n",
       "      <td>...</td>\n",
       "      <td>...</td>\n",
       "      <td>...</td>\n",
       "      <td>...</td>\n",
       "    </tr>\n",
       "    <tr>\n",
       "      <th>99995</th>\n",
       "      <td>1</td>\n",
       "      <td>2016-03-01 06:17:10</td>\n",
       "      <td>2016-03-01 06:22:15</td>\n",
       "      <td>1</td>\n",
       "      <td>0.50</td>\n",
       "      <td>-73.990898</td>\n",
       "      <td>40.750519</td>\n",
       "      <td>1</td>\n",
       "      <td>N</td>\n",
       "      <td>-73.998245</td>\n",
       "      <td>40.750462</td>\n",
       "      <td>2</td>\n",
       "      <td>5.0</td>\n",
       "      <td>0.0</td>\n",
       "      <td>0.5</td>\n",
       "      <td>0.00</td>\n",
       "      <td>0.00</td>\n",
       "      <td>0.3</td>\n",
       "      <td>5.80</td>\n",
       "      <td>99995</td>\n",
       "    </tr>\n",
       "    <tr>\n",
       "      <th>99996</th>\n",
       "      <td>1</td>\n",
       "      <td>2016-03-01 06:17:10</td>\n",
       "      <td>2016-03-01 06:32:41</td>\n",
       "      <td>1</td>\n",
       "      <td>3.40</td>\n",
       "      <td>-74.014488</td>\n",
       "      <td>40.718296</td>\n",
       "      <td>1</td>\n",
       "      <td>N</td>\n",
       "      <td>-73.982361</td>\n",
       "      <td>40.752529</td>\n",
       "      <td>1</td>\n",
       "      <td>14.0</td>\n",
       "      <td>0.0</td>\n",
       "      <td>0.5</td>\n",
       "      <td>2.00</td>\n",
       "      <td>0.00</td>\n",
       "      <td>0.3</td>\n",
       "      <td>16.80</td>\n",
       "      <td>99996</td>\n",
       "    </tr>\n",
       "    <tr>\n",
       "      <th>99997</th>\n",
       "      <td>1</td>\n",
       "      <td>2016-03-01 06:17:10</td>\n",
       "      <td>2016-03-01 06:37:23</td>\n",
       "      <td>1</td>\n",
       "      <td>9.70</td>\n",
       "      <td>-73.963379</td>\n",
       "      <td>40.774097</td>\n",
       "      <td>1</td>\n",
       "      <td>N</td>\n",
       "      <td>-73.865028</td>\n",
       "      <td>40.770512</td>\n",
       "      <td>1</td>\n",
       "      <td>29.0</td>\n",
       "      <td>0.0</td>\n",
       "      <td>0.5</td>\n",
       "      <td>8.80</td>\n",
       "      <td>5.54</td>\n",
       "      <td>0.3</td>\n",
       "      <td>44.14</td>\n",
       "      <td>99997</td>\n",
       "    </tr>\n",
       "    <tr>\n",
       "      <th>99998</th>\n",
       "      <td>2</td>\n",
       "      <td>2016-03-01 06:17:10</td>\n",
       "      <td>2016-03-01 06:22:09</td>\n",
       "      <td>1</td>\n",
       "      <td>0.92</td>\n",
       "      <td>-73.984901</td>\n",
       "      <td>40.763111</td>\n",
       "      <td>1</td>\n",
       "      <td>N</td>\n",
       "      <td>-73.970695</td>\n",
       "      <td>40.759148</td>\n",
       "      <td>1</td>\n",
       "      <td>5.5</td>\n",
       "      <td>0.5</td>\n",
       "      <td>0.5</td>\n",
       "      <td>1.36</td>\n",
       "      <td>0.00</td>\n",
       "      <td>0.3</td>\n",
       "      <td>8.16</td>\n",
       "      <td>99998</td>\n",
       "    </tr>\n",
       "    <tr>\n",
       "      <th>99999</th>\n",
       "      <td>1</td>\n",
       "      <td>2016-03-01 06:17:11</td>\n",
       "      <td>2016-03-01 06:22:00</td>\n",
       "      <td>1</td>\n",
       "      <td>1.00</td>\n",
       "      <td>-73.990685</td>\n",
       "      <td>40.750473</td>\n",
       "      <td>1</td>\n",
       "      <td>N</td>\n",
       "      <td>-73.980354</td>\n",
       "      <td>40.754910</td>\n",
       "      <td>2</td>\n",
       "      <td>6.0</td>\n",
       "      <td>0.0</td>\n",
       "      <td>0.5</td>\n",
       "      <td>0.00</td>\n",
       "      <td>0.00</td>\n",
       "      <td>0.3</td>\n",
       "      <td>6.80</td>\n",
       "      <td>99999</td>\n",
       "    </tr>\n",
       "  </tbody>\n",
       "</table>\n",
       "<p>100000 rows × 20 columns</p>\n",
       "</div>"
      ],
      "text/plain": [
       "       VendorID tpep_pickup_datetime tpep_dropoff_datetime  passenger_count  \\\n",
       "0             1  2016-03-01 00:00:00   2016-03-01 00:07:55                1   \n",
       "1             1  2016-03-01 00:00:00   2016-03-01 00:11:06                1   \n",
       "2             2  2016-03-01 00:00:00   2016-03-01 00:31:06                2   \n",
       "3             2  2016-03-01 00:00:00   2016-03-01 00:00:00                3   \n",
       "4             2  2016-03-01 00:00:00   2016-03-01 00:00:00                5   \n",
       "...         ...                  ...                   ...              ...   \n",
       "99995         1  2016-03-01 06:17:10   2016-03-01 06:22:15                1   \n",
       "99996         1  2016-03-01 06:17:10   2016-03-01 06:32:41                1   \n",
       "99997         1  2016-03-01 06:17:10   2016-03-01 06:37:23                1   \n",
       "99998         2  2016-03-01 06:17:10   2016-03-01 06:22:09                1   \n",
       "99999         1  2016-03-01 06:17:11   2016-03-01 06:22:00                1   \n",
       "\n",
       "       trip_distance  pickup_longitude  pickup_latitude  RatecodeID  \\\n",
       "0               2.50        -73.976746        40.765152           1   \n",
       "1               2.90        -73.983482        40.767925           1   \n",
       "2              19.98        -73.782021        40.644810           1   \n",
       "3              10.78        -73.863419        40.769814           1   \n",
       "4              30.43        -73.971741        40.792183           3   \n",
       "...              ...               ...              ...         ...   \n",
       "99995           0.50        -73.990898        40.750519           1   \n",
       "99996           3.40        -74.014488        40.718296           1   \n",
       "99997           9.70        -73.963379        40.774097           1   \n",
       "99998           0.92        -73.984901        40.763111           1   \n",
       "99999           1.00        -73.990685        40.750473           1   \n",
       "\n",
       "      store_and_fwd_flag  dropoff_longitude  dropoff_latitude  payment_type  \\\n",
       "0                      N         -74.004265         40.746128             1   \n",
       "1                      N         -74.005943         40.733166             1   \n",
       "2                      N         -73.974541         40.675770             1   \n",
       "3                      N         -73.969650         40.757767             1   \n",
       "4                      N         -74.177170         40.695053             1   \n",
       "...                  ...                ...               ...           ...   \n",
       "99995                  N         -73.998245         40.750462             2   \n",
       "99996                  N         -73.982361         40.752529             1   \n",
       "99997                  N         -73.865028         40.770512             1   \n",
       "99998                  N         -73.970695         40.759148             1   \n",
       "99999                  N         -73.980354         40.754910             2   \n",
       "\n",
       "       fare_amount  extra  mta_tax  tip_amount  tolls_amount  \\\n",
       "0              9.0    0.5      0.5        2.05          0.00   \n",
       "1             11.0    0.5      0.5        3.05          0.00   \n",
       "2             54.5    0.5      0.5        8.00          0.00   \n",
       "3             31.5    0.0      0.5        3.78          5.54   \n",
       "4             98.0    0.0      0.0        0.00         15.50   \n",
       "...            ...    ...      ...         ...           ...   \n",
       "99995          5.0    0.0      0.5        0.00          0.00   \n",
       "99996         14.0    0.0      0.5        2.00          0.00   \n",
       "99997         29.0    0.0      0.5        8.80          5.54   \n",
       "99998          5.5    0.5      0.5        1.36          0.00   \n",
       "99999          6.0    0.0      0.5        0.00          0.00   \n",
       "\n",
       "       improvement_surcharge  total_amount  Trip_index  \n",
       "0                        0.3         12.35           0  \n",
       "1                        0.3         15.35           1  \n",
       "2                        0.3         63.80           2  \n",
       "3                        0.3         41.62           3  \n",
       "4                        0.3        113.80           4  \n",
       "...                      ...           ...         ...  \n",
       "99995                    0.3          5.80       99995  \n",
       "99996                    0.3         16.80       99996  \n",
       "99997                    0.3         44.14       99997  \n",
       "99998                    0.3          8.16       99998  \n",
       "99999                    0.3          6.80       99999  \n",
       "\n",
       "[100000 rows x 20 columns]"
      ]
     },
     "execution_count": 11,
     "metadata": {},
     "output_type": "execute_result"
    }
   ],
   "source": [
    "df"
   ]
  },
  {
   "cell_type": "markdown",
   "id": "ed841c7c-e01b-4199-889e-8422786c5e3c",
   "metadata": {},
   "source": [
    "# Date and Time Dimensional Tabel"
   ]
  },
  {
   "cell_type": "code",
   "execution_count": 12,
   "id": "d2f0b3dc-469a-4507-81c6-7ef1ebba7bb2",
   "metadata": {},
   "outputs": [],
   "source": [
    "# Creating tabel Which Contains Pickup and Dropoff Day,Month,year,Weekday,Hour\n",
    "\n",
    "DateTime_dim = pd.DataFrame()\n",
    "DateTime_dim['pickup_datetime'] = df['tpep_pickup_datetime']\n",
    "DateTime_dim['pick_Hour'] = df['tpep_pickup_datetime'].dt.hour\n",
    "DateTime_dim['pick_Day'] = df['tpep_pickup_datetime'].dt.day\n",
    "DateTime_dim['pick_Month'] = df['tpep_pickup_datetime'].dt.month\n",
    "DateTime_dim['pick_Year'] = df['tpep_pickup_datetime'].dt.year\n",
    "DateTime_dim['pick_Weekday'] = df['tpep_pickup_datetime'].dt.weekday\n",
    "\n",
    "DateTime_dim['dropoff_datetime'] = df['tpep_dropoff_datetime']\n",
    "DateTime_dim['drop_Hour'] = df['tpep_dropoff_datetime'].dt.hour\n",
    "DateTime_dim['drop_Day'] = df['tpep_dropoff_datetime'].dt.day\n",
    "DateTime_dim['drop_Month'] = df['tpep_dropoff_datetime'].dt.month\n",
    "DateTime_dim['drop_Year'] = df['tpep_dropoff_datetime'].dt.year\n",
    "DateTime_dim['drop_Weekday'] = df['tpep_dropoff_datetime'].dt.weekday\n"
   ]
  },
  {
   "cell_type": "code",
   "execution_count": 13,
   "id": "14c1bfaf-c307-456e-a8cb-ddcf390e4b84",
   "metadata": {},
   "outputs": [
    {
     "data": {
      "text/html": [
       "<div>\n",
       "<style scoped>\n",
       "    .dataframe tbody tr th:only-of-type {\n",
       "        vertical-align: middle;\n",
       "    }\n",
       "\n",
       "    .dataframe tbody tr th {\n",
       "        vertical-align: top;\n",
       "    }\n",
       "\n",
       "    .dataframe thead th {\n",
       "        text-align: right;\n",
       "    }\n",
       "</style>\n",
       "<table border=\"1\" class=\"dataframe\">\n",
       "  <thead>\n",
       "    <tr style=\"text-align: right;\">\n",
       "      <th></th>\n",
       "      <th>pickup_datetime</th>\n",
       "      <th>pick_Hour</th>\n",
       "      <th>pick_Day</th>\n",
       "      <th>pick_Month</th>\n",
       "      <th>pick_Year</th>\n",
       "      <th>pick_Weekday</th>\n",
       "      <th>dropoff_datetime</th>\n",
       "      <th>drop_Hour</th>\n",
       "      <th>drop_Day</th>\n",
       "      <th>drop_Month</th>\n",
       "      <th>drop_Year</th>\n",
       "      <th>drop_Weekday</th>\n",
       "    </tr>\n",
       "  </thead>\n",
       "  <tbody>\n",
       "    <tr>\n",
       "      <th>0</th>\n",
       "      <td>2016-03-01 00:00:00</td>\n",
       "      <td>0</td>\n",
       "      <td>1</td>\n",
       "      <td>3</td>\n",
       "      <td>2016</td>\n",
       "      <td>1</td>\n",
       "      <td>2016-03-01 00:07:55</td>\n",
       "      <td>0</td>\n",
       "      <td>1</td>\n",
       "      <td>3</td>\n",
       "      <td>2016</td>\n",
       "      <td>1</td>\n",
       "    </tr>\n",
       "    <tr>\n",
       "      <th>1</th>\n",
       "      <td>2016-03-01 00:00:00</td>\n",
       "      <td>0</td>\n",
       "      <td>1</td>\n",
       "      <td>3</td>\n",
       "      <td>2016</td>\n",
       "      <td>1</td>\n",
       "      <td>2016-03-01 00:11:06</td>\n",
       "      <td>0</td>\n",
       "      <td>1</td>\n",
       "      <td>3</td>\n",
       "      <td>2016</td>\n",
       "      <td>1</td>\n",
       "    </tr>\n",
       "    <tr>\n",
       "      <th>2</th>\n",
       "      <td>2016-03-01 00:00:00</td>\n",
       "      <td>0</td>\n",
       "      <td>1</td>\n",
       "      <td>3</td>\n",
       "      <td>2016</td>\n",
       "      <td>1</td>\n",
       "      <td>2016-03-01 00:31:06</td>\n",
       "      <td>0</td>\n",
       "      <td>1</td>\n",
       "      <td>3</td>\n",
       "      <td>2016</td>\n",
       "      <td>1</td>\n",
       "    </tr>\n",
       "    <tr>\n",
       "      <th>3</th>\n",
       "      <td>2016-03-01 00:00:00</td>\n",
       "      <td>0</td>\n",
       "      <td>1</td>\n",
       "      <td>3</td>\n",
       "      <td>2016</td>\n",
       "      <td>1</td>\n",
       "      <td>2016-03-01 00:00:00</td>\n",
       "      <td>0</td>\n",
       "      <td>1</td>\n",
       "      <td>3</td>\n",
       "      <td>2016</td>\n",
       "      <td>1</td>\n",
       "    </tr>\n",
       "    <tr>\n",
       "      <th>4</th>\n",
       "      <td>2016-03-01 00:00:00</td>\n",
       "      <td>0</td>\n",
       "      <td>1</td>\n",
       "      <td>3</td>\n",
       "      <td>2016</td>\n",
       "      <td>1</td>\n",
       "      <td>2016-03-01 00:00:00</td>\n",
       "      <td>0</td>\n",
       "      <td>1</td>\n",
       "      <td>3</td>\n",
       "      <td>2016</td>\n",
       "      <td>1</td>\n",
       "    </tr>\n",
       "    <tr>\n",
       "      <th>...</th>\n",
       "      <td>...</td>\n",
       "      <td>...</td>\n",
       "      <td>...</td>\n",
       "      <td>...</td>\n",
       "      <td>...</td>\n",
       "      <td>...</td>\n",
       "      <td>...</td>\n",
       "      <td>...</td>\n",
       "      <td>...</td>\n",
       "      <td>...</td>\n",
       "      <td>...</td>\n",
       "      <td>...</td>\n",
       "    </tr>\n",
       "    <tr>\n",
       "      <th>99995</th>\n",
       "      <td>2016-03-01 06:17:10</td>\n",
       "      <td>6</td>\n",
       "      <td>1</td>\n",
       "      <td>3</td>\n",
       "      <td>2016</td>\n",
       "      <td>1</td>\n",
       "      <td>2016-03-01 06:22:15</td>\n",
       "      <td>6</td>\n",
       "      <td>1</td>\n",
       "      <td>3</td>\n",
       "      <td>2016</td>\n",
       "      <td>1</td>\n",
       "    </tr>\n",
       "    <tr>\n",
       "      <th>99996</th>\n",
       "      <td>2016-03-01 06:17:10</td>\n",
       "      <td>6</td>\n",
       "      <td>1</td>\n",
       "      <td>3</td>\n",
       "      <td>2016</td>\n",
       "      <td>1</td>\n",
       "      <td>2016-03-01 06:32:41</td>\n",
       "      <td>6</td>\n",
       "      <td>1</td>\n",
       "      <td>3</td>\n",
       "      <td>2016</td>\n",
       "      <td>1</td>\n",
       "    </tr>\n",
       "    <tr>\n",
       "      <th>99997</th>\n",
       "      <td>2016-03-01 06:17:10</td>\n",
       "      <td>6</td>\n",
       "      <td>1</td>\n",
       "      <td>3</td>\n",
       "      <td>2016</td>\n",
       "      <td>1</td>\n",
       "      <td>2016-03-01 06:37:23</td>\n",
       "      <td>6</td>\n",
       "      <td>1</td>\n",
       "      <td>3</td>\n",
       "      <td>2016</td>\n",
       "      <td>1</td>\n",
       "    </tr>\n",
       "    <tr>\n",
       "      <th>99998</th>\n",
       "      <td>2016-03-01 06:17:10</td>\n",
       "      <td>6</td>\n",
       "      <td>1</td>\n",
       "      <td>3</td>\n",
       "      <td>2016</td>\n",
       "      <td>1</td>\n",
       "      <td>2016-03-01 06:22:09</td>\n",
       "      <td>6</td>\n",
       "      <td>1</td>\n",
       "      <td>3</td>\n",
       "      <td>2016</td>\n",
       "      <td>1</td>\n",
       "    </tr>\n",
       "    <tr>\n",
       "      <th>99999</th>\n",
       "      <td>2016-03-01 06:17:11</td>\n",
       "      <td>6</td>\n",
       "      <td>1</td>\n",
       "      <td>3</td>\n",
       "      <td>2016</td>\n",
       "      <td>1</td>\n",
       "      <td>2016-03-01 06:22:00</td>\n",
       "      <td>6</td>\n",
       "      <td>1</td>\n",
       "      <td>3</td>\n",
       "      <td>2016</td>\n",
       "      <td>1</td>\n",
       "    </tr>\n",
       "  </tbody>\n",
       "</table>\n",
       "<p>100000 rows × 12 columns</p>\n",
       "</div>"
      ],
      "text/plain": [
       "          pickup_datetime  pick_Hour  pick_Day  pick_Month  pick_Year  \\\n",
       "0     2016-03-01 00:00:00          0         1           3       2016   \n",
       "1     2016-03-01 00:00:00          0         1           3       2016   \n",
       "2     2016-03-01 00:00:00          0         1           3       2016   \n",
       "3     2016-03-01 00:00:00          0         1           3       2016   \n",
       "4     2016-03-01 00:00:00          0         1           3       2016   \n",
       "...                   ...        ...       ...         ...        ...   \n",
       "99995 2016-03-01 06:17:10          6         1           3       2016   \n",
       "99996 2016-03-01 06:17:10          6         1           3       2016   \n",
       "99997 2016-03-01 06:17:10          6         1           3       2016   \n",
       "99998 2016-03-01 06:17:10          6         1           3       2016   \n",
       "99999 2016-03-01 06:17:11          6         1           3       2016   \n",
       "\n",
       "       pick_Weekday    dropoff_datetime  drop_Hour  drop_Day  drop_Month  \\\n",
       "0                 1 2016-03-01 00:07:55          0         1           3   \n",
       "1                 1 2016-03-01 00:11:06          0         1           3   \n",
       "2                 1 2016-03-01 00:31:06          0         1           3   \n",
       "3                 1 2016-03-01 00:00:00          0         1           3   \n",
       "4                 1 2016-03-01 00:00:00          0         1           3   \n",
       "...             ...                 ...        ...       ...         ...   \n",
       "99995             1 2016-03-01 06:22:15          6         1           3   \n",
       "99996             1 2016-03-01 06:32:41          6         1           3   \n",
       "99997             1 2016-03-01 06:37:23          6         1           3   \n",
       "99998             1 2016-03-01 06:22:09          6         1           3   \n",
       "99999             1 2016-03-01 06:22:00          6         1           3   \n",
       "\n",
       "       drop_Year  drop_Weekday  \n",
       "0           2016             1  \n",
       "1           2016             1  \n",
       "2           2016             1  \n",
       "3           2016             1  \n",
       "4           2016             1  \n",
       "...          ...           ...  \n",
       "99995       2016             1  \n",
       "99996       2016             1  \n",
       "99997       2016             1  \n",
       "99998       2016             1  \n",
       "99999       2016             1  \n",
       "\n",
       "[100000 rows x 12 columns]"
      ]
     },
     "execution_count": 13,
     "metadata": {},
     "output_type": "execute_result"
    }
   ],
   "source": [
    "DateTime_dim"
   ]
  },
  {
   "cell_type": "code",
   "execution_count": 14,
   "id": "a820316e-9712-4f92-9aa0-0db58cc042f7",
   "metadata": {},
   "outputs": [],
   "source": [
    "# creating index DateTime Tabel\n",
    "DateTime_dim['DateTime_Id'] = DateTime_dim.index"
   ]
  },
  {
   "cell_type": "code",
   "execution_count": 15,
   "id": "3dffc15d-89b1-4ada-976a-056f919f6c9e",
   "metadata": {},
   "outputs": [
    {
     "data": {
      "text/plain": [
       "Index(['pickup_datetime', 'pick_Hour', 'pick_Day', 'pick_Month', 'pick_Year',\n",
       "       'pick_Weekday', 'dropoff_datetime', 'drop_Hour', 'drop_Day',\n",
       "       'drop_Month', 'drop_Year', 'drop_Weekday', 'DateTime_Id'],\n",
       "      dtype='object')"
      ]
     },
     "execution_count": 15,
     "metadata": {},
     "output_type": "execute_result"
    }
   ],
   "source": [
    "DateTime_dim.columns"
   ]
  },
  {
   "cell_type": "code",
   "execution_count": 16,
   "id": "52547b91-5f70-4ea2-9390-3bd3d2154cd7",
   "metadata": {},
   "outputs": [],
   "source": [
    "# Rearranging the columns\n",
    "DateTime_dim = DateTime_dim[['DateTime_Id','pickup_datetime', 'pick_Hour', 'pick_Day', 'pick_Month', 'pick_Year',\n",
    "       'pick_Weekday', 'dropoff_datetime', 'drop_Hour', 'drop_Day',\n",
    "       'drop_Month', 'drop_Year', 'drop_Weekday']]"
   ]
  },
  {
   "cell_type": "code",
   "execution_count": 17,
   "id": "0ccbe5f2-5bb0-4eae-a984-e1ea19ecb427",
   "metadata": {},
   "outputs": [
    {
     "data": {
      "text/html": [
       "<div>\n",
       "<style scoped>\n",
       "    .dataframe tbody tr th:only-of-type {\n",
       "        vertical-align: middle;\n",
       "    }\n",
       "\n",
       "    .dataframe tbody tr th {\n",
       "        vertical-align: top;\n",
       "    }\n",
       "\n",
       "    .dataframe thead th {\n",
       "        text-align: right;\n",
       "    }\n",
       "</style>\n",
       "<table border=\"1\" class=\"dataframe\">\n",
       "  <thead>\n",
       "    <tr style=\"text-align: right;\">\n",
       "      <th></th>\n",
       "      <th>DateTime_Id</th>\n",
       "      <th>pickup_datetime</th>\n",
       "      <th>pick_Hour</th>\n",
       "      <th>pick_Day</th>\n",
       "      <th>pick_Month</th>\n",
       "      <th>pick_Year</th>\n",
       "      <th>pick_Weekday</th>\n",
       "      <th>dropoff_datetime</th>\n",
       "      <th>drop_Hour</th>\n",
       "      <th>drop_Day</th>\n",
       "      <th>drop_Month</th>\n",
       "      <th>drop_Year</th>\n",
       "      <th>drop_Weekday</th>\n",
       "    </tr>\n",
       "  </thead>\n",
       "  <tbody>\n",
       "    <tr>\n",
       "      <th>0</th>\n",
       "      <td>0</td>\n",
       "      <td>2016-03-01</td>\n",
       "      <td>0</td>\n",
       "      <td>1</td>\n",
       "      <td>3</td>\n",
       "      <td>2016</td>\n",
       "      <td>1</td>\n",
       "      <td>2016-03-01 00:07:55</td>\n",
       "      <td>0</td>\n",
       "      <td>1</td>\n",
       "      <td>3</td>\n",
       "      <td>2016</td>\n",
       "      <td>1</td>\n",
       "    </tr>\n",
       "    <tr>\n",
       "      <th>1</th>\n",
       "      <td>1</td>\n",
       "      <td>2016-03-01</td>\n",
       "      <td>0</td>\n",
       "      <td>1</td>\n",
       "      <td>3</td>\n",
       "      <td>2016</td>\n",
       "      <td>1</td>\n",
       "      <td>2016-03-01 00:11:06</td>\n",
       "      <td>0</td>\n",
       "      <td>1</td>\n",
       "      <td>3</td>\n",
       "      <td>2016</td>\n",
       "      <td>1</td>\n",
       "    </tr>\n",
       "    <tr>\n",
       "      <th>2</th>\n",
       "      <td>2</td>\n",
       "      <td>2016-03-01</td>\n",
       "      <td>0</td>\n",
       "      <td>1</td>\n",
       "      <td>3</td>\n",
       "      <td>2016</td>\n",
       "      <td>1</td>\n",
       "      <td>2016-03-01 00:31:06</td>\n",
       "      <td>0</td>\n",
       "      <td>1</td>\n",
       "      <td>3</td>\n",
       "      <td>2016</td>\n",
       "      <td>1</td>\n",
       "    </tr>\n",
       "    <tr>\n",
       "      <th>3</th>\n",
       "      <td>3</td>\n",
       "      <td>2016-03-01</td>\n",
       "      <td>0</td>\n",
       "      <td>1</td>\n",
       "      <td>3</td>\n",
       "      <td>2016</td>\n",
       "      <td>1</td>\n",
       "      <td>2016-03-01 00:00:00</td>\n",
       "      <td>0</td>\n",
       "      <td>1</td>\n",
       "      <td>3</td>\n",
       "      <td>2016</td>\n",
       "      <td>1</td>\n",
       "    </tr>\n",
       "    <tr>\n",
       "      <th>4</th>\n",
       "      <td>4</td>\n",
       "      <td>2016-03-01</td>\n",
       "      <td>0</td>\n",
       "      <td>1</td>\n",
       "      <td>3</td>\n",
       "      <td>2016</td>\n",
       "      <td>1</td>\n",
       "      <td>2016-03-01 00:00:00</td>\n",
       "      <td>0</td>\n",
       "      <td>1</td>\n",
       "      <td>3</td>\n",
       "      <td>2016</td>\n",
       "      <td>1</td>\n",
       "    </tr>\n",
       "  </tbody>\n",
       "</table>\n",
       "</div>"
      ],
      "text/plain": [
       "   DateTime_Id pickup_datetime  pick_Hour  pick_Day  pick_Month  pick_Year  \\\n",
       "0            0      2016-03-01          0         1           3       2016   \n",
       "1            1      2016-03-01          0         1           3       2016   \n",
       "2            2      2016-03-01          0         1           3       2016   \n",
       "3            3      2016-03-01          0         1           3       2016   \n",
       "4            4      2016-03-01          0         1           3       2016   \n",
       "\n",
       "   pick_Weekday    dropoff_datetime  drop_Hour  drop_Day  drop_Month  \\\n",
       "0             1 2016-03-01 00:07:55          0         1           3   \n",
       "1             1 2016-03-01 00:11:06          0         1           3   \n",
       "2             1 2016-03-01 00:31:06          0         1           3   \n",
       "3             1 2016-03-01 00:00:00          0         1           3   \n",
       "4             1 2016-03-01 00:00:00          0         1           3   \n",
       "\n",
       "   drop_Year  drop_Weekday  \n",
       "0       2016             1  \n",
       "1       2016             1  \n",
       "2       2016             1  \n",
       "3       2016             1  \n",
       "4       2016             1  "
      ]
     },
     "execution_count": 17,
     "metadata": {},
     "output_type": "execute_result"
    }
   ],
   "source": [
    "DateTime_dim.head()"
   ]
  },
  {
   "cell_type": "markdown",
   "id": "43c54631-6ba5-4a2a-877f-9c638f2b47ed",
   "metadata": {},
   "source": [
    "# Creating Pickup Location Dimensional Tabel"
   ]
  },
  {
   "cell_type": "code",
   "execution_count": 168,
   "id": "9b6100cd-fa77-45c5-953a-61e5840539e8",
   "metadata": {},
   "outputs": [],
   "source": [
    "#Creating DataFrame Which Contains Pickup_Longitude , Pickup_Latitude and index for Pickup_Location Tabel\n",
    "\n",
    "Pickup_Location_dim = pd.DataFrame()\n",
    "Pickup_Location_dim[['Pickup_Longitude','Pickup_Latitude']] = df[['pickup_longitude','pickup_latitude']]\n",
    "Pickup_Location_dim['Pickup_Location_Id'] = Pickup_Location_dim.index\n",
    "Pickup_Location_dim = Pickup_Location_dim[['Pickup_Location_Id','Pickup_Longitude','Pickup_Latitude']]"
   ]
  },
  {
   "cell_type": "code",
   "execution_count": 19,
   "id": "435198f9-10ee-497b-bd98-75aac7a0b308",
   "metadata": {},
   "outputs": [
    {
     "data": {
      "text/html": [
       "<div>\n",
       "<style scoped>\n",
       "    .dataframe tbody tr th:only-of-type {\n",
       "        vertical-align: middle;\n",
       "    }\n",
       "\n",
       "    .dataframe tbody tr th {\n",
       "        vertical-align: top;\n",
       "    }\n",
       "\n",
       "    .dataframe thead th {\n",
       "        text-align: right;\n",
       "    }\n",
       "</style>\n",
       "<table border=\"1\" class=\"dataframe\">\n",
       "  <thead>\n",
       "    <tr style=\"text-align: right;\">\n",
       "      <th></th>\n",
       "      <th>Pickup_Location_Id</th>\n",
       "      <th>Pickup_Longitude</th>\n",
       "      <th>Pickup_Latitude</th>\n",
       "    </tr>\n",
       "  </thead>\n",
       "  <tbody>\n",
       "    <tr>\n",
       "      <th>0</th>\n",
       "      <td>0</td>\n",
       "      <td>-73.976746</td>\n",
       "      <td>40.765152</td>\n",
       "    </tr>\n",
       "    <tr>\n",
       "      <th>1</th>\n",
       "      <td>1</td>\n",
       "      <td>-73.983482</td>\n",
       "      <td>40.767925</td>\n",
       "    </tr>\n",
       "    <tr>\n",
       "      <th>2</th>\n",
       "      <td>2</td>\n",
       "      <td>-73.782021</td>\n",
       "      <td>40.644810</td>\n",
       "    </tr>\n",
       "    <tr>\n",
       "      <th>3</th>\n",
       "      <td>3</td>\n",
       "      <td>-73.863419</td>\n",
       "      <td>40.769814</td>\n",
       "    </tr>\n",
       "    <tr>\n",
       "      <th>4</th>\n",
       "      <td>4</td>\n",
       "      <td>-73.971741</td>\n",
       "      <td>40.792183</td>\n",
       "    </tr>\n",
       "  </tbody>\n",
       "</table>\n",
       "</div>"
      ],
      "text/plain": [
       "   Pickup_Location_Id  Pickup_Longitude  Pickup_Latitude\n",
       "0                   0        -73.976746        40.765152\n",
       "1                   1        -73.983482        40.767925\n",
       "2                   2        -73.782021        40.644810\n",
       "3                   3        -73.863419        40.769814\n",
       "4                   4        -73.971741        40.792183"
      ]
     },
     "execution_count": 19,
     "metadata": {},
     "output_type": "execute_result"
    }
   ],
   "source": [
    "Pickup_Location_dim.head()"
   ]
  },
  {
   "cell_type": "markdown",
   "id": "5893169d-8552-42e4-b660-4b1651ad556e",
   "metadata": {},
   "source": [
    "# Creating Dropoff Dimensional Tabel"
   ]
  },
  {
   "cell_type": "code",
   "execution_count": 20,
   "id": "ea4b7fbf-65dc-457a-bb98-42453b3a9957",
   "metadata": {},
   "outputs": [
    {
     "data": {
      "text/html": [
       "<div>\n",
       "<style scoped>\n",
       "    .dataframe tbody tr th:only-of-type {\n",
       "        vertical-align: middle;\n",
       "    }\n",
       "\n",
       "    .dataframe tbody tr th {\n",
       "        vertical-align: top;\n",
       "    }\n",
       "\n",
       "    .dataframe thead th {\n",
       "        text-align: right;\n",
       "    }\n",
       "</style>\n",
       "<table border=\"1\" class=\"dataframe\">\n",
       "  <thead>\n",
       "    <tr style=\"text-align: right;\">\n",
       "      <th></th>\n",
       "      <th>Drop_Location_Id</th>\n",
       "      <th>Drop_Longitude</th>\n",
       "      <th>Drop_Latitude</th>\n",
       "    </tr>\n",
       "  </thead>\n",
       "  <tbody>\n",
       "    <tr>\n",
       "      <th>0</th>\n",
       "      <td>0</td>\n",
       "      <td>-74.004265</td>\n",
       "      <td>40.746128</td>\n",
       "    </tr>\n",
       "    <tr>\n",
       "      <th>1</th>\n",
       "      <td>1</td>\n",
       "      <td>-74.005943</td>\n",
       "      <td>40.733166</td>\n",
       "    </tr>\n",
       "    <tr>\n",
       "      <th>2</th>\n",
       "      <td>2</td>\n",
       "      <td>-73.974541</td>\n",
       "      <td>40.675770</td>\n",
       "    </tr>\n",
       "    <tr>\n",
       "      <th>3</th>\n",
       "      <td>3</td>\n",
       "      <td>-73.969650</td>\n",
       "      <td>40.757767</td>\n",
       "    </tr>\n",
       "    <tr>\n",
       "      <th>4</th>\n",
       "      <td>4</td>\n",
       "      <td>-74.177170</td>\n",
       "      <td>40.695053</td>\n",
       "    </tr>\n",
       "  </tbody>\n",
       "</table>\n",
       "</div>"
      ],
      "text/plain": [
       "   Drop_Location_Id  Drop_Longitude  Drop_Latitude\n",
       "0                 0      -74.004265      40.746128\n",
       "1                 1      -74.005943      40.733166\n",
       "2                 2      -73.974541      40.675770\n",
       "3                 3      -73.969650      40.757767\n",
       "4                 4      -74.177170      40.695053"
      ]
     },
     "execution_count": 20,
     "metadata": {},
     "output_type": "execute_result"
    }
   ],
   "source": [
    "#Creating Drop_Location_dim DataFrame Which Contains Drop_Longitude, Drop_Latitude and index value\n",
    "\n",
    "Drop_Location_dim = pd.DataFrame()\n",
    "Drop_Location_dim[['Drop_Longitude','Drop_Latitude']] = df[['dropoff_longitude','dropoff_latitude']]\n",
    "Drop_Location_dim['Drop_Location_Id'] = Drop_Location_dim.index\n",
    "Drop_Location_dim = Drop_Location_dim[['Drop_Location_Id','Drop_Longitude','Drop_Latitude']]\n",
    "Drop_Location_dim.head()"
   ]
  },
  {
   "cell_type": "markdown",
   "id": "1aafc68f-f30c-46f4-a31d-8675c1f8c57e",
   "metadata": {},
   "source": [
    "# Creating Trip Distance Dimensional Tabel"
   ]
  },
  {
   "cell_type": "code",
   "execution_count": 21,
   "id": "50946931-bf9b-47e9-9eb1-523f2bde85a4",
   "metadata": {},
   "outputs": [
    {
     "data": {
      "text/html": [
       "<div>\n",
       "<style scoped>\n",
       "    .dataframe tbody tr th:only-of-type {\n",
       "        vertical-align: middle;\n",
       "    }\n",
       "\n",
       "    .dataframe tbody tr th {\n",
       "        vertical-align: top;\n",
       "    }\n",
       "\n",
       "    .dataframe thead th {\n",
       "        text-align: right;\n",
       "    }\n",
       "</style>\n",
       "<table border=\"1\" class=\"dataframe\">\n",
       "  <thead>\n",
       "    <tr style=\"text-align: right;\">\n",
       "      <th></th>\n",
       "      <th>Trip_Distance_Id</th>\n",
       "      <th>Trip_Distance</th>\n",
       "    </tr>\n",
       "  </thead>\n",
       "  <tbody>\n",
       "    <tr>\n",
       "      <th>0</th>\n",
       "      <td>0</td>\n",
       "      <td>2.50</td>\n",
       "    </tr>\n",
       "    <tr>\n",
       "      <th>1</th>\n",
       "      <td>1</td>\n",
       "      <td>2.90</td>\n",
       "    </tr>\n",
       "    <tr>\n",
       "      <th>2</th>\n",
       "      <td>2</td>\n",
       "      <td>19.98</td>\n",
       "    </tr>\n",
       "    <tr>\n",
       "      <th>3</th>\n",
       "      <td>3</td>\n",
       "      <td>10.78</td>\n",
       "    </tr>\n",
       "    <tr>\n",
       "      <th>4</th>\n",
       "      <td>4</td>\n",
       "      <td>30.43</td>\n",
       "    </tr>\n",
       "  </tbody>\n",
       "</table>\n",
       "</div>"
      ],
      "text/plain": [
       "   Trip_Distance_Id  Trip_Distance\n",
       "0                 0           2.50\n",
       "1                 1           2.90\n",
       "2                 2          19.98\n",
       "3                 3          10.78\n",
       "4                 4          30.43"
      ]
     },
     "execution_count": 21,
     "metadata": {},
     "output_type": "execute_result"
    }
   ],
   "source": [
    "# Creating Trip_Distance_dim DataFrame Which Cointains 'Trip_Distance' and Index value\n",
    "Trip_Distance_dim = pd.DataFrame()\n",
    "Trip_Distance_dim['Trip_Distance'] = df['trip_distance']\n",
    "Trip_Distance_dim['Trip_Distance_Id'] = Trip_Distance_dim.index\n",
    "Trip_Distance_dim = Trip_Distance_dim[['Trip_Distance_Id','Trip_Distance']]\n",
    "Trip_Distance_dim.head()"
   ]
  },
  {
   "cell_type": "markdown",
   "id": "7498f3be-7249-4917-94ef-37086aa4e04b",
   "metadata": {},
   "source": [
    "# Creating passenger Count Dimensional Tabel "
   ]
  },
  {
   "cell_type": "code",
   "execution_count": 22,
   "id": "c7ee2cc4-5cb2-469a-9470-58352f1d075c",
   "metadata": {},
   "outputs": [
    {
     "data": {
      "text/html": [
       "<div>\n",
       "<style scoped>\n",
       "    .dataframe tbody tr th:only-of-type {\n",
       "        vertical-align: middle;\n",
       "    }\n",
       "\n",
       "    .dataframe tbody tr th {\n",
       "        vertical-align: top;\n",
       "    }\n",
       "\n",
       "    .dataframe thead th {\n",
       "        text-align: right;\n",
       "    }\n",
       "</style>\n",
       "<table border=\"1\" class=\"dataframe\">\n",
       "  <thead>\n",
       "    <tr style=\"text-align: right;\">\n",
       "      <th></th>\n",
       "      <th>Passenger_count_Id</th>\n",
       "      <th>Passenger_Count</th>\n",
       "    </tr>\n",
       "  </thead>\n",
       "  <tbody>\n",
       "    <tr>\n",
       "      <th>0</th>\n",
       "      <td>0</td>\n",
       "      <td>1</td>\n",
       "    </tr>\n",
       "    <tr>\n",
       "      <th>1</th>\n",
       "      <td>1</td>\n",
       "      <td>1</td>\n",
       "    </tr>\n",
       "    <tr>\n",
       "      <th>2</th>\n",
       "      <td>2</td>\n",
       "      <td>2</td>\n",
       "    </tr>\n",
       "    <tr>\n",
       "      <th>3</th>\n",
       "      <td>3</td>\n",
       "      <td>3</td>\n",
       "    </tr>\n",
       "    <tr>\n",
       "      <th>4</th>\n",
       "      <td>4</td>\n",
       "      <td>5</td>\n",
       "    </tr>\n",
       "  </tbody>\n",
       "</table>\n",
       "</div>"
      ],
      "text/plain": [
       "   Passenger_count_Id  Passenger_Count\n",
       "0                   0                1\n",
       "1                   1                1\n",
       "2                   2                2\n",
       "3                   3                3\n",
       "4                   4                5"
      ]
     },
     "execution_count": 22,
     "metadata": {},
     "output_type": "execute_result"
    }
   ],
   "source": [
    "# Creating Passenger_count_dim DataFrame Which Contains Passenger_Count and index value\n",
    "Passenger_count_dim = pd.DataFrame()\n",
    "Passenger_count_dim['Passenger_Count'] = df['passenger_count']\n",
    "Passenger_count_dim['Passenger_count_Id'] = Passenger_count_dim.index\n",
    "Passenger_count_dim = Passenger_count_dim[['Passenger_count_Id','Passenger_Count']]\n",
    "Passenger_count_dim.head()"
   ]
  },
  {
   "cell_type": "markdown",
   "id": "5db4cae8-740f-4481-8454-f167df29263d",
   "metadata": {},
   "source": [
    "# Creating Rate Code Type Dimensional Tabel"
   ]
  },
  {
   "cell_type": "code",
   "execution_count": 23,
   "id": "c464a895-2ba2-4d42-a0ea-364cf8e8d2d6",
   "metadata": {},
   "outputs": [
    {
     "data": {
      "text/html": [
       "<div>\n",
       "<style scoped>\n",
       "    .dataframe tbody tr th:only-of-type {\n",
       "        vertical-align: middle;\n",
       "    }\n",
       "\n",
       "    .dataframe tbody tr th {\n",
       "        vertical-align: top;\n",
       "    }\n",
       "\n",
       "    .dataframe thead th {\n",
       "        text-align: right;\n",
       "    }\n",
       "</style>\n",
       "<table border=\"1\" class=\"dataframe\">\n",
       "  <thead>\n",
       "    <tr style=\"text-align: right;\">\n",
       "      <th></th>\n",
       "      <th>Rate_code_Id</th>\n",
       "      <th>Rate_code</th>\n",
       "      <th>Rate_code_name</th>\n",
       "    </tr>\n",
       "  </thead>\n",
       "  <tbody>\n",
       "    <tr>\n",
       "      <th>0</th>\n",
       "      <td>0</td>\n",
       "      <td>1</td>\n",
       "      <td>Standard rate</td>\n",
       "    </tr>\n",
       "    <tr>\n",
       "      <th>1</th>\n",
       "      <td>1</td>\n",
       "      <td>1</td>\n",
       "      <td>Standard rate</td>\n",
       "    </tr>\n",
       "    <tr>\n",
       "      <th>2</th>\n",
       "      <td>2</td>\n",
       "      <td>1</td>\n",
       "      <td>Standard rate</td>\n",
       "    </tr>\n",
       "    <tr>\n",
       "      <th>3</th>\n",
       "      <td>3</td>\n",
       "      <td>1</td>\n",
       "      <td>Standard rate</td>\n",
       "    </tr>\n",
       "    <tr>\n",
       "      <th>4</th>\n",
       "      <td>4</td>\n",
       "      <td>3</td>\n",
       "      <td>Newark</td>\n",
       "    </tr>\n",
       "  </tbody>\n",
       "</table>\n",
       "</div>"
      ],
      "text/plain": [
       "   Rate_code_Id  Rate_code Rate_code_name\n",
       "0             0          1  Standard rate\n",
       "1             1          1  Standard rate\n",
       "2             2          1  Standard rate\n",
       "3             3          1  Standard rate\n",
       "4             4          3         Newark"
      ]
     },
     "execution_count": 23,
     "metadata": {},
     "output_type": "execute_result"
    }
   ],
   "source": [
    "# Creating Dictionary for maping to Identify The rate_code to its Type \n",
    "rate_code_type = {\n",
    "    1:\"Standard rate\",\n",
    "    2:\"JFK\",\n",
    "    3:\"Newark\",\n",
    "    4:\"Nassau or Westchester\",\n",
    "    5:\"Negotiated fare\",\n",
    "    6:\"Group ride\"\n",
    "}\n",
    "\n",
    "# creating rate_code_type DataFrame Which Cointains Rate_code, Rate_code_name and Index\n",
    "Rate_code_dim = pd.DataFrame()\n",
    "Rate_code_dim['Rate_code'] = df['RatecodeID']\n",
    "Rate_code_dim['Rate_code_name'] = Rate_code_dim['Rate_code'].map(rate_code_type)\n",
    "\n",
    "Rate_code_dim['Rate_code_Id'] = Rate_code_dim.index\n",
    "Rate_code_dim = Rate_code_dim[['Rate_code_Id','Rate_code','Rate_code_name']]\n",
    "Rate_code_dim.head()"
   ]
  },
  {
   "cell_type": "code",
   "execution_count": 24,
   "id": "c6b36e05-b7c3-4a79-801a-325501e3586f",
   "metadata": {},
   "outputs": [
    {
     "data": {
      "text/plain": [
       "Rate_code_Id      0\n",
       "Rate_code         0\n",
       "Rate_code_name    0\n",
       "dtype: int64"
      ]
     },
     "execution_count": 24,
     "metadata": {},
     "output_type": "execute_result"
    }
   ],
   "source": [
    "#checking null value present\n",
    "Rate_code_dim.isna().sum()"
   ]
  },
  {
   "cell_type": "markdown",
   "id": "8869fbcc-1c10-4385-a518-c19a0d27e382",
   "metadata": {},
   "source": [
    "# Creating Payment Type Dimensional tabel"
   ]
  },
  {
   "cell_type": "code",
   "execution_count": 25,
   "id": "562de535-bcad-4250-8638-80032b94a888",
   "metadata": {},
   "outputs": [
    {
     "data": {
      "text/html": [
       "<div>\n",
       "<style scoped>\n",
       "    .dataframe tbody tr th:only-of-type {\n",
       "        vertical-align: middle;\n",
       "    }\n",
       "\n",
       "    .dataframe tbody tr th {\n",
       "        vertical-align: top;\n",
       "    }\n",
       "\n",
       "    .dataframe thead th {\n",
       "        text-align: right;\n",
       "    }\n",
       "</style>\n",
       "<table border=\"1\" class=\"dataframe\">\n",
       "  <thead>\n",
       "    <tr style=\"text-align: right;\">\n",
       "      <th></th>\n",
       "      <th>Payment_Type_Id</th>\n",
       "      <th>Payment_Type</th>\n",
       "      <th>Payment_Type_Name</th>\n",
       "    </tr>\n",
       "  </thead>\n",
       "  <tbody>\n",
       "    <tr>\n",
       "      <th>0</th>\n",
       "      <td>0</td>\n",
       "      <td>1</td>\n",
       "      <td>Credit card</td>\n",
       "    </tr>\n",
       "    <tr>\n",
       "      <th>1</th>\n",
       "      <td>1</td>\n",
       "      <td>1</td>\n",
       "      <td>Credit card</td>\n",
       "    </tr>\n",
       "    <tr>\n",
       "      <th>2</th>\n",
       "      <td>2</td>\n",
       "      <td>1</td>\n",
       "      <td>Credit card</td>\n",
       "    </tr>\n",
       "    <tr>\n",
       "      <th>3</th>\n",
       "      <td>3</td>\n",
       "      <td>1</td>\n",
       "      <td>Credit card</td>\n",
       "    </tr>\n",
       "    <tr>\n",
       "      <th>4</th>\n",
       "      <td>4</td>\n",
       "      <td>1</td>\n",
       "      <td>Credit card</td>\n",
       "    </tr>\n",
       "  </tbody>\n",
       "</table>\n",
       "</div>"
      ],
      "text/plain": [
       "   Payment_Type_Id  Payment_Type Payment_Type_Name\n",
       "0                0             1       Credit card\n",
       "1                1             1       Credit card\n",
       "2                2             1       Credit card\n",
       "3                3             1       Credit card\n",
       "4                4             1       Credit card"
      ]
     },
     "execution_count": 25,
     "metadata": {},
     "output_type": "execute_result"
    }
   ],
   "source": [
    "# Creating Dictionary to mapping the Payment Type\n",
    "payment_type_name = {\n",
    "    1:\"Credit card\",\n",
    "    2:\"Cash\",\n",
    "    3:\"No charge\",\n",
    "    4:\"Dispute\",\n",
    "    5:\"Unknown\",\n",
    "    6:\"Voided trip\"\n",
    "}\n",
    "\n",
    "# Creating Payment_dim DataFrame which Cointains Payment_Type, Payment_Type_Name, Index\n",
    "Payment_dim = pd.DataFrame()\n",
    "Payment_dim['Payment_Type'] = df['payment_type']\n",
    "Payment_dim['Payment_Type_Name'] = Payment_dim['Payment_Type'].map(payment_type_name)\n",
    "Payment_dim['Payment_Type_Id'] = Payment_dim.index\n",
    "Payment_dim = Payment_dim[['Payment_Type_Id','Payment_Type','Payment_Type_Name']]\n",
    "Payment_dim.head()\n",
    "\n",
    "\n"
   ]
  },
  {
   "cell_type": "code",
   "execution_count": 26,
   "id": "f678e53f-9146-4105-8841-e359101f42d7",
   "metadata": {},
   "outputs": [
    {
     "data": {
      "text/plain": [
       "Payment_Type_Id      0\n",
       "Payment_Type         0\n",
       "Payment_Type_Name    0\n",
       "dtype: int64"
      ]
     },
     "execution_count": 26,
     "metadata": {},
     "output_type": "execute_result"
    }
   ],
   "source": [
    "# Checking Null value Present\n",
    "Payment_dim.isna().sum()"
   ]
  },
  {
   "cell_type": "code",
   "execution_count": 27,
   "id": "cc0b797f-c9bf-4233-a8d5-ad5f7659bd8d",
   "metadata": {},
   "outputs": [
    {
     "data": {
      "text/plain": [
       "Index(['VendorID', 'tpep_pickup_datetime', 'tpep_dropoff_datetime',\n",
       "       'passenger_count', 'trip_distance', 'pickup_longitude',\n",
       "       'pickup_latitude', 'RatecodeID', 'store_and_fwd_flag',\n",
       "       'dropoff_longitude', 'dropoff_latitude', 'payment_type', 'fare_amount',\n",
       "       'extra', 'mta_tax', 'tip_amount', 'tolls_amount',\n",
       "       'improvement_surcharge', 'total_amount', 'Trip_index'],\n",
       "      dtype='object')"
      ]
     },
     "execution_count": 27,
     "metadata": {},
     "output_type": "execute_result"
    }
   ],
   "source": [
    "df.columns"
   ]
  },
  {
   "cell_type": "markdown",
   "id": "d9c31dd9-3cc2-48e2-9902-39f9f345b552",
   "metadata": {},
   "source": [
    "# Creating Fact Tabel "
   ]
  },
  {
   "cell_type": "code",
   "execution_count": 28,
   "id": "0427107b-a8be-4333-a03f-2c7c99007ea5",
   "metadata": {},
   "outputs": [],
   "source": [
    "Fact_Table = pd.concat([df['VendorID'],DateTime_dim['DateTime_Id'],Passenger_count_dim['Passenger_count_Id'],\n",
    "                        Trip_Distance_dim['Trip_Distance_Id'],Pickup_Location_dim['Pickup_Location_Id'],\n",
    "                        Drop_Location_dim['Drop_Location_Id'],Rate_code_dim['Rate_code_Id'],\n",
    "                        Payment_dim['Payment_Type_Id'],df['store_and_fwd_flag'],df['fare_amount'],df['extra'], \n",
    "                        df['mta_tax'],df['tip_amount'], df['tolls_amount'],df['improvement_surcharge'],\n",
    "                        df['total_amount']],axis = 1)"
   ]
  },
  {
   "cell_type": "code",
   "execution_count": 29,
   "id": "650c7fa5-45a3-4145-a2df-dfc55ab142a3",
   "metadata": {},
   "outputs": [
    {
     "data": {
      "text/html": [
       "<div>\n",
       "<style scoped>\n",
       "    .dataframe tbody tr th:only-of-type {\n",
       "        vertical-align: middle;\n",
       "    }\n",
       "\n",
       "    .dataframe tbody tr th {\n",
       "        vertical-align: top;\n",
       "    }\n",
       "\n",
       "    .dataframe thead th {\n",
       "        text-align: right;\n",
       "    }\n",
       "</style>\n",
       "<table border=\"1\" class=\"dataframe\">\n",
       "  <thead>\n",
       "    <tr style=\"text-align: right;\">\n",
       "      <th></th>\n",
       "      <th>VendorID</th>\n",
       "      <th>DateTime_Id</th>\n",
       "      <th>Passenger_count_Id</th>\n",
       "      <th>Trip_Distance_Id</th>\n",
       "      <th>Pickup_Location_Id</th>\n",
       "      <th>Drop_Location_Id</th>\n",
       "      <th>Rate_code_Id</th>\n",
       "      <th>Payment_Type_Id</th>\n",
       "      <th>store_and_fwd_flag</th>\n",
       "      <th>fare_amount</th>\n",
       "      <th>extra</th>\n",
       "      <th>mta_tax</th>\n",
       "      <th>tip_amount</th>\n",
       "      <th>tolls_amount</th>\n",
       "      <th>improvement_surcharge</th>\n",
       "      <th>total_amount</th>\n",
       "    </tr>\n",
       "  </thead>\n",
       "  <tbody>\n",
       "    <tr>\n",
       "      <th>0</th>\n",
       "      <td>1</td>\n",
       "      <td>0</td>\n",
       "      <td>0</td>\n",
       "      <td>0</td>\n",
       "      <td>0</td>\n",
       "      <td>0</td>\n",
       "      <td>0</td>\n",
       "      <td>0</td>\n",
       "      <td>N</td>\n",
       "      <td>9.0</td>\n",
       "      <td>0.5</td>\n",
       "      <td>0.5</td>\n",
       "      <td>2.05</td>\n",
       "      <td>0.00</td>\n",
       "      <td>0.3</td>\n",
       "      <td>12.35</td>\n",
       "    </tr>\n",
       "    <tr>\n",
       "      <th>1</th>\n",
       "      <td>1</td>\n",
       "      <td>1</td>\n",
       "      <td>1</td>\n",
       "      <td>1</td>\n",
       "      <td>1</td>\n",
       "      <td>1</td>\n",
       "      <td>1</td>\n",
       "      <td>1</td>\n",
       "      <td>N</td>\n",
       "      <td>11.0</td>\n",
       "      <td>0.5</td>\n",
       "      <td>0.5</td>\n",
       "      <td>3.05</td>\n",
       "      <td>0.00</td>\n",
       "      <td>0.3</td>\n",
       "      <td>15.35</td>\n",
       "    </tr>\n",
       "    <tr>\n",
       "      <th>2</th>\n",
       "      <td>2</td>\n",
       "      <td>2</td>\n",
       "      <td>2</td>\n",
       "      <td>2</td>\n",
       "      <td>2</td>\n",
       "      <td>2</td>\n",
       "      <td>2</td>\n",
       "      <td>2</td>\n",
       "      <td>N</td>\n",
       "      <td>54.5</td>\n",
       "      <td>0.5</td>\n",
       "      <td>0.5</td>\n",
       "      <td>8.00</td>\n",
       "      <td>0.00</td>\n",
       "      <td>0.3</td>\n",
       "      <td>63.80</td>\n",
       "    </tr>\n",
       "    <tr>\n",
       "      <th>3</th>\n",
       "      <td>2</td>\n",
       "      <td>3</td>\n",
       "      <td>3</td>\n",
       "      <td>3</td>\n",
       "      <td>3</td>\n",
       "      <td>3</td>\n",
       "      <td>3</td>\n",
       "      <td>3</td>\n",
       "      <td>N</td>\n",
       "      <td>31.5</td>\n",
       "      <td>0.0</td>\n",
       "      <td>0.5</td>\n",
       "      <td>3.78</td>\n",
       "      <td>5.54</td>\n",
       "      <td>0.3</td>\n",
       "      <td>41.62</td>\n",
       "    </tr>\n",
       "    <tr>\n",
       "      <th>4</th>\n",
       "      <td>2</td>\n",
       "      <td>4</td>\n",
       "      <td>4</td>\n",
       "      <td>4</td>\n",
       "      <td>4</td>\n",
       "      <td>4</td>\n",
       "      <td>4</td>\n",
       "      <td>4</td>\n",
       "      <td>N</td>\n",
       "      <td>98.0</td>\n",
       "      <td>0.0</td>\n",
       "      <td>0.0</td>\n",
       "      <td>0.00</td>\n",
       "      <td>15.50</td>\n",
       "      <td>0.3</td>\n",
       "      <td>113.80</td>\n",
       "    </tr>\n",
       "    <tr>\n",
       "      <th>...</th>\n",
       "      <td>...</td>\n",
       "      <td>...</td>\n",
       "      <td>...</td>\n",
       "      <td>...</td>\n",
       "      <td>...</td>\n",
       "      <td>...</td>\n",
       "      <td>...</td>\n",
       "      <td>...</td>\n",
       "      <td>...</td>\n",
       "      <td>...</td>\n",
       "      <td>...</td>\n",
       "      <td>...</td>\n",
       "      <td>...</td>\n",
       "      <td>...</td>\n",
       "      <td>...</td>\n",
       "      <td>...</td>\n",
       "    </tr>\n",
       "    <tr>\n",
       "      <th>99995</th>\n",
       "      <td>1</td>\n",
       "      <td>99995</td>\n",
       "      <td>99995</td>\n",
       "      <td>99995</td>\n",
       "      <td>99995</td>\n",
       "      <td>99995</td>\n",
       "      <td>99995</td>\n",
       "      <td>99995</td>\n",
       "      <td>N</td>\n",
       "      <td>5.0</td>\n",
       "      <td>0.0</td>\n",
       "      <td>0.5</td>\n",
       "      <td>0.00</td>\n",
       "      <td>0.00</td>\n",
       "      <td>0.3</td>\n",
       "      <td>5.80</td>\n",
       "    </tr>\n",
       "    <tr>\n",
       "      <th>99996</th>\n",
       "      <td>1</td>\n",
       "      <td>99996</td>\n",
       "      <td>99996</td>\n",
       "      <td>99996</td>\n",
       "      <td>99996</td>\n",
       "      <td>99996</td>\n",
       "      <td>99996</td>\n",
       "      <td>99996</td>\n",
       "      <td>N</td>\n",
       "      <td>14.0</td>\n",
       "      <td>0.0</td>\n",
       "      <td>0.5</td>\n",
       "      <td>2.00</td>\n",
       "      <td>0.00</td>\n",
       "      <td>0.3</td>\n",
       "      <td>16.80</td>\n",
       "    </tr>\n",
       "    <tr>\n",
       "      <th>99997</th>\n",
       "      <td>1</td>\n",
       "      <td>99997</td>\n",
       "      <td>99997</td>\n",
       "      <td>99997</td>\n",
       "      <td>99997</td>\n",
       "      <td>99997</td>\n",
       "      <td>99997</td>\n",
       "      <td>99997</td>\n",
       "      <td>N</td>\n",
       "      <td>29.0</td>\n",
       "      <td>0.0</td>\n",
       "      <td>0.5</td>\n",
       "      <td>8.80</td>\n",
       "      <td>5.54</td>\n",
       "      <td>0.3</td>\n",
       "      <td>44.14</td>\n",
       "    </tr>\n",
       "    <tr>\n",
       "      <th>99998</th>\n",
       "      <td>2</td>\n",
       "      <td>99998</td>\n",
       "      <td>99998</td>\n",
       "      <td>99998</td>\n",
       "      <td>99998</td>\n",
       "      <td>99998</td>\n",
       "      <td>99998</td>\n",
       "      <td>99998</td>\n",
       "      <td>N</td>\n",
       "      <td>5.5</td>\n",
       "      <td>0.5</td>\n",
       "      <td>0.5</td>\n",
       "      <td>1.36</td>\n",
       "      <td>0.00</td>\n",
       "      <td>0.3</td>\n",
       "      <td>8.16</td>\n",
       "    </tr>\n",
       "    <tr>\n",
       "      <th>99999</th>\n",
       "      <td>1</td>\n",
       "      <td>99999</td>\n",
       "      <td>99999</td>\n",
       "      <td>99999</td>\n",
       "      <td>99999</td>\n",
       "      <td>99999</td>\n",
       "      <td>99999</td>\n",
       "      <td>99999</td>\n",
       "      <td>N</td>\n",
       "      <td>6.0</td>\n",
       "      <td>0.0</td>\n",
       "      <td>0.5</td>\n",
       "      <td>0.00</td>\n",
       "      <td>0.00</td>\n",
       "      <td>0.3</td>\n",
       "      <td>6.80</td>\n",
       "    </tr>\n",
       "  </tbody>\n",
       "</table>\n",
       "<p>100000 rows × 16 columns</p>\n",
       "</div>"
      ],
      "text/plain": [
       "       VendorID  DateTime_Id  Passenger_count_Id  Trip_Distance_Id  \\\n",
       "0             1            0                   0                 0   \n",
       "1             1            1                   1                 1   \n",
       "2             2            2                   2                 2   \n",
       "3             2            3                   3                 3   \n",
       "4             2            4                   4                 4   \n",
       "...         ...          ...                 ...               ...   \n",
       "99995         1        99995               99995             99995   \n",
       "99996         1        99996               99996             99996   \n",
       "99997         1        99997               99997             99997   \n",
       "99998         2        99998               99998             99998   \n",
       "99999         1        99999               99999             99999   \n",
       "\n",
       "       Pickup_Location_Id  Drop_Location_Id  Rate_code_Id  Payment_Type_Id  \\\n",
       "0                       0                 0             0                0   \n",
       "1                       1                 1             1                1   \n",
       "2                       2                 2             2                2   \n",
       "3                       3                 3             3                3   \n",
       "4                       4                 4             4                4   \n",
       "...                   ...               ...           ...              ...   \n",
       "99995               99995             99995         99995            99995   \n",
       "99996               99996             99996         99996            99996   \n",
       "99997               99997             99997         99997            99997   \n",
       "99998               99998             99998         99998            99998   \n",
       "99999               99999             99999         99999            99999   \n",
       "\n",
       "      store_and_fwd_flag  fare_amount  extra  mta_tax  tip_amount  \\\n",
       "0                      N          9.0    0.5      0.5        2.05   \n",
       "1                      N         11.0    0.5      0.5        3.05   \n",
       "2                      N         54.5    0.5      0.5        8.00   \n",
       "3                      N         31.5    0.0      0.5        3.78   \n",
       "4                      N         98.0    0.0      0.0        0.00   \n",
       "...                  ...          ...    ...      ...         ...   \n",
       "99995                  N          5.0    0.0      0.5        0.00   \n",
       "99996                  N         14.0    0.0      0.5        2.00   \n",
       "99997                  N         29.0    0.0      0.5        8.80   \n",
       "99998                  N          5.5    0.5      0.5        1.36   \n",
       "99999                  N          6.0    0.0      0.5        0.00   \n",
       "\n",
       "       tolls_amount  improvement_surcharge  total_amount  \n",
       "0              0.00                    0.3         12.35  \n",
       "1              0.00                    0.3         15.35  \n",
       "2              0.00                    0.3         63.80  \n",
       "3              5.54                    0.3         41.62  \n",
       "4             15.50                    0.3        113.80  \n",
       "...             ...                    ...           ...  \n",
       "99995          0.00                    0.3          5.80  \n",
       "99996          0.00                    0.3         16.80  \n",
       "99997          5.54                    0.3         44.14  \n",
       "99998          0.00                    0.3          8.16  \n",
       "99999          0.00                    0.3          6.80  \n",
       "\n",
       "[100000 rows x 16 columns]"
      ]
     },
     "execution_count": 29,
     "metadata": {},
     "output_type": "execute_result"
    }
   ],
   "source": [
    "Fact_Table"
   ]
  },
  {
   "cell_type": "code",
   "execution_count": 202,
   "id": "70c8c7d1-f951-4b54-9f17-40f31d71315f",
   "metadata": {},
   "outputs": [],
   "source": [
    "a = pd.concat([df,Payment_dim,Rate_code_dim],axis = 1)"
   ]
  },
  {
   "cell_type": "code",
   "execution_count": null,
   "id": "ef12a467-8d0b-4eea-a6e5-66bdd689eec6",
   "metadata": {},
   "outputs": [],
   "source": []
  },
  {
   "cell_type": "markdown",
   "id": "d9ece556-cb11-404a-92ff-47c681b055a3",
   "metadata": {},
   "source": [
    "# Analysing The Uber Data"
   ]
  },
  {
   "cell_type": "code",
   "execution_count": 30,
   "id": "5b16bef7-6c04-47ef-8ea4-3e255337a1db",
   "metadata": {},
   "outputs": [
    {
     "data": {
      "text/html": [
       "<div>\n",
       "<style scoped>\n",
       "    .dataframe tbody tr th:only-of-type {\n",
       "        vertical-align: middle;\n",
       "    }\n",
       "\n",
       "    .dataframe tbody tr th {\n",
       "        vertical-align: top;\n",
       "    }\n",
       "\n",
       "    .dataframe thead th {\n",
       "        text-align: right;\n",
       "    }\n",
       "</style>\n",
       "<table border=\"1\" class=\"dataframe\">\n",
       "  <thead>\n",
       "    <tr style=\"text-align: right;\">\n",
       "      <th></th>\n",
       "      <th>VendorID</th>\n",
       "      <th>tpep_pickup_datetime</th>\n",
       "      <th>tpep_dropoff_datetime</th>\n",
       "      <th>passenger_count</th>\n",
       "      <th>trip_distance</th>\n",
       "      <th>pickup_longitude</th>\n",
       "      <th>pickup_latitude</th>\n",
       "      <th>RatecodeID</th>\n",
       "      <th>store_and_fwd_flag</th>\n",
       "      <th>dropoff_longitude</th>\n",
       "      <th>dropoff_latitude</th>\n",
       "      <th>payment_type</th>\n",
       "      <th>fare_amount</th>\n",
       "      <th>extra</th>\n",
       "      <th>mta_tax</th>\n",
       "      <th>tip_amount</th>\n",
       "      <th>tolls_amount</th>\n",
       "      <th>improvement_surcharge</th>\n",
       "      <th>total_amount</th>\n",
       "    </tr>\n",
       "  </thead>\n",
       "  <tbody>\n",
       "    <tr>\n",
       "      <th>0</th>\n",
       "      <td>1</td>\n",
       "      <td>2016-03-01 00:00:00</td>\n",
       "      <td>2016-03-01 00:07:55</td>\n",
       "      <td>1</td>\n",
       "      <td>2.50</td>\n",
       "      <td>-73.976746</td>\n",
       "      <td>40.765152</td>\n",
       "      <td>1</td>\n",
       "      <td>N</td>\n",
       "      <td>-74.004265</td>\n",
       "      <td>40.746128</td>\n",
       "      <td>1</td>\n",
       "      <td>9.0</td>\n",
       "      <td>0.5</td>\n",
       "      <td>0.5</td>\n",
       "      <td>2.05</td>\n",
       "      <td>0.00</td>\n",
       "      <td>0.3</td>\n",
       "      <td>12.35</td>\n",
       "    </tr>\n",
       "    <tr>\n",
       "      <th>1</th>\n",
       "      <td>1</td>\n",
       "      <td>2016-03-01 00:00:00</td>\n",
       "      <td>2016-03-01 00:11:06</td>\n",
       "      <td>1</td>\n",
       "      <td>2.90</td>\n",
       "      <td>-73.983482</td>\n",
       "      <td>40.767925</td>\n",
       "      <td>1</td>\n",
       "      <td>N</td>\n",
       "      <td>-74.005943</td>\n",
       "      <td>40.733166</td>\n",
       "      <td>1</td>\n",
       "      <td>11.0</td>\n",
       "      <td>0.5</td>\n",
       "      <td>0.5</td>\n",
       "      <td>3.05</td>\n",
       "      <td>0.00</td>\n",
       "      <td>0.3</td>\n",
       "      <td>15.35</td>\n",
       "    </tr>\n",
       "    <tr>\n",
       "      <th>2</th>\n",
       "      <td>2</td>\n",
       "      <td>2016-03-01 00:00:00</td>\n",
       "      <td>2016-03-01 00:31:06</td>\n",
       "      <td>2</td>\n",
       "      <td>19.98</td>\n",
       "      <td>-73.782021</td>\n",
       "      <td>40.644810</td>\n",
       "      <td>1</td>\n",
       "      <td>N</td>\n",
       "      <td>-73.974541</td>\n",
       "      <td>40.675770</td>\n",
       "      <td>1</td>\n",
       "      <td>54.5</td>\n",
       "      <td>0.5</td>\n",
       "      <td>0.5</td>\n",
       "      <td>8.00</td>\n",
       "      <td>0.00</td>\n",
       "      <td>0.3</td>\n",
       "      <td>63.80</td>\n",
       "    </tr>\n",
       "    <tr>\n",
       "      <th>3</th>\n",
       "      <td>2</td>\n",
       "      <td>2016-03-01 00:00:00</td>\n",
       "      <td>2016-03-01 00:00:00</td>\n",
       "      <td>3</td>\n",
       "      <td>10.78</td>\n",
       "      <td>-73.863419</td>\n",
       "      <td>40.769814</td>\n",
       "      <td>1</td>\n",
       "      <td>N</td>\n",
       "      <td>-73.969650</td>\n",
       "      <td>40.757767</td>\n",
       "      <td>1</td>\n",
       "      <td>31.5</td>\n",
       "      <td>0.0</td>\n",
       "      <td>0.5</td>\n",
       "      <td>3.78</td>\n",
       "      <td>5.54</td>\n",
       "      <td>0.3</td>\n",
       "      <td>41.62</td>\n",
       "    </tr>\n",
       "    <tr>\n",
       "      <th>4</th>\n",
       "      <td>2</td>\n",
       "      <td>2016-03-01 00:00:00</td>\n",
       "      <td>2016-03-01 00:00:00</td>\n",
       "      <td>5</td>\n",
       "      <td>30.43</td>\n",
       "      <td>-73.971741</td>\n",
       "      <td>40.792183</td>\n",
       "      <td>3</td>\n",
       "      <td>N</td>\n",
       "      <td>-74.177170</td>\n",
       "      <td>40.695053</td>\n",
       "      <td>1</td>\n",
       "      <td>98.0</td>\n",
       "      <td>0.0</td>\n",
       "      <td>0.0</td>\n",
       "      <td>0.00</td>\n",
       "      <td>15.50</td>\n",
       "      <td>0.3</td>\n",
       "      <td>113.80</td>\n",
       "    </tr>\n",
       "    <tr>\n",
       "      <th>...</th>\n",
       "      <td>...</td>\n",
       "      <td>...</td>\n",
       "      <td>...</td>\n",
       "      <td>...</td>\n",
       "      <td>...</td>\n",
       "      <td>...</td>\n",
       "      <td>...</td>\n",
       "      <td>...</td>\n",
       "      <td>...</td>\n",
       "      <td>...</td>\n",
       "      <td>...</td>\n",
       "      <td>...</td>\n",
       "      <td>...</td>\n",
       "      <td>...</td>\n",
       "      <td>...</td>\n",
       "      <td>...</td>\n",
       "      <td>...</td>\n",
       "      <td>...</td>\n",
       "      <td>...</td>\n",
       "    </tr>\n",
       "    <tr>\n",
       "      <th>99995</th>\n",
       "      <td>1</td>\n",
       "      <td>2016-03-01 06:17:10</td>\n",
       "      <td>2016-03-01 06:22:15</td>\n",
       "      <td>1</td>\n",
       "      <td>0.50</td>\n",
       "      <td>-73.990898</td>\n",
       "      <td>40.750519</td>\n",
       "      <td>1</td>\n",
       "      <td>N</td>\n",
       "      <td>-73.998245</td>\n",
       "      <td>40.750462</td>\n",
       "      <td>2</td>\n",
       "      <td>5.0</td>\n",
       "      <td>0.0</td>\n",
       "      <td>0.5</td>\n",
       "      <td>0.00</td>\n",
       "      <td>0.00</td>\n",
       "      <td>0.3</td>\n",
       "      <td>5.80</td>\n",
       "    </tr>\n",
       "    <tr>\n",
       "      <th>99996</th>\n",
       "      <td>1</td>\n",
       "      <td>2016-03-01 06:17:10</td>\n",
       "      <td>2016-03-01 06:32:41</td>\n",
       "      <td>1</td>\n",
       "      <td>3.40</td>\n",
       "      <td>-74.014488</td>\n",
       "      <td>40.718296</td>\n",
       "      <td>1</td>\n",
       "      <td>N</td>\n",
       "      <td>-73.982361</td>\n",
       "      <td>40.752529</td>\n",
       "      <td>1</td>\n",
       "      <td>14.0</td>\n",
       "      <td>0.0</td>\n",
       "      <td>0.5</td>\n",
       "      <td>2.00</td>\n",
       "      <td>0.00</td>\n",
       "      <td>0.3</td>\n",
       "      <td>16.80</td>\n",
       "    </tr>\n",
       "    <tr>\n",
       "      <th>99997</th>\n",
       "      <td>1</td>\n",
       "      <td>2016-03-01 06:17:10</td>\n",
       "      <td>2016-03-01 06:37:23</td>\n",
       "      <td>1</td>\n",
       "      <td>9.70</td>\n",
       "      <td>-73.963379</td>\n",
       "      <td>40.774097</td>\n",
       "      <td>1</td>\n",
       "      <td>N</td>\n",
       "      <td>-73.865028</td>\n",
       "      <td>40.770512</td>\n",
       "      <td>1</td>\n",
       "      <td>29.0</td>\n",
       "      <td>0.0</td>\n",
       "      <td>0.5</td>\n",
       "      <td>8.80</td>\n",
       "      <td>5.54</td>\n",
       "      <td>0.3</td>\n",
       "      <td>44.14</td>\n",
       "    </tr>\n",
       "    <tr>\n",
       "      <th>99998</th>\n",
       "      <td>2</td>\n",
       "      <td>2016-03-01 06:17:10</td>\n",
       "      <td>2016-03-01 06:22:09</td>\n",
       "      <td>1</td>\n",
       "      <td>0.92</td>\n",
       "      <td>-73.984901</td>\n",
       "      <td>40.763111</td>\n",
       "      <td>1</td>\n",
       "      <td>N</td>\n",
       "      <td>-73.970695</td>\n",
       "      <td>40.759148</td>\n",
       "      <td>1</td>\n",
       "      <td>5.5</td>\n",
       "      <td>0.5</td>\n",
       "      <td>0.5</td>\n",
       "      <td>1.36</td>\n",
       "      <td>0.00</td>\n",
       "      <td>0.3</td>\n",
       "      <td>8.16</td>\n",
       "    </tr>\n",
       "    <tr>\n",
       "      <th>99999</th>\n",
       "      <td>1</td>\n",
       "      <td>2016-03-01 06:17:11</td>\n",
       "      <td>2016-03-01 06:22:00</td>\n",
       "      <td>1</td>\n",
       "      <td>1.00</td>\n",
       "      <td>-73.990685</td>\n",
       "      <td>40.750473</td>\n",
       "      <td>1</td>\n",
       "      <td>N</td>\n",
       "      <td>-73.980354</td>\n",
       "      <td>40.754910</td>\n",
       "      <td>2</td>\n",
       "      <td>6.0</td>\n",
       "      <td>0.0</td>\n",
       "      <td>0.5</td>\n",
       "      <td>0.00</td>\n",
       "      <td>0.00</td>\n",
       "      <td>0.3</td>\n",
       "      <td>6.80</td>\n",
       "    </tr>\n",
       "  </tbody>\n",
       "</table>\n",
       "<p>100000 rows × 19 columns</p>\n",
       "</div>"
      ],
      "text/plain": [
       "       VendorID tpep_pickup_datetime tpep_dropoff_datetime  passenger_count  \\\n",
       "0             1  2016-03-01 00:00:00   2016-03-01 00:07:55                1   \n",
       "1             1  2016-03-01 00:00:00   2016-03-01 00:11:06                1   \n",
       "2             2  2016-03-01 00:00:00   2016-03-01 00:31:06                2   \n",
       "3             2  2016-03-01 00:00:00   2016-03-01 00:00:00                3   \n",
       "4             2  2016-03-01 00:00:00   2016-03-01 00:00:00                5   \n",
       "...         ...                  ...                   ...              ...   \n",
       "99995         1  2016-03-01 06:17:10   2016-03-01 06:22:15                1   \n",
       "99996         1  2016-03-01 06:17:10   2016-03-01 06:32:41                1   \n",
       "99997         1  2016-03-01 06:17:10   2016-03-01 06:37:23                1   \n",
       "99998         2  2016-03-01 06:17:10   2016-03-01 06:22:09                1   \n",
       "99999         1  2016-03-01 06:17:11   2016-03-01 06:22:00                1   \n",
       "\n",
       "       trip_distance  pickup_longitude  pickup_latitude  RatecodeID  \\\n",
       "0               2.50        -73.976746        40.765152           1   \n",
       "1               2.90        -73.983482        40.767925           1   \n",
       "2              19.98        -73.782021        40.644810           1   \n",
       "3              10.78        -73.863419        40.769814           1   \n",
       "4              30.43        -73.971741        40.792183           3   \n",
       "...              ...               ...              ...         ...   \n",
       "99995           0.50        -73.990898        40.750519           1   \n",
       "99996           3.40        -74.014488        40.718296           1   \n",
       "99997           9.70        -73.963379        40.774097           1   \n",
       "99998           0.92        -73.984901        40.763111           1   \n",
       "99999           1.00        -73.990685        40.750473           1   \n",
       "\n",
       "      store_and_fwd_flag  dropoff_longitude  dropoff_latitude  payment_type  \\\n",
       "0                      N         -74.004265         40.746128             1   \n",
       "1                      N         -74.005943         40.733166             1   \n",
       "2                      N         -73.974541         40.675770             1   \n",
       "3                      N         -73.969650         40.757767             1   \n",
       "4                      N         -74.177170         40.695053             1   \n",
       "...                  ...                ...               ...           ...   \n",
       "99995                  N         -73.998245         40.750462             2   \n",
       "99996                  N         -73.982361         40.752529             1   \n",
       "99997                  N         -73.865028         40.770512             1   \n",
       "99998                  N         -73.970695         40.759148             1   \n",
       "99999                  N         -73.980354         40.754910             2   \n",
       "\n",
       "       fare_amount  extra  mta_tax  tip_amount  tolls_amount  \\\n",
       "0              9.0    0.5      0.5        2.05          0.00   \n",
       "1             11.0    0.5      0.5        3.05          0.00   \n",
       "2             54.5    0.5      0.5        8.00          0.00   \n",
       "3             31.5    0.0      0.5        3.78          5.54   \n",
       "4             98.0    0.0      0.0        0.00         15.50   \n",
       "...            ...    ...      ...         ...           ...   \n",
       "99995          5.0    0.0      0.5        0.00          0.00   \n",
       "99996         14.0    0.0      0.5        2.00          0.00   \n",
       "99997         29.0    0.0      0.5        8.80          5.54   \n",
       "99998          5.5    0.5      0.5        1.36          0.00   \n",
       "99999          6.0    0.0      0.5        0.00          0.00   \n",
       "\n",
       "       improvement_surcharge  total_amount  \n",
       "0                        0.3         12.35  \n",
       "1                        0.3         15.35  \n",
       "2                        0.3         63.80  \n",
       "3                        0.3         41.62  \n",
       "4                        0.3        113.80  \n",
       "...                      ...           ...  \n",
       "99995                    0.3          5.80  \n",
       "99996                    0.3         16.80  \n",
       "99997                    0.3         44.14  \n",
       "99998                    0.3          8.16  \n",
       "99999                    0.3          6.80  \n",
       "\n",
       "[100000 rows x 19 columns]"
      ]
     },
     "execution_count": 30,
     "metadata": {},
     "output_type": "execute_result"
    }
   ],
   "source": [
    "uber_data"
   ]
  },
  {
   "cell_type": "code",
   "execution_count": 31,
   "id": "d21e8a54-5a5a-4081-9928-1453c201fef0",
   "metadata": {},
   "outputs": [
    {
     "name": "stdout",
     "output_type": "stream",
     "text": [
      "<class 'pandas.core.frame.DataFrame'>\n",
      "RangeIndex: 100000 entries, 0 to 99999\n",
      "Data columns (total 19 columns):\n",
      " #   Column                 Non-Null Count   Dtype         \n",
      "---  ------                 --------------   -----         \n",
      " 0   VendorID               100000 non-null  int64         \n",
      " 1   tpep_pickup_datetime   100000 non-null  datetime64[ns]\n",
      " 2   tpep_dropoff_datetime  100000 non-null  datetime64[ns]\n",
      " 3   passenger_count        100000 non-null  int64         \n",
      " 4   trip_distance          100000 non-null  float64       \n",
      " 5   pickup_longitude       100000 non-null  float64       \n",
      " 6   pickup_latitude        100000 non-null  float64       \n",
      " 7   RatecodeID             100000 non-null  int64         \n",
      " 8   store_and_fwd_flag     100000 non-null  object        \n",
      " 9   dropoff_longitude      100000 non-null  float64       \n",
      " 10  dropoff_latitude       100000 non-null  float64       \n",
      " 11  payment_type           100000 non-null  int64         \n",
      " 12  fare_amount            100000 non-null  float64       \n",
      " 13  extra                  100000 non-null  float64       \n",
      " 14  mta_tax                100000 non-null  float64       \n",
      " 15  tip_amount             100000 non-null  float64       \n",
      " 16  tolls_amount           100000 non-null  float64       \n",
      " 17  improvement_surcharge  100000 non-null  float64       \n",
      " 18  total_amount           100000 non-null  float64       \n",
      "dtypes: datetime64[ns](2), float64(12), int64(4), object(1)\n",
      "memory usage: 14.5+ MB\n"
     ]
    }
   ],
   "source": [
    "uber_data.info()"
   ]
  },
  {
   "cell_type": "code",
   "execution_count": 32,
   "id": "0253ef18-93fd-44f0-94f3-665a755e7684",
   "metadata": {},
   "outputs": [
    {
     "data": {
      "text/html": [
       "<div>\n",
       "<style scoped>\n",
       "    .dataframe tbody tr th:only-of-type {\n",
       "        vertical-align: middle;\n",
       "    }\n",
       "\n",
       "    .dataframe tbody tr th {\n",
       "        vertical-align: top;\n",
       "    }\n",
       "\n",
       "    .dataframe thead th {\n",
       "        text-align: right;\n",
       "    }\n",
       "</style>\n",
       "<table border=\"1\" class=\"dataframe\">\n",
       "  <thead>\n",
       "    <tr style=\"text-align: right;\">\n",
       "      <th></th>\n",
       "      <th>VendorID</th>\n",
       "      <th>tpep_pickup_datetime</th>\n",
       "      <th>tpep_dropoff_datetime</th>\n",
       "      <th>passenger_count</th>\n",
       "      <th>trip_distance</th>\n",
       "      <th>pickup_longitude</th>\n",
       "      <th>pickup_latitude</th>\n",
       "      <th>RatecodeID</th>\n",
       "      <th>dropoff_longitude</th>\n",
       "      <th>dropoff_latitude</th>\n",
       "      <th>payment_type</th>\n",
       "      <th>fare_amount</th>\n",
       "      <th>extra</th>\n",
       "      <th>mta_tax</th>\n",
       "      <th>tip_amount</th>\n",
       "      <th>tolls_amount</th>\n",
       "      <th>improvement_surcharge</th>\n",
       "      <th>total_amount</th>\n",
       "    </tr>\n",
       "  </thead>\n",
       "  <tbody>\n",
       "    <tr>\n",
       "      <th>count</th>\n",
       "      <td>100000.00000</td>\n",
       "      <td>100000</td>\n",
       "      <td>100000</td>\n",
       "      <td>100000.000000</td>\n",
       "      <td>100000.000000</td>\n",
       "      <td>100000.000000</td>\n",
       "      <td>100000.000000</td>\n",
       "      <td>100000.000000</td>\n",
       "      <td>100000.000000</td>\n",
       "      <td>100000.000000</td>\n",
       "      <td>100000.000000</td>\n",
       "      <td>100000.000000</td>\n",
       "      <td>100000.000000</td>\n",
       "      <td>100000.000000</td>\n",
       "      <td>100000.000000</td>\n",
       "      <td>100000.000000</td>\n",
       "      <td>100000.000000</td>\n",
       "      <td>100000.000000</td>\n",
       "    </tr>\n",
       "    <tr>\n",
       "      <th>mean</th>\n",
       "      <td>1.88327</td>\n",
       "      <td>2016-03-08 06:42:50.246160128</td>\n",
       "      <td>2016-03-08 06:59:44.592359936</td>\n",
       "      <td>1.929170</td>\n",
       "      <td>3.034270</td>\n",
       "      <td>-73.288983</td>\n",
       "      <td>40.375220</td>\n",
       "      <td>1.040120</td>\n",
       "      <td>-73.312418</td>\n",
       "      <td>40.388064</td>\n",
       "      <td>1.337770</td>\n",
       "      <td>13.252608</td>\n",
       "      <td>0.101695</td>\n",
       "      <td>0.497000</td>\n",
       "      <td>1.872531</td>\n",
       "      <td>0.367415</td>\n",
       "      <td>0.299496</td>\n",
       "      <td>16.390721</td>\n",
       "    </tr>\n",
       "    <tr>\n",
       "      <th>min</th>\n",
       "      <td>1.00000</td>\n",
       "      <td>2016-03-01 00:00:00</td>\n",
       "      <td>2016-03-01 00:00:00</td>\n",
       "      <td>0.000000</td>\n",
       "      <td>0.000000</td>\n",
       "      <td>-121.933327</td>\n",
       "      <td>0.000000</td>\n",
       "      <td>1.000000</td>\n",
       "      <td>-121.933327</td>\n",
       "      <td>0.000000</td>\n",
       "      <td>1.000000</td>\n",
       "      <td>-47.000000</td>\n",
       "      <td>-0.500000</td>\n",
       "      <td>-0.500000</td>\n",
       "      <td>-2.700000</td>\n",
       "      <td>0.000000</td>\n",
       "      <td>-0.300000</td>\n",
       "      <td>-47.300000</td>\n",
       "    </tr>\n",
       "    <tr>\n",
       "      <th>25%</th>\n",
       "      <td>2.00000</td>\n",
       "      <td>2016-03-10 07:18:30</td>\n",
       "      <td>2016-03-10 07:29:44.750000128</td>\n",
       "      <td>1.000000</td>\n",
       "      <td>0.990000</td>\n",
       "      <td>-73.990959</td>\n",
       "      <td>40.738891</td>\n",
       "      <td>1.000000</td>\n",
       "      <td>-73.990547</td>\n",
       "      <td>40.738541</td>\n",
       "      <td>1.000000</td>\n",
       "      <td>6.500000</td>\n",
       "      <td>0.000000</td>\n",
       "      <td>0.500000</td>\n",
       "      <td>0.000000</td>\n",
       "      <td>0.000000</td>\n",
       "      <td>0.300000</td>\n",
       "      <td>8.300000</td>\n",
       "    </tr>\n",
       "    <tr>\n",
       "      <th>50%</th>\n",
       "      <td>2.00000</td>\n",
       "      <td>2016-03-10 09:29:43.500000</td>\n",
       "      <td>2016-03-10 09:45:47</td>\n",
       "      <td>1.000000</td>\n",
       "      <td>1.670000</td>\n",
       "      <td>-73.980202</td>\n",
       "      <td>40.755299</td>\n",
       "      <td>1.000000</td>\n",
       "      <td>-73.978416</td>\n",
       "      <td>40.755079</td>\n",
       "      <td>1.000000</td>\n",
       "      <td>9.500000</td>\n",
       "      <td>0.000000</td>\n",
       "      <td>0.500000</td>\n",
       "      <td>1.360000</td>\n",
       "      <td>0.000000</td>\n",
       "      <td>0.300000</td>\n",
       "      <td>11.800000</td>\n",
       "    </tr>\n",
       "    <tr>\n",
       "      <th>75%</th>\n",
       "      <td>2.00000</td>\n",
       "      <td>2016-03-10 12:03:33.249999872</td>\n",
       "      <td>2016-03-10 12:20:23.249999872</td>\n",
       "      <td>2.000000</td>\n",
       "      <td>3.200000</td>\n",
       "      <td>-73.964203</td>\n",
       "      <td>40.769021</td>\n",
       "      <td>1.000000</td>\n",
       "      <td>-73.962090</td>\n",
       "      <td>40.767910</td>\n",
       "      <td>2.000000</td>\n",
       "      <td>15.000000</td>\n",
       "      <td>0.000000</td>\n",
       "      <td>0.500000</td>\n",
       "      <td>2.460000</td>\n",
       "      <td>0.000000</td>\n",
       "      <td>0.300000</td>\n",
       "      <td>18.300000</td>\n",
       "    </tr>\n",
       "    <tr>\n",
       "      <th>max</th>\n",
       "      <td>2.00000</td>\n",
       "      <td>2016-03-10 14:27:09</td>\n",
       "      <td>2016-03-11 14:19:17</td>\n",
       "      <td>6.000000</td>\n",
       "      <td>184.400000</td>\n",
       "      <td>0.000000</td>\n",
       "      <td>41.204548</td>\n",
       "      <td>6.000000</td>\n",
       "      <td>0.000000</td>\n",
       "      <td>42.666893</td>\n",
       "      <td>4.000000</td>\n",
       "      <td>819.500000</td>\n",
       "      <td>4.500000</td>\n",
       "      <td>0.500000</td>\n",
       "      <td>125.880000</td>\n",
       "      <td>25.540000</td>\n",
       "      <td>0.300000</td>\n",
       "      <td>832.800000</td>\n",
       "    </tr>\n",
       "    <tr>\n",
       "      <th>std</th>\n",
       "      <td>0.32110</td>\n",
       "      <td>NaN</td>\n",
       "      <td>NaN</td>\n",
       "      <td>1.589408</td>\n",
       "      <td>3.846951</td>\n",
       "      <td>7.089652</td>\n",
       "      <td>3.901413</td>\n",
       "      <td>0.284238</td>\n",
       "      <td>6.964171</td>\n",
       "      <td>3.833974</td>\n",
       "      <td>0.481356</td>\n",
       "      <td>11.685574</td>\n",
       "      <td>0.202166</td>\n",
       "      <td>0.042673</td>\n",
       "      <td>2.618611</td>\n",
       "      <td>1.527758</td>\n",
       "      <td>0.016642</td>\n",
       "      <td>14.437180</td>\n",
       "    </tr>\n",
       "  </tbody>\n",
       "</table>\n",
       "</div>"
      ],
      "text/plain": [
       "           VendorID           tpep_pickup_datetime  \\\n",
       "count  100000.00000                         100000   \n",
       "mean        1.88327  2016-03-08 06:42:50.246160128   \n",
       "min         1.00000            2016-03-01 00:00:00   \n",
       "25%         2.00000            2016-03-10 07:18:30   \n",
       "50%         2.00000     2016-03-10 09:29:43.500000   \n",
       "75%         2.00000  2016-03-10 12:03:33.249999872   \n",
       "max         2.00000            2016-03-10 14:27:09   \n",
       "std         0.32110                            NaN   \n",
       "\n",
       "               tpep_dropoff_datetime  passenger_count  trip_distance  \\\n",
       "count                         100000    100000.000000  100000.000000   \n",
       "mean   2016-03-08 06:59:44.592359936         1.929170       3.034270   \n",
       "min              2016-03-01 00:00:00         0.000000       0.000000   \n",
       "25%    2016-03-10 07:29:44.750000128         1.000000       0.990000   \n",
       "50%              2016-03-10 09:45:47         1.000000       1.670000   \n",
       "75%    2016-03-10 12:20:23.249999872         2.000000       3.200000   \n",
       "max              2016-03-11 14:19:17         6.000000     184.400000   \n",
       "std                              NaN         1.589408       3.846951   \n",
       "\n",
       "       pickup_longitude  pickup_latitude     RatecodeID  dropoff_longitude  \\\n",
       "count     100000.000000    100000.000000  100000.000000      100000.000000   \n",
       "mean         -73.288983        40.375220       1.040120         -73.312418   \n",
       "min         -121.933327         0.000000       1.000000        -121.933327   \n",
       "25%          -73.990959        40.738891       1.000000         -73.990547   \n",
       "50%          -73.980202        40.755299       1.000000         -73.978416   \n",
       "75%          -73.964203        40.769021       1.000000         -73.962090   \n",
       "max            0.000000        41.204548       6.000000           0.000000   \n",
       "std            7.089652         3.901413       0.284238           6.964171   \n",
       "\n",
       "       dropoff_latitude   payment_type    fare_amount          extra  \\\n",
       "count     100000.000000  100000.000000  100000.000000  100000.000000   \n",
       "mean          40.388064       1.337770      13.252608       0.101695   \n",
       "min            0.000000       1.000000     -47.000000      -0.500000   \n",
       "25%           40.738541       1.000000       6.500000       0.000000   \n",
       "50%           40.755079       1.000000       9.500000       0.000000   \n",
       "75%           40.767910       2.000000      15.000000       0.000000   \n",
       "max           42.666893       4.000000     819.500000       4.500000   \n",
       "std            3.833974       0.481356      11.685574       0.202166   \n",
       "\n",
       "             mta_tax     tip_amount   tolls_amount  improvement_surcharge  \\\n",
       "count  100000.000000  100000.000000  100000.000000          100000.000000   \n",
       "mean        0.497000       1.872531       0.367415               0.299496   \n",
       "min        -0.500000      -2.700000       0.000000              -0.300000   \n",
       "25%         0.500000       0.000000       0.000000               0.300000   \n",
       "50%         0.500000       1.360000       0.000000               0.300000   \n",
       "75%         0.500000       2.460000       0.000000               0.300000   \n",
       "max         0.500000     125.880000      25.540000               0.300000   \n",
       "std         0.042673       2.618611       1.527758               0.016642   \n",
       "\n",
       "        total_amount  \n",
       "count  100000.000000  \n",
       "mean       16.390721  \n",
       "min       -47.300000  \n",
       "25%         8.300000  \n",
       "50%        11.800000  \n",
       "75%        18.300000  \n",
       "max       832.800000  \n",
       "std        14.437180  "
      ]
     },
     "execution_count": 32,
     "metadata": {},
     "output_type": "execute_result"
    }
   ],
   "source": [
    "uber_data.describe()"
   ]
  },
  {
   "cell_type": "code",
   "execution_count": null,
   "id": "cee88e2d-39ed-43f6-9eaf-e96ee934718e",
   "metadata": {},
   "outputs": [],
   "source": [
    " "
   ]
  },
  {
   "cell_type": "code",
   "execution_count": null,
   "id": "a6dbc044-ff52-4e71-973d-12b67b9edc20",
   "metadata": {},
   "outputs": [],
   "source": [
    "# Based VendorId Analysing The data"
   ]
  },
  {
   "cell_type": "code",
   "execution_count": null,
   "id": "9adad7c8-5454-4d1b-9012-98ec07f4ed22",
   "metadata": {},
   "outputs": [],
   "source": [
    "# Trip Distance Covered"
   ]
  },
  {
   "cell_type": "code",
   "execution_count": 187,
   "id": "7d374772-0521-47b3-baa3-925e172b84a2",
   "metadata": {},
   "outputs": [
    {
     "data": {
      "image/png": "[encoded data removed]",
      "text/plain": [
       "<Figure size 640x480 with 1 Axes>"
      ]
     },
     "metadata": {},
     "output_type": "display_data"
    }
   ],
   "source": [
    "# Plot the vendor who booked travel most\n",
    "uber_data['VendorID'].value_counts().plot(kind='bar')\n",
    "plt.title('Which vendor Traveled Most')\n",
    "plt.xlabel('Vendor')\n",
    "plt.ylabel('No.of Traveled')\n",
    "plt.show()"
   ]
  },
  {
   "cell_type": "code",
   "execution_count": 170,
   "id": "22716f78-a646-4a6e-9b79-574259e147ed",
   "metadata": {},
   "outputs": [
    {
     "data": {
      "text/plain": [
       "VendorID\n",
       "2    88327\n",
       "1    11673\n",
       "Name: count, dtype: int64"
      ]
     },
     "execution_count": 170,
     "metadata": {},
     "output_type": "execute_result"
    }
   ],
   "source": [
    "uber_data['VendorID'].value_counts()"
   ]
  },
  {
   "cell_type": "code",
   "execution_count": 198,
   "id": "016063f2-8a5a-42ff-8939-797fbecf05c5",
   "metadata": {},
   "outputs": [
    {
     "data": {
      "text/plain": [
       "VendorID\n",
       "1     45016.40\n",
       "2    258410.64\n",
       "Name: trip_distance, dtype: float64"
      ]
     },
     "execution_count": 198,
     "metadata": {},
     "output_type": "execute_result"
    }
   ],
   "source": [
    "uber_data.groupby('VendorID')['trip_distance'].sum()"
   ]
  },
  {
   "cell_type": "code",
   "execution_count": 33,
   "id": "bcd9de01-f513-4cdf-a0cf-21b9b30f7a62",
   "metadata": {},
   "outputs": [
    {
     "data": {
      "text/plain": [
       "VendorID\n",
       "1    184.40\n",
       "2     55.01\n",
       "Name: trip_distance, dtype: float64"
      ]
     },
     "execution_count": 33,
     "metadata": {},
     "output_type": "execute_result"
    }
   ],
   "source": [
    "uber_data.groupby('VendorID')['trip_distance'].max()"
   ]
  },
  {
   "cell_type": "code",
   "execution_count": 34,
   "id": "1772d668-b162-4f46-a3f0-a9ce16342595",
   "metadata": {},
   "outputs": [
    {
     "data": {
      "text/plain": [
       "VendorID\n",
       "1    0.0\n",
       "2    0.0\n",
       "Name: trip_distance, dtype: float64"
      ]
     },
     "execution_count": 34,
     "metadata": {},
     "output_type": "execute_result"
    }
   ],
   "source": [
    "uber_data.groupby('VendorID')['trip_distance'].min()"
   ]
  },
  {
   "cell_type": "code",
   "execution_count": null,
   "id": "b051342d-7197-49ae-962a-2de9eac28a50",
   "metadata": {},
   "outputs": [],
   "source": []
  },
  {
   "cell_type": "code",
   "execution_count": 189,
   "id": "29f1883f-468f-4940-b090-88436b9ccc09",
   "metadata": {},
   "outputs": [
    {
     "data": {
      "text/plain": [
       "Text(0, 0.5, 'Trip Distance')"
      ]
     },
     "execution_count": 189,
     "metadata": {},
     "output_type": "execute_result"
    },
    {
     "data": {
      "image/png": "[encoded data removed]",
      "text/plain": [
       "<Figure size 640x480 with 1 Axes>"
      ]
     },
     "metadata": {},
     "output_type": "display_data"
    }
   ],
   "source": [
    "uber_data.groupby('VendorID')['trip_distance'].mean().round(2).plot(kind ='bar')\n",
    "plt.ylabel('Trip Distance')"
   ]
  },
  {
   "cell_type": "code",
   "execution_count": 172,
   "id": "25d2abaf-ccb4-4180-b66c-3cd8062f06f7",
   "metadata": {},
   "outputs": [
    {
     "data": {
      "text/plain": [
       "VendorID\n",
       "1    3.86\n",
       "2    2.93\n",
       "Name: trip_distance, dtype: float64"
      ]
     },
     "execution_count": 172,
     "metadata": {},
     "output_type": "execute_result"
    }
   ],
   "source": [
    "uber_data.groupby('VendorID')['trip_distance'].mean().round(2)"
   ]
  },
  {
   "cell_type": "code",
   "execution_count": null,
   "id": "38aec3e2-4121-48f8-8393-4a2c49bb5d73",
   "metadata": {},
   "outputs": [],
   "source": [
    "# Money Collected"
   ]
  },
  {
   "cell_type": "code",
   "execution_count": null,
   "id": "f0e71791-f88d-40bc-8415-2a86f48c66cf",
   "metadata": {},
   "outputs": [],
   "source": [
    "# fare Amount"
   ]
  },
  {
   "cell_type": "code",
   "execution_count": null,
   "id": "e8034ef7-22b0-4b16-bda7-ad76b26662ea",
   "metadata": {},
   "outputs": [],
   "source": []
  },
  {
   "cell_type": "code",
   "execution_count": 190,
   "id": "47aad70b-473a-4da3-93a1-e84ef4fe4d0f",
   "metadata": {},
   "outputs": [
    {
     "data": {
      "text/plain": [
       "<Axes: xlabel='VendorID'>"
      ]
     },
     "execution_count": 190,
     "metadata": {},
     "output_type": "execute_result"
    },
    {
     "data": {
      "image/png": "[encoded data removed]",
      "text/plain": [
       "<Figure size 640x480 with 1 Axes>"
      ]
     },
     "metadata": {},
     "output_type": "display_data"
    }
   ],
   "source": [
    "uber_data.groupby('VendorID')['fare_amount'].sum().plot(kind = 'bar')"
   ]
  },
  {
   "cell_type": "code",
   "execution_count": 192,
   "id": "d0ef44a2-6351-405e-945b-64654cbb75ce",
   "metadata": {},
   "outputs": [
    {
     "data": {
      "text/plain": [
       "VendorID\n",
       "1     162428.91\n",
       "2    1162831.93\n",
       "Name: fare_amount, dtype: float64"
      ]
     },
     "execution_count": 192,
     "metadata": {},
     "output_type": "execute_result"
    }
   ],
   "source": [
    "uber_data.groupby('VendorID')['fare_amount'].sum()"
   ]
  },
  {
   "cell_type": "code",
   "execution_count": null,
   "id": "5e3a89f2-f7bf-4661-a835-9770b0202309",
   "metadata": {},
   "outputs": [],
   "source": []
  },
  {
   "cell_type": "code",
   "execution_count": 193,
   "id": "0b53b4e7-2f95-4e0d-874b-c8edf5d5c4d1",
   "metadata": {},
   "outputs": [
    {
     "data": {
      "text/plain": [
       "<Axes: xlabel='VendorID'>"
      ]
     },
     "execution_count": 193,
     "metadata": {},
     "output_type": "execute_result"
    },
    {
     "data": {
      "image/png": "[encoded data removed]",
      "text/plain": [
       "<Figure size 640x480 with 1 Axes>"
      ]
     },
     "metadata": {},
     "output_type": "display_data"
    }
   ],
   "source": [
    "uber_data.groupby('VendorID')['fare_amount'].mean().round(2).plot(kind = 'bar')"
   ]
  },
  {
   "cell_type": "code",
   "execution_count": 175,
   "id": "b9f8a2cc-5490-4310-b8f6-ee438684aa82",
   "metadata": {},
   "outputs": [
    {
     "data": {
      "text/plain": [
       "VendorID\n",
       "1    13.91\n",
       "2    13.17\n",
       "Name: fare_amount, dtype: float64"
      ]
     },
     "execution_count": 175,
     "metadata": {},
     "output_type": "execute_result"
    }
   ],
   "source": [
    "uber_data.groupby('VendorID')['fare_amount'].mean().round(2)"
   ]
  },
  {
   "cell_type": "code",
   "execution_count": 176,
   "id": "1a1df377-0a55-4ba7-a409-683d351bcbdc",
   "metadata": {},
   "outputs": [
    {
     "data": {
      "text/plain": [
       "VendorID\n",
       "1    819.5\n",
       "2    400.0\n",
       "Name: fare_amount, dtype: float64"
      ]
     },
     "execution_count": 176,
     "metadata": {},
     "output_type": "execute_result"
    }
   ],
   "source": [
    "uber_data.groupby('VendorID')['fare_amount'].max()"
   ]
  },
  {
   "cell_type": "code",
   "execution_count": 177,
   "id": "c86bf8b7-18d7-4df7-8c3c-8a8ed3bb3604",
   "metadata": {},
   "outputs": [
    {
     "data": {
      "text/plain": [
       "VendorID\n",
       "1     0.0\n",
       "2   -47.0\n",
       "Name: fare_amount, dtype: float64"
      ]
     },
     "execution_count": 177,
     "metadata": {},
     "output_type": "execute_result"
    }
   ],
   "source": [
    "uber_data.groupby('VendorID')['fare_amount'].min()"
   ]
  },
  {
   "cell_type": "code",
   "execution_count": null,
   "id": "b052b39f-8750-4048-990c-3561ab3da83c",
   "metadata": {},
   "outputs": [],
   "source": [
    "# Tip Amount"
   ]
  },
  {
   "cell_type": "code",
   "execution_count": 194,
   "id": "639460cc-ace0-48eb-b764-032b3f9521f4",
   "metadata": {},
   "outputs": [
    {
     "data": {
      "text/plain": [
       "<Axes: xlabel='VendorID'>"
      ]
     },
     "execution_count": 194,
     "metadata": {},
     "output_type": "execute_result"
    },
    {
     "data": {
      "image/png": "[encoded data removed]",
      "text/plain": [
       "<Figure size 640x480 with 1 Axes>"
      ]
     },
     "metadata": {},
     "output_type": "display_data"
    }
   ],
   "source": [
    "uber_data.groupby('VendorID')['tip_amount'].sum().plot(kind = 'bar')"
   ]
  },
  {
   "cell_type": "code",
   "execution_count": 178,
   "id": "25634aa7-8315-4d19-8c98-eb0687920025",
   "metadata": {},
   "outputs": [
    {
     "data": {
      "text/plain": [
       "VendorID\n",
       "1     21122.6\n",
       "2    166130.5\n",
       "Name: tip_amount, dtype: float64"
      ]
     },
     "execution_count": 178,
     "metadata": {},
     "output_type": "execute_result"
    }
   ],
   "source": [
    "uber_data.groupby('VendorID')['tip_amount'].sum()"
   ]
  },
  {
   "cell_type": "code",
   "execution_count": 195,
   "id": "8f9aec37-1753-468c-a517-9a08673db120",
   "metadata": {},
   "outputs": [
    {
     "data": {
      "text/plain": [
       "<Axes: xlabel='VendorID'>"
      ]
     },
     "execution_count": 195,
     "metadata": {},
     "output_type": "execute_result"
    },
    {
     "data": {
      "image/png": "[encoded data removed]",
      "text/plain": [
       "<Figure size 640x480 with 1 Axes>"
      ]
     },
     "metadata": {},
     "output_type": "display_data"
    }
   ],
   "source": [
    "uber_data.groupby('VendorID')['tip_amount'].mean().round(2).plot(kind = 'bar')"
   ]
  },
  {
   "cell_type": "code",
   "execution_count": 180,
   "id": "a57b9edd-acc9-4c0a-baea-560ebbcdfe28",
   "metadata": {},
   "outputs": [
    {
     "data": {
      "text/plain": [
       "VendorID\n",
       "1    1.81\n",
       "2    1.88\n",
       "Name: tip_amount, dtype: float64"
      ]
     },
     "execution_count": 180,
     "metadata": {},
     "output_type": "execute_result"
    }
   ],
   "source": [
    "uber_data.groupby('VendorID')['tip_amount'].mean().round(2)"
   ]
  },
  {
   "cell_type": "code",
   "execution_count": 181,
   "id": "53d1c9e5-af4e-4ee2-99d7-0a1d04c43aa6",
   "metadata": {},
   "outputs": [
    {
     "data": {
      "text/plain": [
       "VendorID\n",
       "1     62.55\n",
       "2    125.88\n",
       "Name: tip_amount, dtype: float64"
      ]
     },
     "execution_count": 181,
     "metadata": {},
     "output_type": "execute_result"
    }
   ],
   "source": [
    "uber_data.groupby('VendorID')['tip_amount'].max()"
   ]
  },
  {
   "cell_type": "code",
   "execution_count": 182,
   "id": "05358f11-f4a9-4957-87b5-f7e0b3798838",
   "metadata": {},
   "outputs": [
    {
     "data": {
      "text/plain": [
       "VendorID\n",
       "1    0.0\n",
       "2   -2.7\n",
       "Name: tip_amount, dtype: float64"
      ]
     },
     "execution_count": 182,
     "metadata": {},
     "output_type": "execute_result"
    }
   ],
   "source": [
    "uber_data.groupby('VendorID')['tip_amount'].min()"
   ]
  },
  {
   "cell_type": "code",
   "execution_count": null,
   "id": "d8c17dba-4b36-4ca8-b564-dbcbc5fdc89b",
   "metadata": {},
   "outputs": [],
   "source": [
    "# Total_amount"
   ]
  },
  {
   "cell_type": "code",
   "execution_count": 196,
   "id": "9ad236ca-568c-4466-b3ff-bdc3c9d2273c",
   "metadata": {},
   "outputs": [
    {
     "data": {
      "text/plain": [
       "<Axes: xlabel='VendorID'>"
      ]
     },
     "execution_count": 196,
     "metadata": {},
     "output_type": "execute_result"
    },
    {
     "data": {
      "image/png": "[encoded data removed]",
      "text/plain": [
       "<Figure size 640x480 with 1 Axes>"
      ]
     },
     "metadata": {},
     "output_type": "display_data"
    }
   ],
   "source": [
    "uber_data.groupby('VendorID')['total_amount'].sum().plot(kind = 'bar')"
   ]
  },
  {
   "cell_type": "code",
   "execution_count": 183,
   "id": "9bbac84f-bdbc-4928-a811-c0d4f129ac4d",
   "metadata": {},
   "outputs": [
    {
     "data": {
      "text/plain": [
       "VendorID\n",
       "1     201873.52\n",
       "2    1437198.57\n",
       "Name: total_amount, dtype: float64"
      ]
     },
     "execution_count": 183,
     "metadata": {},
     "output_type": "execute_result"
    }
   ],
   "source": [
    "uber_data.groupby('VendorID')['total_amount'].sum()"
   ]
  },
  {
   "cell_type": "code",
   "execution_count": 197,
   "id": "d8778bd2-1070-43f6-95ce-1f722b519992",
   "metadata": {},
   "outputs": [
    {
     "data": {
      "text/plain": [
       "<Axes: xlabel='VendorID'>"
      ]
     },
     "execution_count": 197,
     "metadata": {},
     "output_type": "execute_result"
    },
    {
     "data": {
      "image/png": "[encoded data removed]",
      "text/plain": [
       "<Figure size 640x480 with 1 Axes>"
      ]
     },
     "metadata": {},
     "output_type": "display_data"
    }
   ],
   "source": [
    "uber_data.groupby('VendorID')['total_amount'].mean().round(2).plot(kind = 'bar')"
   ]
  },
  {
   "cell_type": "code",
   "execution_count": 184,
   "id": "cb2d7619-a61f-44ce-a392-b8f9de1baa36",
   "metadata": {},
   "outputs": [
    {
     "data": {
      "text/plain": [
       "VendorID\n",
       "1    17.29\n",
       "2    16.27\n",
       "Name: total_amount, dtype: float64"
      ]
     },
     "execution_count": 184,
     "metadata": {},
     "output_type": "execute_result"
    }
   ],
   "source": [
    "uber_data.groupby('VendorID')['total_amount'].mean().round(2)"
   ]
  },
  {
   "cell_type": "code",
   "execution_count": 185,
   "id": "9eb86db3-3a15-43fd-8a01-7e16f6110eb0",
   "metadata": {},
   "outputs": [
    {
     "data": {
      "text/plain": [
       "VendorID\n",
       "1    832.8\n",
       "2    400.3\n",
       "Name: total_amount, dtype: float64"
      ]
     },
     "execution_count": 185,
     "metadata": {},
     "output_type": "execute_result"
    }
   ],
   "source": [
    "uber_data.groupby('VendorID')['total_amount'].max()"
   ]
  },
  {
   "cell_type": "code",
   "execution_count": 186,
   "id": "08f8ad87-b9d5-4ce5-bc34-1994a3e7bb83",
   "metadata": {},
   "outputs": [
    {
     "data": {
      "text/plain": [
       "VendorID\n",
       "1     0.3\n",
       "2   -47.3\n",
       "Name: total_amount, dtype: float64"
      ]
     },
     "execution_count": 186,
     "metadata": {},
     "output_type": "execute_result"
    }
   ],
   "source": [
    "uber_data.groupby('VendorID')['total_amount'].min()"
   ]
  },
  {
   "cell_type": "code",
   "execution_count": null,
   "id": "c88ca06a-05fe-4a0d-8528-3a54350eb410",
   "metadata": {},
   "outputs": [],
   "source": []
  },
  {
   "cell_type": "code",
   "execution_count": null,
   "id": "7107657b-8640-4c96-bc9a-d616e24044f7",
   "metadata": {},
   "outputs": [],
   "source": [
    "#Based On Payment Type"
   ]
  },
  {
   "cell_type": "code",
   "execution_count": 212,
   "id": "1d371b11-7915-4a1d-90ea-93314d63ef57",
   "metadata": {},
   "outputs": [
    {
     "data": {
      "image/png": "[encoded data removed]",
      "text/plain": [
       "<Figure size 800x800 with 1 Axes>"
      ]
     },
     "metadata": {},
     "output_type": "display_data"
    }
   ],
   "source": [
    "# Group the data by Payment_Type_Name and calculate the total amount\n",
    "payment_totals = a.groupby('Payment_Type_Name')['total_amount'].sum()\n",
    "\n",
    "# Create a pie chart\n",
    "plt.figure(figsize=(8, 8))\n",
    "\n",
    "# Define colors for each payment type\n",
    "colors = ['#FF5733', '#C70039', '#900C3F', '#581845']\n",
    "\n",
    "# Explode the smaller slices for better visibility\n",
    "explode = [0.1 if value < 10000 else 0 for value in payment_totals]\n",
    "\n",
    "# Create the pie chart with labels, colors, and explode\n",
    "wedges, texts, autotexts = plt.pie(payment_totals, labels=payment_totals.index, colors=colors, autopct='%1.1f%%', startangle=140, explode=explode)\n",
    "\n",
    "# Adjust text properties\n",
    "plt.setp(autotexts, size=8, weight=\"bold\")\n",
    "\n",
    "# Equal aspect ratio for a circular pie\n",
    "plt.axis('equal')\n",
    "\n",
    "plt.title('Total Amount by Payment Type')\n",
    "plt.show()"
   ]
  },
  {
   "cell_type": "code",
   "execution_count": 204,
   "id": "4a410552-7093-440d-a250-75e856401d0d",
   "metadata": {},
   "outputs": [
    {
     "data": {
      "text/plain": [
       "Payment_Type_Name\n",
       "Cash            434002.97\n",
       "Credit card    1202467.81\n",
       "Dispute            762.36\n",
       "No charge         1838.95\n",
       "Name: total_amount, dtype: float64"
      ]
     },
     "execution_count": 204,
     "metadata": {},
     "output_type": "execute_result"
    }
   ],
   "source": [
    "a.groupby('Payment_Type_Name')['total_amount'].sum()"
   ]
  },
  {
   "cell_type": "code",
   "execution_count": 214,
   "id": "3e6a9d67-e26f-4f5b-bf4b-96193944e830",
   "metadata": {},
   "outputs": [
    {
     "data": {
      "image/png": "[encoded data removed]",
      "text/plain": [
       "<Figure size 800x800 with 1 Axes>"
      ]
     },
     "metadata": {},
     "output_type": "display_data"
    }
   ],
   "source": [
    "# Group the data by Payment_Type_Name and calculate the valuecounts\n",
    "payment_totals = a['Payment_Type_Name'].value_counts()\n",
    "\n",
    "# Create a pie chart\n",
    "plt.figure(figsize=(8, 8))\n",
    "\n",
    "# Define colors for each payment type\n",
    "colors = ['#FF5733', '#C70039', '#900C3F', '#581845']\n",
    "\n",
    "# Explode the smaller slices for better visibility\n",
    "explode = [0.1 if value < 10000 else 0 for value in payment_totals]\n",
    "\n",
    "# Create the pie chart with labels, colors, and explode\n",
    "wedges, texts, autotexts = plt.pie(payment_totals, labels=payment_totals.index, colors=colors, autopct='%1.1f%%', startangle=140, explode=explode)\n",
    "\n",
    "# Adjust text properties\n",
    "plt.setp(autotexts, size=8, weight=\"bold\")\n",
    "\n",
    "# Equal aspect ratio for a circular pie\n",
    "plt.axis('equal')\n",
    "\n",
    "plt.title('Payment Type by Value counts')\n",
    "plt.show()"
   ]
  },
  {
   "cell_type": "code",
   "execution_count": 216,
   "id": "499b9c70-2b35-4350-ab13-f2d52a51a373",
   "metadata": {},
   "outputs": [
    {
     "data": {
      "text/plain": [
       "Payment_Type_Name\n",
       "Credit card    66548\n",
       "Cash           33203\n",
       "No charge        173\n",
       "Dispute           76\n",
       "Name: count, dtype: int64"
      ]
     },
     "execution_count": 216,
     "metadata": {},
     "output_type": "execute_result"
    }
   ],
   "source": [
    "a['Payment_Type_Name'].value_counts()"
   ]
  },
  {
   "cell_type": "code",
   "execution_count": null,
   "id": "f161bde0-b92d-41b8-b82b-f00c8e06c71a",
   "metadata": {},
   "outputs": [],
   "source": [
    "#Tip Amount by Payment Type"
   ]
  },
  {
   "cell_type": "code",
   "execution_count": 218,
   "id": "d8bfb867-c48b-4dfe-b028-307e22775c47",
   "metadata": {},
   "outputs": [
    {
     "data": {
      "text/plain": [
       "Payment_Type_Name\n",
       "Cash                2.16\n",
       "Credit card    187245.64\n",
       "Dispute            -1.32\n",
       "No charge           6.62\n",
       "Name: tip_amount, dtype: float64"
      ]
     },
     "execution_count": 218,
     "metadata": {},
     "output_type": "execute_result"
    }
   ],
   "source": [
    "a.groupby('Payment_Type_Name')['tip_amount'].sum()"
   ]
  },
  {
   "cell_type": "code",
   "execution_count": 39,
   "id": "a6f5127e-5632-471c-9276-b30799762603",
   "metadata": {},
   "outputs": [
    {
     "data": {
      "text/plain": [
       "payment_type\n",
       "1    2.813693\n",
       "2    0.000065\n",
       "3    0.038266\n",
       "4   -0.017368\n",
       "Name: tip_amount, dtype: float64"
      ]
     },
     "execution_count": 39,
     "metadata": {},
     "output_type": "execute_result"
    }
   ],
   "source": [
    "uber_data.groupby('payment_type')['tip_amount'].mean()"
   ]
  },
  {
   "cell_type": "code",
   "execution_count": 54,
   "id": "8a8460d9-308e-4867-b0e2-c3887c1fbf5a",
   "metadata": {},
   "outputs": [
    {
     "data": {
      "text/plain": [
       "Payment_Type_Name\n",
       "Cash           33203\n",
       "Credit card    66548\n",
       "Dispute           76\n",
       "No charge        173\n",
       "Name: fare_amount, dtype: int64"
      ]
     },
     "execution_count": 54,
     "metadata": {},
     "output_type": "execute_result"
    }
   ],
   "source": [
    "a.groupby('Payment_Type_Name')['fare_amount'].count()"
   ]
  },
  {
   "cell_type": "code",
   "execution_count": 55,
   "id": "dadb7cb8-3c4e-4a8b-8822-9b896e064d6b",
   "metadata": {},
   "outputs": [
    {
     "data": {
      "text/plain": [
       "Payment_Type_Name\n",
       "Cash           396161.71\n",
       "Credit card    926725.72\n",
       "Dispute           718.00\n",
       "No charge        1655.41\n",
       "Name: fare_amount, dtype: float64"
      ]
     },
     "execution_count": 55,
     "metadata": {},
     "output_type": "execute_result"
    }
   ],
   "source": [
    "a.groupby('Payment_Type_Name')['fare_amount'].sum()"
   ]
  },
  {
   "cell_type": "code",
   "execution_count": 56,
   "id": "5556759c-8ab6-4291-bfb9-6f8ef5487404",
   "metadata": {},
   "outputs": [
    {
     "data": {
      "text/plain": [
       "Payment_Type_Name\n",
       "Cash           11.93\n",
       "Credit card    13.93\n",
       "Dispute         9.45\n",
       "No charge       9.57\n",
       "Name: fare_amount, dtype: float64"
      ]
     },
     "execution_count": 56,
     "metadata": {},
     "output_type": "execute_result"
    }
   ],
   "source": [
    "a.groupby('Payment_Type_Name')['fare_amount'].mean().round(2)"
   ]
  },
  {
   "cell_type": "code",
   "execution_count": null,
   "id": "36711a82-5429-448e-a6f5-ef5356be4363",
   "metadata": {},
   "outputs": [],
   "source": [
    "# Finding Location By longitude And Latitude"
   ]
  },
  {
   "cell_type": "code",
   "execution_count": 40,
   "id": "2ca05458-ab73-4394-999f-ebc6b4e14039",
   "metadata": {},
   "outputs": [],
   "source": [
    "#from geopy.geocoders import Nominatim,GoogleV3\n",
    "\n",
    "#geolocator = Nominatim(user_agent=\"myGeocoder\")\n",
    "\n",
    "#def location(lat, lon):\n",
    "    #try:\n",
    "        #location = geolocator.reverse((lat, lon), exactly_one=True)\n",
    "        #return location.address if location else None\n",
    "    #except Exception as e:\n",
    "        #print(f\"Error: {e}\")\n",
    "        #return None\n",
    "\n",
    "#pickup_location = Pickup_Location_dim.apply(lambda x: location(x['Pickup_Longitude'],x['Pickup_Latitude']) )\n"
   ]
  },
  {
   "cell_type": "code",
   "execution_count": 41,
   "id": "67624154-b9bb-4a34-ad60-386e8eb46979",
   "metadata": {},
   "outputs": [],
   "source": [
    "#x = uber_data[['pickup_longitude', 'pickup_latitude']]"
   ]
  },
  {
   "cell_type": "code",
   "execution_count": 42,
   "id": "91ea5e6c-a7a2-4ad1-abfd-38969b7c286e",
   "metadata": {},
   "outputs": [],
   "source": [
    "#for i in range(10):\n",
    "    #address = location(x['pickup_longitude'][i],x['pickup_latitude'][i])"
   ]
  },
  {
   "cell_type": "code",
   "execution_count": 45,
   "id": "45693707-9834-4ae1-94ad-2d4aeb7e43ea",
   "metadata": {},
   "outputs": [],
   "source": [
    "#/* import folium\n",
    "\n",
    "#map = folium.Map(location=[uber_data['pickup_longitude'].mean(), uber_data['pickup_latitude'].mean()], zoom_start=10)\n",
    "\n",
    "#for index, row in uber_data.iterrows():\n",
    "    #folium.Marker([row['pickup_longitude'], row['pickup_latitude']]).add_to(map)\n",
    "\n",
    "#map */\n"
   ]
  },
  {
   "cell_type": "markdown",
   "id": "22fbf6c6-c62f-460e-ba2e-ec5bee17951c",
   "metadata": {},
   "source": [
    "import pandas as pd\n",
    "import geocoder\n",
    "\n",
    "def extract_location_info(lat, lon):\n",
    "  g = geocoder.google(f\"{lat}, {lon}\")\n",
    "  if g.ok:\n",
    "    address = g.address\n",
    "    # You might need more robust parsing based on your data\n",
    "    city = address.split(',')[1].strip()\n",
    "    state = address.split(',')[2].strip()\n",
    "    country = address.split(',')[-1].strip()\n",
    "    return city, state, country\n",
    "  else:\n",
    "    return None, None, None\n",
    "\n",
    "# Sample DataFrame\n",
    "data = pd.DataFrame({'latitude': [40.747292],\n",
    "                     'longitude': [-73.938316]})\n",
    "\n",
    "data['city'], data['state'], data['country'] = zip(*data.apply(lambda row: extract_location_info(row['latitude'], row['longitude']), axis=1))\n",
    "\n",
    "print(data)\n"
   ]
  },
  {
   "cell_type": "markdown",
   "id": "51f8e579-cedb-4c85-b422-877be76576c5",
   "metadata": {},
   "source": [
    "# Analysing Location"
   ]
  },
  {
   "cell_type": "code",
   "execution_count": 43,
   "id": "89a353f1-a718-424d-9a41-828254a44301",
   "metadata": {},
   "outputs": [
    {
     "data": {
      "text/plain": [
       "pickup_longitude  pickup_latitude\n",
       " 0.000000         0.000000           925\n",
       "-73.938316        40.747292           21\n",
       "-73.755020        40.715248           20\n",
       "-73.986588        40.762550           20\n",
       "-74.105141        40.681492           20\n",
       "-73.960541        40.812801           14\n",
       "-73.970848        40.745331           13\n",
       "-73.945274        40.751541           11\n",
       "-73.945747        40.833084            9\n",
       "-73.958015        40.784790            8\n",
       "Name: count, dtype: int64"
      ]
     },
     "execution_count": 43,
     "metadata": {},
     "output_type": "execute_result"
    }
   ],
   "source": [
    "# Most Pickuped Area\n",
    "uber_data[['pickup_longitude','pickup_latitude']].value_counts().head(10)"
   ]
  },
  {
   "cell_type": "code",
   "execution_count": 44,
   "id": "98484087-f137-4ad0-bcb1-15414bac75eb",
   "metadata": {},
   "outputs": [
    {
     "data": {
      "text/plain": [
       "dropoff_longitude  dropoff_latitude\n",
       " 0.000000          0.000000            893\n",
       "-73.938316         40.747292            21\n",
       "-73.986588         40.762550            21\n",
       "-73.755020         40.715248            20\n",
       "-74.105141         40.681492            20\n",
       "-73.970848         40.745331            14\n",
       "-73.960541         40.812801            14\n",
       "-73.945274         40.751541            11\n",
       "-73.945747         40.833084            10\n",
       "-73.982941         40.751305             9\n",
       "Name: count, dtype: int64"
      ]
     },
     "execution_count": 44,
     "metadata": {},
     "output_type": "execute_result"
    }
   ],
   "source": [
    "# Most Dropoffed Area\n",
    "uber_data[['dropoff_longitude',\t'dropoff_latitude']].value_counts().head(10)"
   ]
  },
  {
   "cell_type": "markdown",
   "id": "a08ca876-8242-4f94-ad31-fdbbb6c76877",
   "metadata": {},
   "source": [
    "# Based On Passanger Analysing Data"
   ]
  },
  {
   "cell_type": "code",
   "execution_count": 47,
   "id": "8862b746-8d9c-4186-b72d-2ca7a330f6b5",
   "metadata": {},
   "outputs": [
    {
     "data": {
      "text/plain": [
       "passenger_count\n",
       "1    65493\n",
       "2    13709\n",
       "5     8748\n",
       "6     6077\n",
       "3     4076\n",
       "4     1894\n",
       "0        3\n",
       "Name: count, dtype: int64"
      ]
     },
     "execution_count": 47,
     "metadata": {},
     "output_type": "execute_result"
    }
   ],
   "source": [
    "uber_data['passenger_count'].value_counts()"
   ]
  },
  {
   "cell_type": "code",
   "execution_count": 46,
   "id": "d959e370-654f-4f11-87cc-5b28b688cb1e",
   "metadata": {},
   "outputs": [
    {
     "data": {
      "text/plain": [
       "passenger_count\n",
       "0      2.00\n",
       "1    125.88\n",
       "2     45.08\n",
       "3     90.00\n",
       "4     20.96\n",
       "5     40.30\n",
       "6     27.70\n",
       "Name: tip_amount, dtype: float64"
      ]
     },
     "execution_count": 46,
     "metadata": {},
     "output_type": "execute_result"
    }
   ],
   "source": [
    "uber_data.groupby('passenger_count')['tip_amount'].max()"
   ]
  },
  {
   "cell_type": "code",
   "execution_count": 219,
   "id": "8d85b6d3-f601-4cf2-b42b-c4398bd82ba4",
   "metadata": {},
   "outputs": [
    {
     "data": {
      "text/plain": [
       "passenger_count\n",
       "0      0.08\n",
       "1    160.80\n",
       "2    184.40\n",
       "3     24.66\n",
       "4     45.68\n",
       "5     35.19\n",
       "6     31.55\n",
       "Name: trip_distance, dtype: float64"
      ]
     },
     "execution_count": 219,
     "metadata": {},
     "output_type": "execute_result"
    }
   ],
   "source": [
    "uber_data.groupby('passenger_count')['trip_distance'].max()"
   ]
  },
  {
   "cell_type": "markdown",
   "id": "19736743-b909-4bcb-86b7-6b02dd4eb945",
   "metadata": {},
   "source": [
    "# Analysing Hour "
   ]
  },
  {
   "cell_type": "code",
   "execution_count": 48,
   "id": "f46764f4-49f2-419f-a0df-8dd17c89fbcb",
   "metadata": {},
   "outputs": [
    {
     "data": {
      "text/plain": [
       "tpep_pickup_datetime\n",
       "0     14.01\n",
       "1     13.91\n",
       "2     12.90\n",
       "3     14.09\n",
       "4     16.07\n",
       "5     14.44\n",
       "6     13.58\n",
       "7     12.01\n",
       "8     12.21\n",
       "9     12.59\n",
       "10    12.97\n",
       "11    13.12\n",
       "12    13.24\n",
       "13    14.00\n",
       "14    14.96\n",
       "Name: fare_amount, dtype: float64"
      ]
     },
     "execution_count": 48,
     "metadata": {},
     "output_type": "execute_result"
    }
   ],
   "source": [
    "uber_data.groupby(uber_data['tpep_pickup_datetime'].dt.hour)['fare_amount'].mean().round(2)"
   ]
  },
  {
   "cell_type": "code",
   "execution_count": 49,
   "id": "0f4bb971-730b-4d46-88c7-d50df6383c4e",
   "metadata": {},
   "outputs": [
    {
     "data": {
      "text/plain": [
       "tpep_pickup_datetime\n",
       "8     11708\n",
       "9     10710\n",
       "12    10512\n",
       "13    10204\n",
       "10     9625\n",
       "11     9609\n",
       "7      9550\n",
       "0      7079\n",
       "14     4862\n",
       "1      4148\n",
       "5      3697\n",
       "2      2602\n",
       "4      1929\n",
       "6      1905\n",
       "3      1860\n",
       "Name: count, dtype: int64"
      ]
     },
     "execution_count": 49,
     "metadata": {},
     "output_type": "execute_result"
    }
   ],
   "source": [
    "# Finding Busyest Hour For Pickup\n",
    "uber_data['tpep_pickup_datetime'].dt.hour.value_counts()"
   ]
  },
  {
   "cell_type": "markdown",
   "id": "bde0dd7e-8e18-48e0-a21f-1725971f0bb1",
   "metadata": {},
   "source": [
    "#  Analysing Trip Distance"
   ]
  },
  {
   "cell_type": "code",
   "execution_count": 58,
   "id": "2ef64a51-2caf-4a6b-89a0-396f4a12e18a",
   "metadata": {},
   "outputs": [
    {
     "data": {
      "image/png": "[encoded data removed]",
      "text/plain": [
       "<Figure size 1000x600 with 1 Axes>"
      ]
     },
     "metadata": {},
     "output_type": "display_data"
    }
   ],
   "source": [
    "# Scatter plot to visualize the relationship Trip Distance and Fare Amount\n",
    "plt.figure(figsize=(10, 6))\n",
    "sns.scatterplot(x='trip_distance', y='fare_amount', data=a)\n",
    "plt.title('Trip Distance vs. Fare Amount')\n",
    "plt.xlabel('Trip Distance')\n",
    "plt.ylabel('Fare Amount')\n",
    "plt.show()\n"
   ]
  },
  {
   "cell_type": "code",
   "execution_count": 59,
   "id": "9a26bfaf-4cad-46dc-adbb-3359bc013cbc",
   "metadata": {},
   "outputs": [
    {
     "data": {
      "image/png": "[encoded data removed]",
      "text/plain": [
       "<Figure size 1000x600 with 1 Axes>"
      ]
     },
     "metadata": {},
     "output_type": "display_data"
    }
   ],
   "source": [
    "plt.figure(figsize=(10, 6))\n",
    "sns.barplot(x='trip_distance', y='fare_amount', data=a)\n",
    "plt.title('Trip Distance vs. Fare Amount')\n",
    "plt.xlabel('Trip Distance')\n",
    "plt.ylabel('Fare Amount')\n",
    "plt.show()"
   ]
  },
  {
   "cell_type": "code",
   "execution_count": null,
   "id": "28f0f835-c607-42ec-9110-3298de933eae",
   "metadata": {},
   "outputs": [],
   "source": [
    "# Finding  Average Fare Amount BY Distance "
   ]
  },
  {
   "cell_type": "code",
   "execution_count": 60,
   "id": "027edca9-ed25-4d0c-a3cb-9afafc41c748",
   "metadata": {},
   "outputs": [
    {
     "name": "stderr",
     "output_type": "stream",
     "text": [
      "C:\\Users\\M.Srimanth\\AppData\\Local\\Temp\\ipykernel_11512\\4206565973.py:5: FutureWarning: The default of observed=False is deprecated and will be changed to True in a future version of pandas. Pass observed=False to retain current behavior or observed=True to adopt the future default and silence this warning.\n",
      "  average_fare_by_distance = a.groupby('distance_bin')['fare_amount'].mean()\n"
     ]
    },
    {
     "data": {
      "image/png": "[encoded data removed]",
      "text/plain": [
       "<Figure size 640x480 with 1 Axes>"
      ]
     },
     "metadata": {},
     "output_type": "display_data"
    }
   ],
   "source": [
    "# Create distance bins\n",
    "a['distance_bin'] = pd.cut(a['trip_distance'], bins=10)\n",
    "\n",
    "# Calculate average fare per distance bin\n",
    "average_fare_by_distance = a.groupby('distance_bin')['fare_amount'].mean()\n",
    "\n",
    "# Plot the average fare by distance bin\n",
    "average_fare_by_distance.plot(kind='bar')\n",
    "plt.title('Average Fare by Distance Bin')\n",
    "plt.xlabel('Distance Bin')\n",
    "plt.ylabel('Average Fare')\n",
    "plt.show()\n"
   ]
  },
  {
   "cell_type": "markdown",
   "id": "c0c5a15f-5a69-486e-ab7e-4604bcc79009",
   "metadata": {},
   "source": [
    "a['distance_bin']: This part creates a new column named 'distance_bin' in the DataFrame 'a'. This column will store the categorized distance values.\n",
    "pd.cut: This is a function from the Pandas library used to categorize continuous data into discrete bins.\n",
    "a['trip_distance']: This specifies the column 'trip_distance' in DataFrame 'a' as the data to be categorized.\n",
    "bins=10: This argument tells the pd.cut function to divide the 'trip_distance' data into 10 equal-sized bins.\n",
    "What it does:\n",
    "\n",
    "The code essentially divides the 'trip_distance' values in the DataFrame 'a' into 10 equal-sized groups and assigns each value to its corresponding bin. The resulting bins are then stored in the newly created 'distance_bin' column.\n",
    "\n",
    "Example:\n",
    "\n",
    "If your 'trip_distance' values range from 0 to 100, with bins=10, the bins would be:\n",
    "\n",
    "0-10\n",
    "10-20\n",
    "20-30\n",
    "...\n",
    "90-100\n",
    "Each trip distance will be assigned to one of these bins based on its value.\n",
    "\n",
    "This is a useful technique for grouping data and performing analysis on different ranges of values"
   ]
  },
  {
   "cell_type": "code",
   "execution_count": 61,
   "id": "4da2fd9a-6061-49c5-8d2f-bb18fa538e50",
   "metadata": {},
   "outputs": [
    {
     "name": "stderr",
     "output_type": "stream",
     "text": [
      "C:\\Users\\M.Srimanth\\AppData\\Local\\Temp\\ipykernel_11512\\3736757605.py:1: FutureWarning: The default of observed=False is deprecated and will be changed to True in a future version of pandas. Pass observed=False to retain current behavior or observed=True to adopt the future default and silence this warning.\n",
      "  a.groupby('distance_bin')['fare_amount'].mean().round(2)\n"
     ]
    },
    {
     "data": {
      "text/plain": [
       "distance_bin\n",
       "(-0.184, 18.44]      12.72\n",
       "(18.44, 36.88]       56.71\n",
       "(36.88, 55.32]      163.05\n",
       "(55.32, 73.76]         NaN\n",
       "(73.76, 92.2]          NaN\n",
       "(92.2, 110.64]         NaN\n",
       "(110.64, 129.08]       NaN\n",
       "(129.08, 147.52]       NaN\n",
       "(147.52, 165.96]    819.50\n",
       "(165.96, 184.4]      52.00\n",
       "Name: fare_amount, dtype: float64"
      ]
     },
     "execution_count": 61,
     "metadata": {},
     "output_type": "execute_result"
    }
   ],
   "source": [
    "# Average Fare For Distance\n",
    "a.groupby('distance_bin')['fare_amount'].mean().round(2)"
   ]
  },
  {
   "cell_type": "code",
   "execution_count": 62,
   "id": "33f27ea9-2228-4fe5-9ffa-e6403f8c071c",
   "metadata": {},
   "outputs": [
    {
     "data": {
      "text/plain": [
       "-47.0"
      ]
     },
     "execution_count": 62,
     "metadata": {},
     "output_type": "execute_result"
    }
   ],
   "source": [
    "a['fare_amount'].min()"
   ]
  },
  {
   "cell_type": "code",
   "execution_count": 63,
   "id": "43a573b1-a3fa-4cd1-b458-4d3b47db45f5",
   "metadata": {},
   "outputs": [
    {
     "data": {
      "text/plain": [
       "819.5"
      ]
     },
     "execution_count": 63,
     "metadata": {},
     "output_type": "execute_result"
    }
   ],
   "source": [
    "a['fare_amount'].max()"
   ]
  },
  {
   "cell_type": "code",
   "execution_count": 67,
   "id": "a930106f-faca-48bb-9016-abd36742e08d",
   "metadata": {},
   "outputs": [
    {
     "name": "stderr",
     "output_type": "stream",
     "text": [
      "C:\\Users\\M.Srimanth\\AppData\\Local\\Temp\\ipykernel_11512\\527167368.py:5: FutureWarning: The default of observed=False is deprecated and will be changed to True in a future version of pandas. Pass observed=False to retain current behavior or observed=True to adopt the future default and silence this warning.\n",
      "  average_fare_by_distance = a.groupby('distance_bin')['fare_amount'].mean()\n"
     ]
    },
    {
     "data": {
      "image/png": "[encoded data removed]",
      "text/plain": [
       "<Figure size 640x480 with 1 Axes>"
      ]
     },
     "metadata": {},
     "output_type": "display_data"
    }
   ],
   "source": [
    "# Create distance bins\n",
    "a['distance_bin'] = pd.cut(a['trip_distance'], bins=30)\n",
    "\n",
    "# Calculate average fare per distance bin\n",
    "average_fare_by_distance = a.groupby('distance_bin')['fare_amount'].mean()\n",
    "\n",
    "# Plot the average fare by distance bin\n",
    "average_fare_by_distance.plot(kind='bar')\n",
    "plt.title('Average Fare by Distance Bin')\n",
    "plt.xlabel('Distance Bin')\n",
    "plt.ylabel('Average Fare')\n",
    "plt.show()"
   ]
  },
  {
   "cell_type": "code",
   "execution_count": 74,
   "id": "f470d824-75a2-4499-a6c8-24637e37b8af",
   "metadata": {},
   "outputs": [
    {
     "name": "stderr",
     "output_type": "stream",
     "text": [
      "C:\\Users\\M.Srimanth\\AppData\\Local\\Temp\\ipykernel_11512\\1099830834.py:1: FutureWarning: The default of observed=False is deprecated and will be changed to True in a future version of pandas. Pass observed=False to retain current behavior or observed=True to adopt the future default and silence this warning.\n",
      "  a.groupby('distance_bin')['fare_amount'].mean().round()\n"
     ]
    },
    {
     "data": {
      "text/plain": [
       "distance_bin\n",
       "(-0.184, 6.147]        10.0\n",
       "(6.147, 12.293]        29.0\n",
       "(12.293, 18.44]        48.0\n",
       "(18.44, 24.587]        55.0\n",
       "(24.587, 30.733]       69.0\n",
       "(30.733, 36.88]       111.0\n",
       "(36.88, 43.027]       129.0\n",
       "(43.027, 49.173]      166.0\n",
       "(49.173, 55.32]       223.0\n",
       "(55.32, 61.467]         NaN\n",
       "(61.467, 67.613]        NaN\n",
       "(67.613, 73.76]         NaN\n",
       "(73.76, 79.907]         NaN\n",
       "(79.907, 86.053]        NaN\n",
       "(86.053, 92.2]          NaN\n",
       "(92.2, 98.347]          NaN\n",
       "(98.347, 104.493]       NaN\n",
       "(104.493, 110.64]       NaN\n",
       "(110.64, 116.787]       NaN\n",
       "(116.787, 122.933]      NaN\n",
       "(122.933, 129.08]       NaN\n",
       "(129.08, 135.227]       NaN\n",
       "(135.227, 141.373]      NaN\n",
       "(141.373, 147.52]       NaN\n",
       "(147.52, 153.667]       NaN\n",
       "(153.667, 159.813]      NaN\n",
       "(159.813, 165.96]     820.0\n",
       "(165.96, 172.107]       NaN\n",
       "(172.107, 178.253]      NaN\n",
       "(178.253, 184.4]       52.0\n",
       "Name: fare_amount, dtype: float64"
      ]
     },
     "execution_count": 74,
     "metadata": {},
     "output_type": "execute_result"
    }
   ],
   "source": [
    "# Average Fare For Distance\n",
    "a.groupby('distance_bin')['fare_amount'].mean().round()\n"
   ]
  },
  {
   "cell_type": "markdown",
   "id": "e45d39b9-cb17-48e5-ac8d-5a7e0cf48bdb",
   "metadata": {},
   "source": [
    "# Trip Duration Based Analysis"
   ]
  },
  {
   "cell_type": "code",
   "execution_count": 75,
   "id": "d4f16005-0185-49ce-9942-0d41c1122e2f",
   "metadata": {},
   "outputs": [
    {
     "data": {
      "text/html": [
       "<div>\n",
       "<style scoped>\n",
       "    .dataframe tbody tr th:only-of-type {\n",
       "        vertical-align: middle;\n",
       "    }\n",
       "\n",
       "    .dataframe tbody tr th {\n",
       "        vertical-align: top;\n",
       "    }\n",
       "\n",
       "    .dataframe thead th {\n",
       "        text-align: right;\n",
       "    }\n",
       "</style>\n",
       "<table border=\"1\" class=\"dataframe\">\n",
       "  <thead>\n",
       "    <tr style=\"text-align: right;\">\n",
       "      <th></th>\n",
       "      <th>VendorID</th>\n",
       "      <th>tpep_pickup_datetime</th>\n",
       "      <th>tpep_dropoff_datetime</th>\n",
       "      <th>passenger_count</th>\n",
       "      <th>trip_distance</th>\n",
       "      <th>pickup_longitude</th>\n",
       "      <th>pickup_latitude</th>\n",
       "      <th>RatecodeID</th>\n",
       "      <th>store_and_fwd_flag</th>\n",
       "      <th>dropoff_longitude</th>\n",
       "      <th>dropoff_latitude</th>\n",
       "      <th>payment_type</th>\n",
       "      <th>fare_amount</th>\n",
       "      <th>extra</th>\n",
       "      <th>mta_tax</th>\n",
       "      <th>tip_amount</th>\n",
       "      <th>tolls_amount</th>\n",
       "      <th>improvement_surcharge</th>\n",
       "      <th>total_amount</th>\n",
       "    </tr>\n",
       "  </thead>\n",
       "  <tbody>\n",
       "    <tr>\n",
       "      <th>0</th>\n",
       "      <td>1</td>\n",
       "      <td>2016-03-01 00:00:00</td>\n",
       "      <td>2016-03-01 00:07:55</td>\n",
       "      <td>1</td>\n",
       "      <td>2.50</td>\n",
       "      <td>-73.976746</td>\n",
       "      <td>40.765152</td>\n",
       "      <td>1</td>\n",
       "      <td>N</td>\n",
       "      <td>-74.004265</td>\n",
       "      <td>40.746128</td>\n",
       "      <td>1</td>\n",
       "      <td>9.0</td>\n",
       "      <td>0.5</td>\n",
       "      <td>0.5</td>\n",
       "      <td>2.05</td>\n",
       "      <td>0.00</td>\n",
       "      <td>0.3</td>\n",
       "      <td>12.35</td>\n",
       "    </tr>\n",
       "    <tr>\n",
       "      <th>1</th>\n",
       "      <td>1</td>\n",
       "      <td>2016-03-01 00:00:00</td>\n",
       "      <td>2016-03-01 00:11:06</td>\n",
       "      <td>1</td>\n",
       "      <td>2.90</td>\n",
       "      <td>-73.983482</td>\n",
       "      <td>40.767925</td>\n",
       "      <td>1</td>\n",
       "      <td>N</td>\n",
       "      <td>-74.005943</td>\n",
       "      <td>40.733166</td>\n",
       "      <td>1</td>\n",
       "      <td>11.0</td>\n",
       "      <td>0.5</td>\n",
       "      <td>0.5</td>\n",
       "      <td>3.05</td>\n",
       "      <td>0.00</td>\n",
       "      <td>0.3</td>\n",
       "      <td>15.35</td>\n",
       "    </tr>\n",
       "    <tr>\n",
       "      <th>2</th>\n",
       "      <td>2</td>\n",
       "      <td>2016-03-01 00:00:00</td>\n",
       "      <td>2016-03-01 00:31:06</td>\n",
       "      <td>2</td>\n",
       "      <td>19.98</td>\n",
       "      <td>-73.782021</td>\n",
       "      <td>40.644810</td>\n",
       "      <td>1</td>\n",
       "      <td>N</td>\n",
       "      <td>-73.974541</td>\n",
       "      <td>40.675770</td>\n",
       "      <td>1</td>\n",
       "      <td>54.5</td>\n",
       "      <td>0.5</td>\n",
       "      <td>0.5</td>\n",
       "      <td>8.00</td>\n",
       "      <td>0.00</td>\n",
       "      <td>0.3</td>\n",
       "      <td>63.80</td>\n",
       "    </tr>\n",
       "    <tr>\n",
       "      <th>3</th>\n",
       "      <td>2</td>\n",
       "      <td>2016-03-01 00:00:00</td>\n",
       "      <td>2016-03-01 00:00:00</td>\n",
       "      <td>3</td>\n",
       "      <td>10.78</td>\n",
       "      <td>-73.863419</td>\n",
       "      <td>40.769814</td>\n",
       "      <td>1</td>\n",
       "      <td>N</td>\n",
       "      <td>-73.969650</td>\n",
       "      <td>40.757767</td>\n",
       "      <td>1</td>\n",
       "      <td>31.5</td>\n",
       "      <td>0.0</td>\n",
       "      <td>0.5</td>\n",
       "      <td>3.78</td>\n",
       "      <td>5.54</td>\n",
       "      <td>0.3</td>\n",
       "      <td>41.62</td>\n",
       "    </tr>\n",
       "    <tr>\n",
       "      <th>4</th>\n",
       "      <td>2</td>\n",
       "      <td>2016-03-01 00:00:00</td>\n",
       "      <td>2016-03-01 00:00:00</td>\n",
       "      <td>5</td>\n",
       "      <td>30.43</td>\n",
       "      <td>-73.971741</td>\n",
       "      <td>40.792183</td>\n",
       "      <td>3</td>\n",
       "      <td>N</td>\n",
       "      <td>-74.177170</td>\n",
       "      <td>40.695053</td>\n",
       "      <td>1</td>\n",
       "      <td>98.0</td>\n",
       "      <td>0.0</td>\n",
       "      <td>0.0</td>\n",
       "      <td>0.00</td>\n",
       "      <td>15.50</td>\n",
       "      <td>0.3</td>\n",
       "      <td>113.80</td>\n",
       "    </tr>\n",
       "    <tr>\n",
       "      <th>...</th>\n",
       "      <td>...</td>\n",
       "      <td>...</td>\n",
       "      <td>...</td>\n",
       "      <td>...</td>\n",
       "      <td>...</td>\n",
       "      <td>...</td>\n",
       "      <td>...</td>\n",
       "      <td>...</td>\n",
       "      <td>...</td>\n",
       "      <td>...</td>\n",
       "      <td>...</td>\n",
       "      <td>...</td>\n",
       "      <td>...</td>\n",
       "      <td>...</td>\n",
       "      <td>...</td>\n",
       "      <td>...</td>\n",
       "      <td>...</td>\n",
       "      <td>...</td>\n",
       "      <td>...</td>\n",
       "    </tr>\n",
       "    <tr>\n",
       "      <th>99995</th>\n",
       "      <td>1</td>\n",
       "      <td>2016-03-01 06:17:10</td>\n",
       "      <td>2016-03-01 06:22:15</td>\n",
       "      <td>1</td>\n",
       "      <td>0.50</td>\n",
       "      <td>-73.990898</td>\n",
       "      <td>40.750519</td>\n",
       "      <td>1</td>\n",
       "      <td>N</td>\n",
       "      <td>-73.998245</td>\n",
       "      <td>40.750462</td>\n",
       "      <td>2</td>\n",
       "      <td>5.0</td>\n",
       "      <td>0.0</td>\n",
       "      <td>0.5</td>\n",
       "      <td>0.00</td>\n",
       "      <td>0.00</td>\n",
       "      <td>0.3</td>\n",
       "      <td>5.80</td>\n",
       "    </tr>\n",
       "    <tr>\n",
       "      <th>99996</th>\n",
       "      <td>1</td>\n",
       "      <td>2016-03-01 06:17:10</td>\n",
       "      <td>2016-03-01 06:32:41</td>\n",
       "      <td>1</td>\n",
       "      <td>3.40</td>\n",
       "      <td>-74.014488</td>\n",
       "      <td>40.718296</td>\n",
       "      <td>1</td>\n",
       "      <td>N</td>\n",
       "      <td>-73.982361</td>\n",
       "      <td>40.752529</td>\n",
       "      <td>1</td>\n",
       "      <td>14.0</td>\n",
       "      <td>0.0</td>\n",
       "      <td>0.5</td>\n",
       "      <td>2.00</td>\n",
       "      <td>0.00</td>\n",
       "      <td>0.3</td>\n",
       "      <td>16.80</td>\n",
       "    </tr>\n",
       "    <tr>\n",
       "      <th>99997</th>\n",
       "      <td>1</td>\n",
       "      <td>2016-03-01 06:17:10</td>\n",
       "      <td>2016-03-01 06:37:23</td>\n",
       "      <td>1</td>\n",
       "      <td>9.70</td>\n",
       "      <td>-73.963379</td>\n",
       "      <td>40.774097</td>\n",
       "      <td>1</td>\n",
       "      <td>N</td>\n",
       "      <td>-73.865028</td>\n",
       "      <td>40.770512</td>\n",
       "      <td>1</td>\n",
       "      <td>29.0</td>\n",
       "      <td>0.0</td>\n",
       "      <td>0.5</td>\n",
       "      <td>8.80</td>\n",
       "      <td>5.54</td>\n",
       "      <td>0.3</td>\n",
       "      <td>44.14</td>\n",
       "    </tr>\n",
       "    <tr>\n",
       "      <th>99998</th>\n",
       "      <td>2</td>\n",
       "      <td>2016-03-01 06:17:10</td>\n",
       "      <td>2016-03-01 06:22:09</td>\n",
       "      <td>1</td>\n",
       "      <td>0.92</td>\n",
       "      <td>-73.984901</td>\n",
       "      <td>40.763111</td>\n",
       "      <td>1</td>\n",
       "      <td>N</td>\n",
       "      <td>-73.970695</td>\n",
       "      <td>40.759148</td>\n",
       "      <td>1</td>\n",
       "      <td>5.5</td>\n",
       "      <td>0.5</td>\n",
       "      <td>0.5</td>\n",
       "      <td>1.36</td>\n",
       "      <td>0.00</td>\n",
       "      <td>0.3</td>\n",
       "      <td>8.16</td>\n",
       "    </tr>\n",
       "    <tr>\n",
       "      <th>99999</th>\n",
       "      <td>1</td>\n",
       "      <td>2016-03-01 06:17:11</td>\n",
       "      <td>2016-03-01 06:22:00</td>\n",
       "      <td>1</td>\n",
       "      <td>1.00</td>\n",
       "      <td>-73.990685</td>\n",
       "      <td>40.750473</td>\n",
       "      <td>1</td>\n",
       "      <td>N</td>\n",
       "      <td>-73.980354</td>\n",
       "      <td>40.754910</td>\n",
       "      <td>2</td>\n",
       "      <td>6.0</td>\n",
       "      <td>0.0</td>\n",
       "      <td>0.5</td>\n",
       "      <td>0.00</td>\n",
       "      <td>0.00</td>\n",
       "      <td>0.3</td>\n",
       "      <td>6.80</td>\n",
       "    </tr>\n",
       "  </tbody>\n",
       "</table>\n",
       "<p>100000 rows × 19 columns</p>\n",
       "</div>"
      ],
      "text/plain": [
       "       VendorID tpep_pickup_datetime tpep_dropoff_datetime  passenger_count  \\\n",
       "0             1  2016-03-01 00:00:00   2016-03-01 00:07:55                1   \n",
       "1             1  2016-03-01 00:00:00   2016-03-01 00:11:06                1   \n",
       "2             2  2016-03-01 00:00:00   2016-03-01 00:31:06                2   \n",
       "3             2  2016-03-01 00:00:00   2016-03-01 00:00:00                3   \n",
       "4             2  2016-03-01 00:00:00   2016-03-01 00:00:00                5   \n",
       "...         ...                  ...                   ...              ...   \n",
       "99995         1  2016-03-01 06:17:10   2016-03-01 06:22:15                1   \n",
       "99996         1  2016-03-01 06:17:10   2016-03-01 06:32:41                1   \n",
       "99997         1  2016-03-01 06:17:10   2016-03-01 06:37:23                1   \n",
       "99998         2  2016-03-01 06:17:10   2016-03-01 06:22:09                1   \n",
       "99999         1  2016-03-01 06:17:11   2016-03-01 06:22:00                1   \n",
       "\n",
       "       trip_distance  pickup_longitude  pickup_latitude  RatecodeID  \\\n",
       "0               2.50        -73.976746        40.765152           1   \n",
       "1               2.90        -73.983482        40.767925           1   \n",
       "2              19.98        -73.782021        40.644810           1   \n",
       "3              10.78        -73.863419        40.769814           1   \n",
       "4              30.43        -73.971741        40.792183           3   \n",
       "...              ...               ...              ...         ...   \n",
       "99995           0.50        -73.990898        40.750519           1   \n",
       "99996           3.40        -74.014488        40.718296           1   \n",
       "99997           9.70        -73.963379        40.774097           1   \n",
       "99998           0.92        -73.984901        40.763111           1   \n",
       "99999           1.00        -73.990685        40.750473           1   \n",
       "\n",
       "      store_and_fwd_flag  dropoff_longitude  dropoff_latitude  payment_type  \\\n",
       "0                      N         -74.004265         40.746128             1   \n",
       "1                      N         -74.005943         40.733166             1   \n",
       "2                      N         -73.974541         40.675770             1   \n",
       "3                      N         -73.969650         40.757767             1   \n",
       "4                      N         -74.177170         40.695053             1   \n",
       "...                  ...                ...               ...           ...   \n",
       "99995                  N         -73.998245         40.750462             2   \n",
       "99996                  N         -73.982361         40.752529             1   \n",
       "99997                  N         -73.865028         40.770512             1   \n",
       "99998                  N         -73.970695         40.759148             1   \n",
       "99999                  N         -73.980354         40.754910             2   \n",
       "\n",
       "       fare_amount  extra  mta_tax  tip_amount  tolls_amount  \\\n",
       "0              9.0    0.5      0.5        2.05          0.00   \n",
       "1             11.0    0.5      0.5        3.05          0.00   \n",
       "2             54.5    0.5      0.5        8.00          0.00   \n",
       "3             31.5    0.0      0.5        3.78          5.54   \n",
       "4             98.0    0.0      0.0        0.00         15.50   \n",
       "...            ...    ...      ...         ...           ...   \n",
       "99995          5.0    0.0      0.5        0.00          0.00   \n",
       "99996         14.0    0.0      0.5        2.00          0.00   \n",
       "99997         29.0    0.0      0.5        8.80          5.54   \n",
       "99998          5.5    0.5      0.5        1.36          0.00   \n",
       "99999          6.0    0.0      0.5        0.00          0.00   \n",
       "\n",
       "       improvement_surcharge  total_amount  \n",
       "0                        0.3         12.35  \n",
       "1                        0.3         15.35  \n",
       "2                        0.3         63.80  \n",
       "3                        0.3         41.62  \n",
       "4                        0.3        113.80  \n",
       "...                      ...           ...  \n",
       "99995                    0.3          5.80  \n",
       "99996                    0.3         16.80  \n",
       "99997                    0.3         44.14  \n",
       "99998                    0.3          8.16  \n",
       "99999                    0.3          6.80  \n",
       "\n",
       "[100000 rows x 19 columns]"
      ]
     },
     "execution_count": 75,
     "metadata": {},
     "output_type": "execute_result"
    }
   ],
   "source": [
    "uber_data"
   ]
  },
  {
   "cell_type": "code",
   "execution_count": 109,
   "id": "edc6c34d-243c-4c22-ab85-2fb9ba659864",
   "metadata": {},
   "outputs": [],
   "source": [
    "a['Trip_Duration'] =   a['tpep_dropoff_datetime']  -   a['tpep_pickup_datetime']"
   ]
  },
  {
   "cell_type": "code",
   "execution_count": 110,
   "id": "c14ef08d-8ca9-408a-b5cb-8ac76c06bc39",
   "metadata": {},
   "outputs": [
    {
     "data": {
      "text/plain": [
       "<TimedeltaArray>\n",
       "['0 days 00:07:55', '0 days 00:11:06', '0 days 00:31:06', '0 days 00:00:00',\n",
       " '0 days 00:16:03', '0 days 00:04:59', '0 days 00:24:05', '0 days 00:02:02',\n",
       " '0 days 00:07:47', '0 days 00:03:03',\n",
       " ...\n",
       " '0 days 00:50:47', '0 days 00:58:38', '0 days 00:45:45', '0 days 00:41:14',\n",
       " '0 days 01:00:08', '0 days 00:57:39', '0 days 00:42:52', '0 days 00:53:06',\n",
       " '0 days 23:37:49', '0 days 23:57:42']\n",
       "Length: 4055, dtype: timedelta64[ns]"
      ]
     },
     "execution_count": 110,
     "metadata": {},
     "output_type": "execute_result"
    }
   ],
   "source": [
    "a['Trip_Duration']"
   ]
  },
  {
   "cell_type": "code",
   "execution_count": 137,
   "id": "9fe36751-6f0c-4726-a114-ba14f2d380c3",
   "metadata": {},
   "outputs": [],
   "source": [
    "a['duration_minutes'] = round(a['Trip_Duration'].dt.total_seconds() / 60)"
   ]
  },
  {
   "cell_type": "code",
   "execution_count": 138,
   "id": "3fba2fe5-d9cb-411c-b99c-fa8152a03ef2",
   "metadata": {},
   "outputs": [
    {
     "data": {
      "text/plain": [
       "0         8.0\n",
       "1        11.0\n",
       "2        31.0\n",
       "3         0.0\n",
       "4         0.0\n",
       "         ... \n",
       "99995     5.0\n",
       "99996    16.0\n",
       "99997    20.0\n",
       "99998     5.0\n",
       "99999     5.0\n",
       "Name: duration_minutes, Length: 100000, dtype: float64"
      ]
     },
     "execution_count": 138,
     "metadata": {},
     "output_type": "execute_result"
    }
   ],
   "source": [
    "a['duration_minutes']"
   ]
  },
  {
   "cell_type": "code",
   "execution_count": 123,
   "id": "d53f59e6-8f09-4fae-914b-dc1a7c092047",
   "metadata": {},
   "outputs": [
    {
     "data": {
      "text/plain": [
       "16.90527"
      ]
     },
     "execution_count": 123,
     "metadata": {},
     "output_type": "execute_result"
    }
   ],
   "source": [
    "# Finding Average Minutes Traveled\n",
    "a['duration_minutes'].mean()"
   ]
  },
  {
   "cell_type": "code",
   "execution_count": 147,
   "id": "44158698-c2bc-447b-abe5-7b7c9f46e770",
   "metadata": {},
   "outputs": [
    {
     "data": {
      "text/plain": [
       "0.0"
      ]
     },
     "execution_count": 147,
     "metadata": {},
     "output_type": "execute_result"
    }
   ],
   "source": [
    "a['duration_minutes'].min()"
   ]
  },
  {
   "cell_type": "code",
   "execution_count": 125,
   "id": "c155c9a9-99f8-4956-bc39-644d5bfb6823",
   "metadata": {},
   "outputs": [
    {
     "data": {
      "text/plain": [
       "1439.0"
      ]
     },
     "execution_count": 125,
     "metadata": {},
     "output_type": "execute_result"
    }
   ],
   "source": [
    "a['duration_minutes'].max()"
   ]
  },
  {
   "cell_type": "code",
   "execution_count": 148,
   "id": "05150010-456f-49ec-8996-f686b42c2dcc",
   "metadata": {},
   "outputs": [
    {
     "data": {
      "text/html": [
       "<div>\n",
       "<style scoped>\n",
       "    .dataframe tbody tr th:only-of-type {\n",
       "        vertical-align: middle;\n",
       "    }\n",
       "\n",
       "    .dataframe tbody tr th {\n",
       "        vertical-align: top;\n",
       "    }\n",
       "\n",
       "    .dataframe thead th {\n",
       "        text-align: right;\n",
       "    }\n",
       "</style>\n",
       "<table border=\"1\" class=\"dataframe\">\n",
       "  <thead>\n",
       "    <tr style=\"text-align: right;\">\n",
       "      <th></th>\n",
       "      <th>VendorID</th>\n",
       "      <th>tpep_pickup_datetime</th>\n",
       "      <th>tpep_dropoff_datetime</th>\n",
       "      <th>passenger_count</th>\n",
       "      <th>trip_distance</th>\n",
       "      <th>pickup_longitude</th>\n",
       "      <th>pickup_latitude</th>\n",
       "      <th>RatecodeID</th>\n",
       "      <th>store_and_fwd_flag</th>\n",
       "      <th>dropoff_longitude</th>\n",
       "      <th>dropoff_latitude</th>\n",
       "      <th>payment_type</th>\n",
       "      <th>fare_amount</th>\n",
       "      <th>extra</th>\n",
       "      <th>mta_tax</th>\n",
       "      <th>tip_amount</th>\n",
       "      <th>tolls_amount</th>\n",
       "      <th>improvement_surcharge</th>\n",
       "      <th>total_amount</th>\n",
       "    </tr>\n",
       "  </thead>\n",
       "  <tbody>\n",
       "    <tr>\n",
       "      <th>0</th>\n",
       "      <td>1</td>\n",
       "      <td>2016-03-01 00:00:00</td>\n",
       "      <td>2016-03-01 00:07:55</td>\n",
       "      <td>1</td>\n",
       "      <td>2.50</td>\n",
       "      <td>-73.976746</td>\n",
       "      <td>40.765152</td>\n",
       "      <td>1</td>\n",
       "      <td>N</td>\n",
       "      <td>-74.004265</td>\n",
       "      <td>40.746128</td>\n",
       "      <td>1</td>\n",
       "      <td>9.0</td>\n",
       "      <td>0.5</td>\n",
       "      <td>0.5</td>\n",
       "      <td>2.05</td>\n",
       "      <td>0.00</td>\n",
       "      <td>0.3</td>\n",
       "      <td>12.35</td>\n",
       "    </tr>\n",
       "    <tr>\n",
       "      <th>1</th>\n",
       "      <td>1</td>\n",
       "      <td>2016-03-01 00:00:00</td>\n",
       "      <td>2016-03-01 00:11:06</td>\n",
       "      <td>1</td>\n",
       "      <td>2.90</td>\n",
       "      <td>-73.983482</td>\n",
       "      <td>40.767925</td>\n",
       "      <td>1</td>\n",
       "      <td>N</td>\n",
       "      <td>-74.005943</td>\n",
       "      <td>40.733166</td>\n",
       "      <td>1</td>\n",
       "      <td>11.0</td>\n",
       "      <td>0.5</td>\n",
       "      <td>0.5</td>\n",
       "      <td>3.05</td>\n",
       "      <td>0.00</td>\n",
       "      <td>0.3</td>\n",
       "      <td>15.35</td>\n",
       "    </tr>\n",
       "    <tr>\n",
       "      <th>2</th>\n",
       "      <td>2</td>\n",
       "      <td>2016-03-01 00:00:00</td>\n",
       "      <td>2016-03-01 00:31:06</td>\n",
       "      <td>2</td>\n",
       "      <td>19.98</td>\n",
       "      <td>-73.782021</td>\n",
       "      <td>40.644810</td>\n",
       "      <td>1</td>\n",
       "      <td>N</td>\n",
       "      <td>-73.974541</td>\n",
       "      <td>40.675770</td>\n",
       "      <td>1</td>\n",
       "      <td>54.5</td>\n",
       "      <td>0.5</td>\n",
       "      <td>0.5</td>\n",
       "      <td>8.00</td>\n",
       "      <td>0.00</td>\n",
       "      <td>0.3</td>\n",
       "      <td>63.80</td>\n",
       "    </tr>\n",
       "    <tr>\n",
       "      <th>3</th>\n",
       "      <td>2</td>\n",
       "      <td>2016-03-01 00:00:00</td>\n",
       "      <td>2016-03-01 00:00:00</td>\n",
       "      <td>3</td>\n",
       "      <td>10.78</td>\n",
       "      <td>-73.863419</td>\n",
       "      <td>40.769814</td>\n",
       "      <td>1</td>\n",
       "      <td>N</td>\n",
       "      <td>-73.969650</td>\n",
       "      <td>40.757767</td>\n",
       "      <td>1</td>\n",
       "      <td>31.5</td>\n",
       "      <td>0.0</td>\n",
       "      <td>0.5</td>\n",
       "      <td>3.78</td>\n",
       "      <td>5.54</td>\n",
       "      <td>0.3</td>\n",
       "      <td>41.62</td>\n",
       "    </tr>\n",
       "    <tr>\n",
       "      <th>4</th>\n",
       "      <td>2</td>\n",
       "      <td>2016-03-01 00:00:00</td>\n",
       "      <td>2016-03-01 00:00:00</td>\n",
       "      <td>5</td>\n",
       "      <td>30.43</td>\n",
       "      <td>-73.971741</td>\n",
       "      <td>40.792183</td>\n",
       "      <td>3</td>\n",
       "      <td>N</td>\n",
       "      <td>-74.177170</td>\n",
       "      <td>40.695053</td>\n",
       "      <td>1</td>\n",
       "      <td>98.0</td>\n",
       "      <td>0.0</td>\n",
       "      <td>0.0</td>\n",
       "      <td>0.00</td>\n",
       "      <td>15.50</td>\n",
       "      <td>0.3</td>\n",
       "      <td>113.80</td>\n",
       "    </tr>\n",
       "    <tr>\n",
       "      <th>...</th>\n",
       "      <td>...</td>\n",
       "      <td>...</td>\n",
       "      <td>...</td>\n",
       "      <td>...</td>\n",
       "      <td>...</td>\n",
       "      <td>...</td>\n",
       "      <td>...</td>\n",
       "      <td>...</td>\n",
       "      <td>...</td>\n",
       "      <td>...</td>\n",
       "      <td>...</td>\n",
       "      <td>...</td>\n",
       "      <td>...</td>\n",
       "      <td>...</td>\n",
       "      <td>...</td>\n",
       "      <td>...</td>\n",
       "      <td>...</td>\n",
       "      <td>...</td>\n",
       "      <td>...</td>\n",
       "    </tr>\n",
       "    <tr>\n",
       "      <th>99995</th>\n",
       "      <td>1</td>\n",
       "      <td>2016-03-01 06:17:10</td>\n",
       "      <td>2016-03-01 06:22:15</td>\n",
       "      <td>1</td>\n",
       "      <td>0.50</td>\n",
       "      <td>-73.990898</td>\n",
       "      <td>40.750519</td>\n",
       "      <td>1</td>\n",
       "      <td>N</td>\n",
       "      <td>-73.998245</td>\n",
       "      <td>40.750462</td>\n",
       "      <td>2</td>\n",
       "      <td>5.0</td>\n",
       "      <td>0.0</td>\n",
       "      <td>0.5</td>\n",
       "      <td>0.00</td>\n",
       "      <td>0.00</td>\n",
       "      <td>0.3</td>\n",
       "      <td>5.80</td>\n",
       "    </tr>\n",
       "    <tr>\n",
       "      <th>99996</th>\n",
       "      <td>1</td>\n",
       "      <td>2016-03-01 06:17:10</td>\n",
       "      <td>2016-03-01 06:32:41</td>\n",
       "      <td>1</td>\n",
       "      <td>3.40</td>\n",
       "      <td>-74.014488</td>\n",
       "      <td>40.718296</td>\n",
       "      <td>1</td>\n",
       "      <td>N</td>\n",
       "      <td>-73.982361</td>\n",
       "      <td>40.752529</td>\n",
       "      <td>1</td>\n",
       "      <td>14.0</td>\n",
       "      <td>0.0</td>\n",
       "      <td>0.5</td>\n",
       "      <td>2.00</td>\n",
       "      <td>0.00</td>\n",
       "      <td>0.3</td>\n",
       "      <td>16.80</td>\n",
       "    </tr>\n",
       "    <tr>\n",
       "      <th>99997</th>\n",
       "      <td>1</td>\n",
       "      <td>2016-03-01 06:17:10</td>\n",
       "      <td>2016-03-01 06:37:23</td>\n",
       "      <td>1</td>\n",
       "      <td>9.70</td>\n",
       "      <td>-73.963379</td>\n",
       "      <td>40.774097</td>\n",
       "      <td>1</td>\n",
       "      <td>N</td>\n",
       "      <td>-73.865028</td>\n",
       "      <td>40.770512</td>\n",
       "      <td>1</td>\n",
       "      <td>29.0</td>\n",
       "      <td>0.0</td>\n",
       "      <td>0.5</td>\n",
       "      <td>8.80</td>\n",
       "      <td>5.54</td>\n",
       "      <td>0.3</td>\n",
       "      <td>44.14</td>\n",
       "    </tr>\n",
       "    <tr>\n",
       "      <th>99998</th>\n",
       "      <td>2</td>\n",
       "      <td>2016-03-01 06:17:10</td>\n",
       "      <td>2016-03-01 06:22:09</td>\n",
       "      <td>1</td>\n",
       "      <td>0.92</td>\n",
       "      <td>-73.984901</td>\n",
       "      <td>40.763111</td>\n",
       "      <td>1</td>\n",
       "      <td>N</td>\n",
       "      <td>-73.970695</td>\n",
       "      <td>40.759148</td>\n",
       "      <td>1</td>\n",
       "      <td>5.5</td>\n",
       "      <td>0.5</td>\n",
       "      <td>0.5</td>\n",
       "      <td>1.36</td>\n",
       "      <td>0.00</td>\n",
       "      <td>0.3</td>\n",
       "      <td>8.16</td>\n",
       "    </tr>\n",
       "    <tr>\n",
       "      <th>99999</th>\n",
       "      <td>1</td>\n",
       "      <td>2016-03-01 06:17:11</td>\n",
       "      <td>2016-03-01 06:22:00</td>\n",
       "      <td>1</td>\n",
       "      <td>1.00</td>\n",
       "      <td>-73.990685</td>\n",
       "      <td>40.750473</td>\n",
       "      <td>1</td>\n",
       "      <td>N</td>\n",
       "      <td>-73.980354</td>\n",
       "      <td>40.754910</td>\n",
       "      <td>2</td>\n",
       "      <td>6.0</td>\n",
       "      <td>0.0</td>\n",
       "      <td>0.5</td>\n",
       "      <td>0.00</td>\n",
       "      <td>0.00</td>\n",
       "      <td>0.3</td>\n",
       "      <td>6.80</td>\n",
       "    </tr>\n",
       "  </tbody>\n",
       "</table>\n",
       "<p>100000 rows × 19 columns</p>\n",
       "</div>"
      ],
      "text/plain": [
       "       VendorID tpep_pickup_datetime tpep_dropoff_datetime  passenger_count  \\\n",
       "0             1  2016-03-01 00:00:00   2016-03-01 00:07:55                1   \n",
       "1             1  2016-03-01 00:00:00   2016-03-01 00:11:06                1   \n",
       "2             2  2016-03-01 00:00:00   2016-03-01 00:31:06                2   \n",
       "3             2  2016-03-01 00:00:00   2016-03-01 00:00:00                3   \n",
       "4             2  2016-03-01 00:00:00   2016-03-01 00:00:00                5   \n",
       "...         ...                  ...                   ...              ...   \n",
       "99995         1  2016-03-01 06:17:10   2016-03-01 06:22:15                1   \n",
       "99996         1  2016-03-01 06:17:10   2016-03-01 06:32:41                1   \n",
       "99997         1  2016-03-01 06:17:10   2016-03-01 06:37:23                1   \n",
       "99998         2  2016-03-01 06:17:10   2016-03-01 06:22:09                1   \n",
       "99999         1  2016-03-01 06:17:11   2016-03-01 06:22:00                1   \n",
       "\n",
       "       trip_distance  pickup_longitude  pickup_latitude  RatecodeID  \\\n",
       "0               2.50        -73.976746        40.765152           1   \n",
       "1               2.90        -73.983482        40.767925           1   \n",
       "2              19.98        -73.782021        40.644810           1   \n",
       "3              10.78        -73.863419        40.769814           1   \n",
       "4              30.43        -73.971741        40.792183           3   \n",
       "...              ...               ...              ...         ...   \n",
       "99995           0.50        -73.990898        40.750519           1   \n",
       "99996           3.40        -74.014488        40.718296           1   \n",
       "99997           9.70        -73.963379        40.774097           1   \n",
       "99998           0.92        -73.984901        40.763111           1   \n",
       "99999           1.00        -73.990685        40.750473           1   \n",
       "\n",
       "      store_and_fwd_flag  dropoff_longitude  dropoff_latitude  payment_type  \\\n",
       "0                      N         -74.004265         40.746128             1   \n",
       "1                      N         -74.005943         40.733166             1   \n",
       "2                      N         -73.974541         40.675770             1   \n",
       "3                      N         -73.969650         40.757767             1   \n",
       "4                      N         -74.177170         40.695053             1   \n",
       "...                  ...                ...               ...           ...   \n",
       "99995                  N         -73.998245         40.750462             2   \n",
       "99996                  N         -73.982361         40.752529             1   \n",
       "99997                  N         -73.865028         40.770512             1   \n",
       "99998                  N         -73.970695         40.759148             1   \n",
       "99999                  N         -73.980354         40.754910             2   \n",
       "\n",
       "       fare_amount  extra  mta_tax  tip_amount  tolls_amount  \\\n",
       "0              9.0    0.5      0.5        2.05          0.00   \n",
       "1             11.0    0.5      0.5        3.05          0.00   \n",
       "2             54.5    0.5      0.5        8.00          0.00   \n",
       "3             31.5    0.0      0.5        3.78          5.54   \n",
       "4             98.0    0.0      0.0        0.00         15.50   \n",
       "...            ...    ...      ...         ...           ...   \n",
       "99995          5.0    0.0      0.5        0.00          0.00   \n",
       "99996         14.0    0.0      0.5        2.00          0.00   \n",
       "99997         29.0    0.0      0.5        8.80          5.54   \n",
       "99998          5.5    0.5      0.5        1.36          0.00   \n",
       "99999          6.0    0.0      0.5        0.00          0.00   \n",
       "\n",
       "       improvement_surcharge  total_amount  \n",
       "0                        0.3         12.35  \n",
       "1                        0.3         15.35  \n",
       "2                        0.3         63.80  \n",
       "3                        0.3         41.62  \n",
       "4                        0.3        113.80  \n",
       "...                      ...           ...  \n",
       "99995                    0.3          5.80  \n",
       "99996                    0.3         16.80  \n",
       "99997                    0.3         44.14  \n",
       "99998                    0.3          8.16  \n",
       "99999                    0.3          6.80  \n",
       "\n",
       "[100000 rows x 19 columns]"
      ]
     },
     "execution_count": 148,
     "metadata": {},
     "output_type": "execute_result"
    }
   ],
   "source": [
    "uber_data"
   ]
  },
  {
   "cell_type": "code",
   "execution_count": 163,
   "id": "aa843921-0cff-4317-a7e6-989a9de2a837",
   "metadata": {},
   "outputs": [
    {
     "name": "stderr",
     "output_type": "stream",
     "text": [
      "C:\\Users\\M.Srimanth\\AppData\\Local\\Temp\\ipykernel_11512\\281800614.py:2: FutureWarning: The default of observed=False is deprecated and will be changed to True in a future version of pandas. Pass observed=False to retain current behavior or observed=True to adopt the future default and silence this warning.\n",
      "  average_fare_by_distance = a.groupby('duration_min_bin')['tip_amount'].mean()\n"
     ]
    },
    {
     "data": {
      "image/png": "[encoded data removed]",
      "text/plain": [
       "<Figure size 640x480 with 1 Axes>"
      ]
     },
     "metadata": {},
     "output_type": "display_data"
    }
   ],
   "source": [
    "a['duration_min_bin'] = pd.cut(a['duration_minutes'], bins = 30)\n",
    "average_fare_by_distance = a.groupby('duration_min_bin')['tip_amount'].mean()\n",
    "\n",
    "# Plot the average fare by distance bin\n",
    "average_fare_by_distance.plot(kind='bar')\n",
    "plt.title('Average Fare by Duration Bin')\n",
    "plt.xlabel('Duration Bin')\n",
    "plt.ylabel('Average Tip')\n",
    "plt.show()"
   ]
  },
  {
   "cell_type": "code",
   "execution_count": null,
   "id": "05f9a479-bc81-448b-b52d-15349fd86e1c",
   "metadata": {},
   "outputs": [],
   "source": []
  }
 ],
 "metadata": {
  "kernelspec": {
   "display_name": "Python 3 (ipykernel)",
   "language": "python",
   "name": "python3"
  },
  "language_info": {
   "codemirror_mode": {
    "name": "ipython",
    "version": 3
   },
   "file_extension": ".py",
   "mimetype": "text/x-python",
   "name": "python",
   "nbconvert_exporter": "python",
   "pygments_lexer": "ipython3",
   "version": "3.11.4"
  }
 },
 "nbformat": 4,
 "nbformat_minor": 5
}
